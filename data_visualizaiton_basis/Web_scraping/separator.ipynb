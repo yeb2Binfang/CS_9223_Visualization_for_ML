{
  "nbformat": 4,
  "nbformat_minor": 0,
  "metadata": {
    "colab": {
      "name": "separator.ipynb",
      "provenance": [],
      "include_colab_link": true
    },
    "kernelspec": {
      "name": "python3",
      "display_name": "Python 3"
    }
  },
  "cells": [
    {
      "cell_type": "markdown",
      "metadata": {
        "id": "view-in-github",
        "colab_type": "text"
      },
      "source": [
        "<a href=\"https://colab.research.google.com/github/yeb2Binfang/CS_9223_Visualization_for_ML/blob/main/data_visualizaiton_basis/Web_scraping/separator.ipynb\" target=\"_parent\"><img src=\"https://colab.research.google.com/assets/colab-badge.svg\" alt=\"Open In Colab\"/></a>"
      ]
    },
    {
      "cell_type": "code",
      "metadata": {
        "id": "SbEIkfsIysfb"
      },
      "source": [
        "import re"
      ],
      "execution_count": null,
      "outputs": []
    },
    {
      "cell_type": "code",
      "metadata": {
        "id": "P-W40xheydhT"
      },
      "source": [
        "class Product:\n",
        "  def __init__(self):\n",
        "    self.api_keywords = [\"cnn\", \"bloomberg\"]\n",
        "    self.bs4_keywords = [\"\"]\n",
        "    self.selenium_keywords = [\"zerohedge\"]\n",
        "    self.scraper = None\n",
        "    self.miss = []\n",
        "\n",
        "  def separator(self, input):\n",
        "    endpoint = re.search(\"\\.com\", input.lower()).span()[0]\n",
        "    website = input[:endpoint].split(\".\")[-1]\n",
        "    if website in api_keywords:\n",
        "      self.scraper = \"api\" \n",
        "    elif website in bs4_keywords:\n",
        "      self.scraper = \"bs4\"\n",
        "    elif website in selenium_keywords:\n",
        "      self.scraper = \"selenium\"\n",
        "    else:\n",
        "      self.scraper = None\n",
        "      self.miss.append(input)\n",
        "      print(\"We don't support this website so far, will update soon\")\n"
      ],
      "execution_count": null,
      "outputs": []
    },
    {
      "cell_type": "code",
      "metadata": {
        "id": "AEYX1wH70EID"
      },
      "source": [
        "web = Product()"
      ],
      "execution_count": null,
      "outputs": []
    },
    {
      "cell_type": "code",
      "metadata": {
        "colab": {
          "base_uri": "https://localhost:8080/",
          "height": 35
        },
        "id": "wB5b2FP-y22d",
        "outputId": "56939ef1-cef9-4d7d-8678-d1963218c2df"
      },
      "source": [
        "link = \"zerohedge.com/news/2021-03-06/hunt-brothers-silver-squeeze-cftc-comex-insider-rig-history\"\n",
        "web.separator(link)\n",
        "web.scraper"
      ],
      "execution_count": null,
      "outputs": [
        {
          "output_type": "execute_result",
          "data": {
            "application/vnd.google.colaboratory.intrinsic+json": {
              "type": "string"
            },
            "text/plain": [
              "'selenium'"
            ]
          },
          "metadata": {
            "tags": []
          },
          "execution_count": 69
        }
      ]
    },
    {
      "cell_type": "code",
      "metadata": {
        "colab": {
          "base_uri": "https://localhost:8080/",
          "height": 35
        },
        "id": "_JCfh8fk14ya",
        "outputId": "cb81d1cd-73a5-4b53-c396-40a93c075dd0"
      },
      "source": [
        "link = \"https://www.cnn.com/2021/03/07/health/us-coronavirus-sunday/index.html\"\n",
        "web.separator(link)\n",
        "web.scraper"
      ],
      "execution_count": null,
      "outputs": [
        {
          "output_type": "execute_result",
          "data": {
            "application/vnd.google.colaboratory.intrinsic+json": {
              "type": "string"
            },
            "text/plain": [
              "'api'"
            ]
          },
          "metadata": {
            "tags": []
          },
          "execution_count": 70
        }
      ]
    },
    {
      "cell_type": "code",
      "metadata": {
        "colab": {
          "base_uri": "https://localhost:8080/"
        },
        "id": "5bqrfcH92LLh",
        "outputId": "802906a8-f3f9-4def-b263-95ced3502e4e"
      },
      "source": [
        "link = \"https://www.nytimes.com/2021/03/07/nyregion/cuomo-sex-harassment.html\"\n",
        "web.separator(link)\n",
        "web.scraper"
      ],
      "execution_count": null,
      "outputs": [
        {
          "output_type": "stream",
          "text": [
            "We don't support this website so far, will update soon\n"
          ],
          "name": "stdout"
        }
      ]
    },
    {
      "cell_type": "code",
      "metadata": {
        "id": "UxBaWYN02WKx"
      },
      "source": [
        ""
      ],
      "execution_count": null,
      "outputs": []
    }
  ]
}