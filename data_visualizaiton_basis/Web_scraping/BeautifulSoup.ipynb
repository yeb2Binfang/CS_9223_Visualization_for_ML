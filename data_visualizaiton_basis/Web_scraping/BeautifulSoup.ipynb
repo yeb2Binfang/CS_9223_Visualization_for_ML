{
  "nbformat": 4,
  "nbformat_minor": 0,
  "metadata": {
    "colab": {
      "name": "BeautifulSoup.ipynb",
      "provenance": [],
      "authorship_tag": "ABX9TyPGi4KYuBPJqXWX3kMlvr02",
      "include_colab_link": true
    },
    "kernelspec": {
      "name": "python3",
      "display_name": "Python 3"
    }
  },
  "cells": [
    {
      "cell_type": "markdown",
      "metadata": {
        "id": "view-in-github",
        "colab_type": "text"
      },
      "source": [
        "<a href=\"https://colab.research.google.com/github/yeb2Binfang/CS_9223_Visualization_for_ML/blob/main/data_visualizaiton_basis/Web_scraping/BeautifulSoup.ipynb\" target=\"_parent\"><img src=\"https://colab.research.google.com/assets/colab-badge.svg\" alt=\"Open In Colab\"/></a>"
      ]
    },
    {
      "cell_type": "code",
      "metadata": {
        "id": "tuEwlZJ836fr"
      },
      "source": [
        "import requests\r\n",
        "from bs4 import BeautifulSoup\r\n",
        "import pandas as pd\r\n"
      ],
      "execution_count": 37,
      "outputs": []
    },
    {
      "cell_type": "code",
      "metadata": {
        "id": "C4S4cU6g6qs2"
      },
      "source": [
        "url = 'https://blog.mozilla.org/'"
      ],
      "execution_count": 24,
      "outputs": []
    },
    {
      "cell_type": "code",
      "metadata": {
        "id": "aWZXKN6q61tN"
      },
      "source": [
        "headers = {'user-agent': 'Mozilla/5.0 (Windows NT 10.0; Win64; x64) AppleWebKit/537.36 (KHTML, like Gecko) Chrome/88.0.4324.190 Safari/537.36'}"
      ],
      "execution_count": 25,
      "outputs": []
    },
    {
      "cell_type": "code",
      "metadata": {
        "id": "qKRa--QI7Rt1"
      },
      "source": [
        "r = requests.get(url,headers=headers)"
      ],
      "execution_count": 26,
      "outputs": []
    },
    {
      "cell_type": "code",
      "metadata": {
        "colab": {
          "base_uri": "https://localhost:8080/"
        },
        "id": "hVMNH5b37cYE",
        "outputId": "5ecaa135-10c7-403d-b968-e7d024845bc4"
      },
      "source": [
        "print(r.status_code)"
      ],
      "execution_count": 27,
      "outputs": [
        {
          "output_type": "stream",
          "text": [
            "200\n"
          ],
          "name": "stdout"
        }
      ]
    },
    {
      "cell_type": "code",
      "metadata": {
        "id": "7lDeFpOI7eF6"
      },
      "source": [
        "soup = BeautifulSoup(r.content,features='lxml')"
      ],
      "execution_count": 29,
      "outputs": []
    },
    {
      "cell_type": "code",
      "metadata": {
        "id": "l5MN_pdQ7xjO"
      },
      "source": [
        "articles = soup.find_all('article',class_ = 'post-summary')"
      ],
      "execution_count": 30,
      "outputs": []
    },
    {
      "cell_type": "code",
      "metadata": {
        "colab": {
          "base_uri": "https://localhost:8080/"
        },
        "id": "HQKnwDDx8bAN",
        "outputId": "b3066be7-3093-4ef6-9d98-ef3171a6800d"
      },
      "source": [
        "print(articles)"
      ],
      "execution_count": 31,
      "outputs": [
        {
          "output_type": "stream",
          "text": [
            "[<article class=\"post-summary post-12967 post type-post status-publish format-standard has-post-thumbnail hentry category-uncategorized\" id=\"post-12967\">\n",
            "<header class=\"entry-header\">\n",
            "<a class=\"entry-link\" href=\"https://blog.mozilla.org/blog/2021/02/27/notes-on-addressing-supply-chain-vulnerabilities/\" rel=\"bookmark\" title=\"Permanent link to “Notes on Addressing Supply Chain Vulnerabilities”\">\n",
            "<div class=\"post-image post-image-large\">\n",
            "<img alt=\"\" class=\"attachment-post-large size-post-large wp-post-image\" height=\"330\" loading=\"lazy\" sizes=\"(max-width: 600px) 100vw, 600px\" src=\"https://ffp4g1ylyit3jdyti1hqcvtb-wpengine.netdna-ssl.com/wp-content/uploads/2020/04/header_blog_EKR_thumbnail_05_1400x770_200422-600x330.jpg\" srcset=\"https://blog.mozilla.org/wp-content/uploads/2020/04/header_blog_EKR_thumbnail_05_1400x770_200422-600x330.jpg 600w, https://blog.mozilla.org/wp-content/uploads/2020/04/header_blog_EKR_thumbnail_05_1400x770_200422-300x165.jpg 300w, https://blog.mozilla.org/wp-content/uploads/2020/04/header_blog_EKR_thumbnail_05_1400x770_200422-768x422.jpg 768w, https://blog.mozilla.org/wp-content/uploads/2020/04/header_blog_EKR_thumbnail_05_1400x770_200422.jpg 1400w, https://blog.mozilla.org/wp-content/uploads/2020/04/header_blog_EKR_thumbnail_05_1400x770_200422-1000x550.jpg 1000w\" width=\"600\"/> </div>\n",
            "<h2 class=\"entry-title\">Notes on Addressing Supply Chain Vulnerabilities</h2>\n",
            "</a>\n",
            "<div class=\"entry-info\">\n",
            "<address class=\"vcard\">\n",
            "<a class=\"author url fn\" href=\"https://blog.mozilla.org/blog/author/ekrmozilla-com/\" rel=\"author\" title=\"Posts by Eric Rescorla\">Eric Rescorla</a> </address>\n",
            "<time class=\"date published\" datetime=\"2021-02-27T14:41:11-08:00\">February 27, 2021</time>\n",
            "</div>\n",
            "</header>\n",
            "<div class=\"entry-summary\">\n",
            "<p>Addressing Supply Chain Vulnerabilities One of the unsung achievements of modern software development is the degree to which it has become componentized: not that long ago, when you wanted to … <a class=\"go\" href=\"https://blog.mozilla.org/blog/2021/02/27/notes-on-addressing-supply-chain-vulnerabilities/\">Read more</a></p>\n",
            "</div>\n",
            "</article>, <article class=\"post-summary post-12956 post type-post status-publish format-standard has-post-thumbnail hentry category-firefox category-uncategorized\" id=\"post-12956\">\n",
            "<header class=\"entry-header\">\n",
            "<a class=\"entry-link\" href=\"https://blog.mozilla.org/blog/2021/02/23/latest-firefox-release-includes-multiple-picture-in-picture-and-total-cookie-protection/\" rel=\"bookmark\" title=\"Permanent link to “Latest Firefox release includes Multiple Picture-in-Picture and Total Cookie Protection”\">\n",
            "<div class=\"post-image post-image-large\">\n",
            "<img alt=\"\" class=\"attachment-post-large size-post-large wp-post-image\" height=\"330\" loading=\"lazy\" sizes=\"(max-width: 600px) 100vw, 600px\" src=\"https://ffp4g1ylyit3jdyti1hqcvtb-wpengine.netdna-ssl.com/wp-content/uploads/2021/02/cookie-header-dark-3-600x330.png\" srcset=\"https://blog.mozilla.org/wp-content/uploads/2021/02/cookie-header-dark-3-600x330.png 600w, https://blog.mozilla.org/wp-content/uploads/2021/02/cookie-header-dark-3-1400x770.png 1400w, https://blog.mozilla.org/wp-content/uploads/2021/02/cookie-header-dark-3-300x165.png 300w\" width=\"600\"/> </div>\n",
            "<h2 class=\"entry-title\">Latest Firefox release includes Multiple Picture-in-Picture and Total Cookie Protection</h2>\n",
            "</a>\n",
            "<div class=\"entry-info\">\n",
            "<address class=\"vcard\">\n",
            "<a class=\"author url fn\" href=\"https://blog.mozilla.org/blog/author/sdeckelmannmozilla-com/\" rel=\"author\" title=\"Posts by Selena Deckelmann\">Selena Deckelmann</a> </address>\n",
            "<time class=\"date published\" datetime=\"2021-02-23T06:02:18-08:00\">February 23, 2021</time>\n",
            "</div>\n",
            "</header>\n",
            "<div class=\"entry-summary\">\n",
            "<p>Beginning last year, the internet began playing a bigger role in our lives than ever before. In the US, we went from only three percent of workers to more than … <a class=\"go\" href=\"https://blog.mozilla.org/blog/2021/02/23/latest-firefox-release-includes-multiple-picture-in-picture-and-total-cookie-protection/\">Read more</a></p>\n",
            "</div>\n",
            "</article>, <article class=\"post-summary post-12951 post type-post status-publish format-standard hentry category-about-mozilla\" id=\"post-12951\">\n",
            "<header class=\"entry-header\">\n",
            "<a class=\"entry-link\" href=\"https://blog.mozilla.org/blog/2021/02/18/expanding-mozillas-boards/\" rel=\"bookmark\" title=\"Permanent link to “Expanding Mozilla’s Boards”\">\n",
            "<div class=\"post-image post-image-large\">\n",
            "<img class=\"wp-post-image image-fallback color-6\" height=\"330\" src=\"https://ffp4g1ylyit3jdyti1hqcvtb-wpengine.netdna-ssl.com/wp-content/themes/frontierline/img/fallbacks/pattern-6.png\" width=\"600\"/>\n",
            "</div>\n",
            "<h2 class=\"entry-title\">Expanding Mozilla’s Boards</h2>\n",
            "</a>\n",
            "<div class=\"entry-info\">\n",
            "<address class=\"vcard\">\n",
            "<a class=\"author url fn\" href=\"https://blog.mozilla.org/blog/author/mitchellmozillacom/\" rel=\"author\" title=\"Posts by Mitchell Baker\">Mitchell Baker</a> </address>\n",
            "<time class=\"date published\" datetime=\"2021-02-18T09:41:48-08:00\">February 18, 2021</time>\n",
            "</div>\n",
            "</header>\n",
            "<div class=\"entry-summary\">\n",
            "<p>I’m delighted to share that the Mozilla Foundation and Corporation Boards are each welcoming a new member. Wambui Kinya is Vice President of Partner Engineering at Andela, a Lagos-based global … <a class=\"go\" href=\"https://blog.mozilla.org/blog/2021/02/18/expanding-mozillas-boards/\">Read more</a></p>\n",
            "</div>\n",
            "</article>, <article class=\"post-summary post-12947 post type-post status-publish format-standard hentry category-uncategorized\" id=\"post-12947\">\n",
            "<header class=\"entry-header\">\n",
            "<a class=\"entry-link\" href=\"https://blog.mozilla.org/blog/2021/02/18/why-im-joining-mozillas-board-of-directors-2/\" rel=\"bookmark\" title=\"Permanent link to “Why I’m Joining Mozilla’s Board of Directors”\">\n",
            "<div class=\"post-image post-image-large\">\n",
            "<img class=\"wp-post-image image-fallback color-5\" height=\"330\" src=\"https://ffp4g1ylyit3jdyti1hqcvtb-wpengine.netdna-ssl.com/wp-content/themes/frontierline/img/fallbacks/pattern-5.png\" width=\"600\"/>\n",
            "</div>\n",
            "<h2 class=\"entry-title\">Why I’m Joining Mozilla’s Board of Directors</h2>\n",
            "</a>\n",
            "<div class=\"entry-info\">\n",
            "<address class=\"vcard\">\n",
            "<a class=\"author url fn\" href=\"https://blog.mozilla.org/blog/author/lchamberswillowpump-com/\" rel=\"author\" title=\"Posts by Laura Chambers\">Laura Chambers</a> </address>\n",
            "<time class=\"date published\" datetime=\"2021-02-18T09:37:24-08:00\">February 18, 2021</time>\n",
            "</div>\n",
            "</header>\n",
            "<div class=\"entry-summary\">\n",
            "<p>Like many of us I suspect, I have long been a fairly passive “end-user” of the internet. In my daily life, I’ve merrily skipped along it to simplify and accelerate … <a class=\"go\" href=\"https://blog.mozilla.org/blog/2021/02/18/why-im-joining-mozillas-board-of-directors-2/\">Read more</a></p>\n",
            "</div>\n",
            "</article>, <article class=\"post-summary post-12941 post type-post status-publish format-standard hentry category-uncategorized\" id=\"post-12941\">\n",
            "<header class=\"entry-header\">\n",
            "<a class=\"entry-link\" href=\"https://blog.mozilla.org/blog/2021/02/18/why-im-joining-mozillas-board-of-directors/\" rel=\"bookmark\" title=\"Permanent link to “Why I’m Joining Mozilla’s Board of Directors”\">\n",
            "<div class=\"post-image post-image-large\">\n",
            "<img class=\"wp-post-image image-fallback color-3\" height=\"330\" src=\"https://ffp4g1ylyit3jdyti1hqcvtb-wpengine.netdna-ssl.com/wp-content/themes/frontierline/img/fallbacks/pattern-3.png\" width=\"600\"/>\n",
            "</div>\n",
            "<h2 class=\"entry-title\">Why I’m Joining Mozilla’s Board of Directors</h2>\n",
            "</a>\n",
            "<div class=\"entry-info\">\n",
            "<address class=\"vcard\">\n",
            "<a class=\"author url fn\" href=\"https://blog.mozilla.org/blog/author/wamboyeegmail-com/\" rel=\"author\" title=\"Posts by Wambui Kinya\">Wambui Kinya</a> </address>\n",
            "<time class=\"date published\" datetime=\"2021-02-18T06:46:14-08:00\">February 18, 2021</time>\n",
            "</div>\n",
            "</header>\n",
            "<div class=\"entry-summary\">\n",
            "<p> My introduction to Mozilla was when Firefox was first launched. I was starting my career as a software developer in Boston, MA at the time. My experience was Firefox was … <a class=\"go\" href=\"https://blog.mozilla.org/blog/2021/02/18/why-im-joining-mozillas-board-of-directors/\">Read more</a></p>\n",
            "</div>\n",
            "</article>, <article class=\"post-summary post-12938 post type-post status-publish format-standard hentry category-trustworthy-ai\" id=\"post-12938\">\n",
            "<header class=\"entry-header\">\n",
            "<a class=\"entry-link\" href=\"https://blog.mozilla.org/blog/2021/02/10/next-steps-on-trustworthy-ai-transparency-bias-and-better-data-governance/\" rel=\"bookmark\" title=\"Permanent link to “Next steps on trustworthy AI: transparency, bias and better data governance”\">\n",
            "<div class=\"post-image post-image-large\">\n",
            "<img class=\"wp-post-image image-fallback color-3\" height=\"330\" src=\"https://ffp4g1ylyit3jdyti1hqcvtb-wpengine.netdna-ssl.com/wp-content/themes/frontierline/img/fallbacks/pattern-3.png\" width=\"600\"/>\n",
            "</div>\n",
            "<h2 class=\"entry-title\">Next steps on trustworthy AI: transparency, bias and better data governance</h2>\n",
            "</a>\n",
            "<div class=\"entry-info\">\n",
            "<address class=\"vcard\">\n",
            "<a class=\"author url fn\" href=\"https://blog.mozilla.org/blog/author/markmozillafoundation-org/\" rel=\"author\" title=\"Posts by Mark Surman\">Mark Surman</a> </address>\n",
            "<time class=\"date published\" datetime=\"2021-02-10T08:09:09-08:00\">February 10, 2021</time>\n",
            "</div>\n",
            "</header>\n",
            "<div class=\"entry-summary\">\n",
            "<p>Over the last few years, Mozilla has turned its attention to AI, asking: how can we make the data driven technologies we all use everyday more trustworthy? How can we … <a class=\"go\" href=\"https://blog.mozilla.org/blog/2021/02/10/next-steps-on-trustworthy-ai-transparency-bias-and-better-data-governance/\">Read more</a></p>\n",
            "</div>\n",
            "</article>, <article class=\"post-summary post-12920 post type-post status-publish format-standard has-post-thumbnail hentry category-uncategorized tag-rust\" id=\"post-12920\">\n",
            "<header class=\"entry-header\">\n",
            "<a class=\"entry-link\" href=\"https://blog.mozilla.org/blog/2021/02/08/mozilla-welcomes-the-rust-foundation/\" rel=\"bookmark\" title=\"Permanent link to “Mozilla Welcomes the Rust Foundation”\">\n",
            "<div class=\"post-image post-image-large\">\n",
            "<img alt=\"Rust Logo\" class=\"attachment-post-large size-post-large wp-post-image\" height=\"330\" loading=\"lazy\" src=\"https://ffp4g1ylyit3jdyti1hqcvtb-wpengine.netdna-ssl.com/wp-content/uploads/2021/02/Rust-Logo-416x330.png\" width=\"416\"/> </div>\n",
            "<h2 class=\"entry-title\">Mozilla Welcomes the Rust Foundation</h2>\n",
            "</a>\n",
            "<div class=\"entry-info\">\n",
            "<address class=\"vcard\">\n",
            "<a class=\"author url fn\" href=\"https://blog.mozilla.org/blog/author/dnazermozilla-com/\" rel=\"author\" title=\"Posts by Daniel Nazer\">Daniel Nazer</a> </address>\n",
            "<time class=\"date published\" datetime=\"2021-02-08T09:07:46-08:00\">February 8, 2021</time>\n",
            "</div>\n",
            "</header>\n",
            "<div class=\"entry-summary\">\n",
            "<p>Today Mozilla is thrilled to join the Rust community in announcing the formation of the Rust Foundation. The Rust Foundation will be the home of the popular Rust programming language … <a class=\"go\" href=\"https://blog.mozilla.org/blog/2021/02/08/mozilla-welcomes-the-rust-foundation/\">Read more</a></p>\n",
            "</div>\n",
            "</article>, <article class=\"post-summary post-12927 post type-post status-publish format-standard has-post-thumbnail hentry category-uncategorized\" id=\"post-12927\">\n",
            "<header class=\"entry-header\">\n",
            "<a class=\"entry-link\" href=\"https://blog.mozilla.org/blog/2021/02/04/what-webrtc-means-for-you/\" rel=\"bookmark\" title=\"Permanent link to “What WebRTC means for you”\">\n",
            "<div class=\"post-image post-image-large\">\n",
            "<img alt=\"\" class=\"attachment-post-large size-post-large wp-post-image\" height=\"330\" loading=\"lazy\" sizes=\"(max-width: 600px) 100vw, 600px\" src=\"https://ffp4g1ylyit3jdyti1hqcvtb-wpengine.netdna-ssl.com/wp-content/uploads/2020/04/header_blog_EKR_thumbnail_03_1400x770_200422-600x330.jpg\" srcset=\"https://blog.mozilla.org/wp-content/uploads/2020/04/header_blog_EKR_thumbnail_03_1400x770_200422-600x330.jpg 600w, https://blog.mozilla.org/wp-content/uploads/2020/04/header_blog_EKR_thumbnail_03_1400x770_200422-300x165.jpg 300w, https://blog.mozilla.org/wp-content/uploads/2020/04/header_blog_EKR_thumbnail_03_1400x770_200422-768x422.jpg 768w, https://blog.mozilla.org/wp-content/uploads/2020/04/header_blog_EKR_thumbnail_03_1400x770_200422.jpg 1400w, https://blog.mozilla.org/wp-content/uploads/2020/04/header_blog_EKR_thumbnail_03_1400x770_200422-1000x550.jpg 1000w\" width=\"600\"/> </div>\n",
            "<h2 class=\"entry-title\">What WebRTC means for you</h2>\n",
            "</a>\n",
            "<div class=\"entry-info\">\n",
            "<address class=\"vcard\">\n",
            "<a class=\"author url fn\" href=\"https://blog.mozilla.org/blog/author/ekrmozilla-com/\" rel=\"author\" title=\"Posts by Eric Rescorla\">Eric Rescorla</a> </address>\n",
            "<time class=\"date published\" datetime=\"2021-02-04T13:51:03-08:00\">February 4, 2021</time>\n",
            "</div>\n",
            "</header>\n",
            "<div class=\"entry-summary\">\n",
            "<p>If I told you that two weeks ago IETF and W3C finally published the standards for WebRTC, your response would probably be to ask what all those acronyms were. Read … <a class=\"go\" href=\"https://blog.mozilla.org/blog/2021/02/04/what-webrtc-means-for-you/\">Read more</a></p>\n",
            "</div>\n",
            "</article>, <article class=\"post-summary post-12917 post type-post status-publish format-standard has-post-thumbnail hentry category-uncategorized\" id=\"post-12917\">\n",
            "<header class=\"entry-header\">\n",
            "<a class=\"entry-link\" href=\"https://blog.mozilla.org/blog/2021/01/26/why-getting-voting-right-is-hard-part-v-dres-spoiler-theyre-bad/\" rel=\"bookmark\" title=\"Permanent link to “Why getting voting right is hard, Part V: DREs (spoiler: they’re bad)”\">\n",
            "<div class=\"post-image post-image-large\">\n",
            "<img alt=\"\" class=\"attachment-post-large size-post-large wp-post-image\" height=\"330\" loading=\"lazy\" sizes=\"(max-width: 600px) 100vw, 600px\" src=\"https://ffp4g1ylyit3jdyti1hqcvtb-wpengine.netdna-ssl.com/wp-content/uploads/2020/04/header_blog_EKR_thumbnail_05_1400x770_200422-600x330.jpg\" srcset=\"https://blog.mozilla.org/wp-content/uploads/2020/04/header_blog_EKR_thumbnail_05_1400x770_200422-600x330.jpg 600w, https://blog.mozilla.org/wp-content/uploads/2020/04/header_blog_EKR_thumbnail_05_1400x770_200422-300x165.jpg 300w, https://blog.mozilla.org/wp-content/uploads/2020/04/header_blog_EKR_thumbnail_05_1400x770_200422-768x422.jpg 768w, https://blog.mozilla.org/wp-content/uploads/2020/04/header_blog_EKR_thumbnail_05_1400x770_200422.jpg 1400w, https://blog.mozilla.org/wp-content/uploads/2020/04/header_blog_EKR_thumbnail_05_1400x770_200422-1000x550.jpg 1000w\" width=\"600\"/> </div>\n",
            "<h2 class=\"entry-title\">Why getting voting right is hard, Part V: DREs (spoiler: they’re bad)</h2>\n",
            "</a>\n",
            "<div class=\"entry-info\">\n",
            "<address class=\"vcard\">\n",
            "<a class=\"author url fn\" href=\"https://blog.mozilla.org/blog/author/ekrmozilla-com/\" rel=\"author\" title=\"Posts by Eric Rescorla\">Eric Rescorla</a> </address>\n",
            "<time class=\"date published\" datetime=\"2021-01-26T07:41:45-08:00\">January 26, 2021</time>\n",
            "</div>\n",
            "</header>\n",
            "<div class=\"entry-summary\">\n",
            "<p>This is the fifth post in my series on voting systems (catch up on parts I, II, III and IV), focusing on computerized voting machines. The technical term for these … <a class=\"go\" href=\"https://blog.mozilla.org/blog/2021/01/26/why-getting-voting-right-is-hard-part-v-dres-spoiler-theyre-bad/\">Read more</a></p>\n",
            "</div>\n",
            "</article>, <article class=\"post-summary post-12910 post type-post status-publish format-standard has-post-thumbnail hentry category-sustainability tag-climate-commitments tag-environment tag-sustainability\" id=\"post-12910\">\n",
            "<header class=\"entry-header\">\n",
            "<a class=\"entry-link\" href=\"https://blog.mozilla.org/blog/2021/01/21/mozillas-climate-commitments/\" rel=\"bookmark\" title=\"Permanent link to “Mozilla’s Climate Commitments”\">\n",
            "<div class=\"post-image post-image-large\">\n",
            "<img alt=\"\" class=\"attachment-post-large size-post-large wp-post-image\" height=\"330\" loading=\"lazy\" sizes=\"(max-width: 600px) 100vw, 600px\" src=\"https://ffp4g1ylyit3jdyti1hqcvtb-wpengine.netdna-ssl.com/wp-content/uploads/2021/01/moz_blog_header_sustainability_2020_05-600x330.png\" srcset=\"https://blog.mozilla.org/wp-content/uploads/2021/01/moz_blog_header_sustainability_2020_05-600x330.png 600w, https://blog.mozilla.org/wp-content/uploads/2021/01/moz_blog_header_sustainability_2020_05-1400x770.png 1400w, https://blog.mozilla.org/wp-content/uploads/2021/01/moz_blog_header_sustainability_2020_05-300x165.png 300w\" width=\"600\"/> </div>\n",
            "<h2 class=\"entry-title\">Mozilla’s Climate Commitments</h2>\n",
            "</a>\n",
            "<div class=\"entry-info\">\n",
            "<address class=\"vcard\">\n",
            "<a class=\"author url fn\" href=\"https://blog.mozilla.org/blog/author/cbergermozilla-com/\" rel=\"author\" title=\"Posts by Cathleen Berger\">Cathleen Berger</a> </address>\n",
            "<time class=\"date published\" datetime=\"2021-01-21T05:12:44-08:00\">January 21, 2021</time>\n",
            "</div>\n",
            "</header>\n",
            "<div class=\"entry-summary\">\n",
            "<p>Based on Mozilla’s greenhouse gas emissions assessment, we are now pledging carbon-neutrality as well as significant reductions in our organisation emissions going forward. <a class=\"go\" href=\"https://blog.mozilla.org/blog/2021/01/21/mozillas-climate-commitments/\">Read more</a></p>\n",
            "</div>\n",
            "</article>, <article class=\"post-summary post-12906 post type-post status-publish format-standard has-post-thumbnail hentry category-about-mozilla\" id=\"post-12906\">\n",
            "<header class=\"entry-header\">\n",
            "<a class=\"entry-link\" href=\"https://blog.mozilla.org/blog/2021/01/14/reimagine-open-building-a-healthier-internet/\" rel=\"bookmark\" title=\"Permanent link to “Reimagine Open: Building a Healthier Internet”\">\n",
            "<div class=\"post-image post-image-large\">\n",
            "<img alt=\"\" class=\"attachment-post-large size-post-large wp-post-image\" height=\"311\" loading=\"lazy\" sizes=\"(max-width: 517px) 100vw, 517px\" src=\"https://ffp4g1ylyit3jdyti1hqcvtb-wpengine.netdna-ssl.com/wp-content/uploads/2017/01/Mozilla.png\" srcset=\"https://blog.mozilla.org/wp-content/uploads/2017/01/Mozilla.png 517w, https://blog.mozilla.org/wp-content/uploads/2017/01/Mozilla-300x180.png 300w\" width=\"517\"/> </div>\n",
            "<h2 class=\"entry-title\">Reimagine Open: Building a Healthier Internet</h2>\n",
            "</a>\n",
            "<div class=\"entry-info\">\n",
            "<address class=\"vcard\">\n",
            "<a class=\"author url fn\" href=\"https://blog.mozilla.org/blog/author/adavidsonmozilla-com/\" rel=\"author\" title=\"Posts by Alan Davidson\">Alan Davidson</a> and <a class=\"author url fn\" href=\"https://blog.mozilla.org/blog/author/amunyuamozilla-com/\" rel=\"author\" title=\"Posts by Alice Munyua\">Alice Munyua</a> </address>\n",
            "<time class=\"date published\" datetime=\"2021-01-14T13:14:04-08:00\">January 14, 2021</time>\n",
            "</div>\n",
            "</header>\n",
            "<div class=\"entry-summary\">\n",
            "<p>Does the “openness” that made the internet so successful also inevitably lead to harms online? Is an open internet inherently a haven for illegal speech, for eroding privacy and security, … <a class=\"go\" href=\"https://blog.mozilla.org/blog/2021/01/14/reimagine-open-building-a-healthier-internet/\">Read more</a></p>\n",
            "</div>\n",
            "</article>, <article class=\"post-summary post-12903 post type-post status-publish format-standard has-post-thumbnail hentry category-uncategorized\" id=\"post-12903\">\n",
            "<header class=\"entry-header\">\n",
            "<a class=\"entry-link\" href=\"https://blog.mozilla.org/blog/2021/01/13/why-getting-voting-right-is-hard-part-iv-absentee-voting-and-vote-by-mail/\" rel=\"bookmark\" title=\"Permanent link to “Why getting voting right is hard, Part IV: Absentee Voting and Vote By Mail”\">\n",
            "<div class=\"post-image post-image-large\">\n",
            "<img alt=\"\" class=\"attachment-post-large size-post-large wp-post-image\" height=\"330\" loading=\"lazy\" sizes=\"(max-width: 600px) 100vw, 600px\" src=\"https://ffp4g1ylyit3jdyti1hqcvtb-wpengine.netdna-ssl.com/wp-content/uploads/2020/04/header_blog_EKR_thumbnail_03_1400x770_200422-600x330.jpg\" srcset=\"https://blog.mozilla.org/wp-content/uploads/2020/04/header_blog_EKR_thumbnail_03_1400x770_200422-600x330.jpg 600w, https://blog.mozilla.org/wp-content/uploads/2020/04/header_blog_EKR_thumbnail_03_1400x770_200422-300x165.jpg 300w, https://blog.mozilla.org/wp-content/uploads/2020/04/header_blog_EKR_thumbnail_03_1400x770_200422-768x422.jpg 768w, https://blog.mozilla.org/wp-content/uploads/2020/04/header_blog_EKR_thumbnail_03_1400x770_200422.jpg 1400w, https://blog.mozilla.org/wp-content/uploads/2020/04/header_blog_EKR_thumbnail_03_1400x770_200422-1000x550.jpg 1000w\" width=\"600\"/> </div>\n",
            "<h2 class=\"entry-title\">Why getting voting right is hard, Part IV: Absentee Voting and Vote By Mail</h2>\n",
            "</a>\n",
            "<div class=\"entry-info\">\n",
            "<address class=\"vcard\">\n",
            "<a class=\"author url fn\" href=\"https://blog.mozilla.org/blog/author/ekrmozilla-com/\" rel=\"author\" title=\"Posts by Eric Rescorla\">Eric Rescorla</a> </address>\n",
            "<time class=\"date published\" datetime=\"2021-01-13T17:08:16-08:00\">January 13, 2021</time>\n",
            "</div>\n",
            "</header>\n",
            "<div class=\"entry-summary\">\n",
            "<p>This is the fourth post in my series on voting systems. Part I covered requirements and then Part II and Part III covered in-person voting using paper ballots. However, paper … <a class=\"go\" href=\"https://blog.mozilla.org/blog/2021/01/13/why-getting-voting-right-is-hard-part-iv-absentee-voting-and-vote-by-mail/\">Read more</a></p>\n",
            "</div>\n",
            "</article>]\n"
          ],
          "name": "stdout"
        }
      ]
    },
    {
      "cell_type": "code",
      "metadata": {
        "id": "vM_NvBsX-dc8"
      },
      "source": [
        ""
      ],
      "execution_count": 63,
      "outputs": []
    },
    {
      "cell_type": "code",
      "metadata": {
        "colab": {
          "base_uri": "https://localhost:8080/"
        },
        "id": "3MnFDkza8cLq",
        "outputId": "1a03656d-076b-4b2c-fd92-d5484b487fea"
      },
      "source": [
        "article_list = []\r\n",
        "for item in articles:\r\n",
        "  title = item.find({'h2':'entry-title'}).text\r\n",
        "  date = item.find({'time':'date published'}).text\r\n",
        "  author = item.find({'address':'vcard'}).text.strip()\r\n",
        "  link = item.find({'a':'entry-link'})\r\n",
        "  p = item.find('p').text\r\n",
        "  article1 = {\r\n",
        "      'title':title,\r\n",
        "      'date':date,\r\n",
        "      'author':author,\r\n",
        "      'link':link['href'],\r\n",
        "      'p':p\r\n",
        "  }\r\n",
        "  print(link['href'])\r\n",
        "  article_list.append(article1)"
      ],
      "execution_count": 82,
      "outputs": [
        {
          "output_type": "stream",
          "text": [
            "https://blog.mozilla.org/blog/2021/02/27/notes-on-addressing-supply-chain-vulnerabilities/\n",
            "https://blog.mozilla.org/blog/2021/02/23/latest-firefox-release-includes-multiple-picture-in-picture-and-total-cookie-protection/\n",
            "https://blog.mozilla.org/blog/2021/02/18/expanding-mozillas-boards/\n",
            "https://blog.mozilla.org/blog/2021/02/18/why-im-joining-mozillas-board-of-directors-2/\n",
            "https://blog.mozilla.org/blog/2021/02/18/why-im-joining-mozillas-board-of-directors/\n",
            "https://blog.mozilla.org/blog/2021/02/10/next-steps-on-trustworthy-ai-transparency-bias-and-better-data-governance/\n",
            "https://blog.mozilla.org/blog/2021/02/08/mozilla-welcomes-the-rust-foundation/\n",
            "https://blog.mozilla.org/blog/2021/02/04/what-webrtc-means-for-you/\n",
            "https://blog.mozilla.org/blog/2021/01/26/why-getting-voting-right-is-hard-part-v-dres-spoiler-theyre-bad/\n",
            "https://blog.mozilla.org/blog/2021/01/21/mozillas-climate-commitments/\n",
            "https://blog.mozilla.org/blog/2021/01/14/reimagine-open-building-a-healthier-internet/\n",
            "https://blog.mozilla.org/blog/2021/01/13/why-getting-voting-right-is-hard-part-iv-absentee-voting-and-vote-by-mail/\n"
          ],
          "name": "stdout"
        }
      ]
    },
    {
      "cell_type": "code",
      "metadata": {
        "colab": {
          "base_uri": "https://localhost:8080/"
        },
        "id": "76KNQnM4BflH",
        "outputId": "ceaf50e5-0fdc-4792-8104-95cfa40ee98f"
      },
      "source": [
        "print(article_list)"
      ],
      "execution_count": 83,
      "outputs": [
        {
          "output_type": "stream",
          "text": [
            "[{'title': 'Notes on Addressing Supply Chain Vulnerabilities', 'date': 'February 27, 2021', 'author': 'Eric Rescorla', 'link': 'https://blog.mozilla.org/blog/2021/02/27/notes-on-addressing-supply-chain-vulnerabilities/', 'p': 'Addressing Supply Chain Vulnerabilities One of the unsung achievements of modern software development is the degree to which it has become componentized: not that long ago, when you wanted to … Read more'}, {'title': 'Latest Firefox release includes Multiple Picture-in-Picture and Total Cookie Protection', 'date': 'February 23, 2021', 'author': 'Selena Deckelmann', 'link': 'https://blog.mozilla.org/blog/2021/02/23/latest-firefox-release-includes-multiple-picture-in-picture-and-total-cookie-protection/', 'p': 'Beginning last year, the internet began playing a bigger role in our lives than ever before. In the US, we went from only three percent of workers to more than … Read more'}, {'title': 'Expanding Mozilla’s Boards', 'date': 'February 18, 2021', 'author': 'Mitchell Baker', 'link': 'https://blog.mozilla.org/blog/2021/02/18/expanding-mozillas-boards/', 'p': 'I’m delighted to share that the Mozilla Foundation and Corporation Boards are each welcoming a new member. Wambui Kinya is Vice President of Partner Engineering at Andela, a Lagos-based global … Read more'}, {'title': 'Why I’m Joining Mozilla’s Board of Directors', 'date': 'February 18, 2021', 'author': 'Laura Chambers', 'link': 'https://blog.mozilla.org/blog/2021/02/18/why-im-joining-mozillas-board-of-directors-2/', 'p': 'Like many of us I suspect, I have long been a fairly passive “end-user” of the internet. In my daily life, I’ve merrily skipped along it to simplify and accelerate … Read more'}, {'title': 'Why I’m Joining Mozilla’s Board of Directors', 'date': 'February 18, 2021', 'author': 'Wambui Kinya', 'link': 'https://blog.mozilla.org/blog/2021/02/18/why-im-joining-mozillas-board-of-directors/', 'p': '\\xa0My introduction to Mozilla was when Firefox was first launched. I was starting my career as a software developer in Boston, MA at the time. My experience was Firefox was … Read more'}, {'title': 'Next steps on trustworthy AI: transparency, bias and better data governance', 'date': 'February 10, 2021', 'author': 'Mark Surman', 'link': 'https://blog.mozilla.org/blog/2021/02/10/next-steps-on-trustworthy-ai-transparency-bias-and-better-data-governance/', 'p': 'Over the last few years, Mozilla has turned its attention to AI, asking: how can we make the data driven technologies we all use everyday more trustworthy? How can we … Read more'}, {'title': 'Mozilla Welcomes the Rust Foundation', 'date': 'February 8, 2021', 'author': 'Daniel Nazer', 'link': 'https://blog.mozilla.org/blog/2021/02/08/mozilla-welcomes-the-rust-foundation/', 'p': 'Today Mozilla is thrilled to join the Rust community in announcing the formation of the Rust Foundation. The Rust Foundation will be the home of the popular Rust programming language … Read more'}, {'title': 'What WebRTC means for you', 'date': 'February 4, 2021', 'author': 'Eric Rescorla', 'link': 'https://blog.mozilla.org/blog/2021/02/04/what-webrtc-means-for-you/', 'p': 'If I told you that two weeks ago IETF and W3C finally published the standards for WebRTC, your response would probably be to ask what all those acronyms were. Read … Read more'}, {'title': 'Why getting voting right is hard, Part V: DREs (spoiler: they’re bad)', 'date': 'January 26, 2021', 'author': 'Eric Rescorla', 'link': 'https://blog.mozilla.org/blog/2021/01/26/why-getting-voting-right-is-hard-part-v-dres-spoiler-theyre-bad/', 'p': 'This is the fifth post in my series on voting systems (catch up on parts I, II, III and IV), focusing on computerized voting machines. The technical term for these … Read more'}, {'title': 'Mozilla’s Climate Commitments', 'date': 'January 21, 2021', 'author': 'Cathleen Berger', 'link': 'https://blog.mozilla.org/blog/2021/01/21/mozillas-climate-commitments/', 'p': 'Based on Mozilla’s greenhouse gas emissions assessment, we are now pledging carbon-neutrality as well as significant reductions in our organisation emissions going forward. Read more'}, {'title': 'Reimagine Open: Building a Healthier Internet', 'date': 'January 14, 2021', 'author': 'Alan Davidson and Alice Munyua', 'link': 'https://blog.mozilla.org/blog/2021/01/14/reimagine-open-building-a-healthier-internet/', 'p': 'Does the “openness” that made the internet so successful also inevitably lead to harms online? Is an open internet inherently a haven for illegal speech, for eroding privacy and security, … Read more'}, {'title': 'Why getting voting right is hard, Part IV: Absentee Voting and Vote By Mail', 'date': 'January 13, 2021', 'author': 'Eric Rescorla', 'link': 'https://blog.mozilla.org/blog/2021/01/13/why-getting-voting-right-is-hard-part-iv-absentee-voting-and-vote-by-mail/', 'p': 'This is the fourth post in my series on voting systems. Part I covered requirements and then Part II and Part III covered in-person voting using paper ballots. However, paper … Read more'}]\n"
          ],
          "name": "stdout"
        }
      ]
    },
    {
      "cell_type": "code",
      "metadata": {
        "id": "rUIou7NS9bhm"
      },
      "source": [
        "df = pd.DataFrame(article_list)"
      ],
      "execution_count": 84,
      "outputs": []
    },
    {
      "cell_type": "code",
      "metadata": {
        "colab": {
          "base_uri": "https://localhost:8080/",
          "height": 279
        },
        "id": "pi1S5ZUX_BBt",
        "outputId": "546c9046-6ed8-47b9-b83e-abe860efc48f"
      },
      "source": [
        "df.head()"
      ],
      "execution_count": 85,
      "outputs": [
        {
          "output_type": "execute_result",
          "data": {
            "text/html": [
              "<div>\n",
              "<style scoped>\n",
              "    .dataframe tbody tr th:only-of-type {\n",
              "        vertical-align: middle;\n",
              "    }\n",
              "\n",
              "    .dataframe tbody tr th {\n",
              "        vertical-align: top;\n",
              "    }\n",
              "\n",
              "    .dataframe thead th {\n",
              "        text-align: right;\n",
              "    }\n",
              "</style>\n",
              "<table border=\"1\" class=\"dataframe\">\n",
              "  <thead>\n",
              "    <tr style=\"text-align: right;\">\n",
              "      <th></th>\n",
              "      <th>title</th>\n",
              "      <th>date</th>\n",
              "      <th>author</th>\n",
              "      <th>link</th>\n",
              "      <th>p</th>\n",
              "    </tr>\n",
              "  </thead>\n",
              "  <tbody>\n",
              "    <tr>\n",
              "      <th>0</th>\n",
              "      <td>Notes on Addressing Supply Chain Vulnerabilities</td>\n",
              "      <td>February 27, 2021</td>\n",
              "      <td>Eric Rescorla</td>\n",
              "      <td>https://blog.mozilla.org/blog/2021/02/27/notes...</td>\n",
              "      <td>Addressing Supply Chain Vulnerabilities One of...</td>\n",
              "    </tr>\n",
              "    <tr>\n",
              "      <th>1</th>\n",
              "      <td>Latest Firefox release includes Multiple Pictu...</td>\n",
              "      <td>February 23, 2021</td>\n",
              "      <td>Selena Deckelmann</td>\n",
              "      <td>https://blog.mozilla.org/blog/2021/02/23/lates...</td>\n",
              "      <td>Beginning last year, the internet began playin...</td>\n",
              "    </tr>\n",
              "    <tr>\n",
              "      <th>2</th>\n",
              "      <td>Expanding Mozilla’s Boards</td>\n",
              "      <td>February 18, 2021</td>\n",
              "      <td>Mitchell Baker</td>\n",
              "      <td>https://blog.mozilla.org/blog/2021/02/18/expan...</td>\n",
              "      <td>I’m delighted to share that the Mozilla Founda...</td>\n",
              "    </tr>\n",
              "    <tr>\n",
              "      <th>3</th>\n",
              "      <td>Why I’m Joining Mozilla’s Board of Directors</td>\n",
              "      <td>February 18, 2021</td>\n",
              "      <td>Laura Chambers</td>\n",
              "      <td>https://blog.mozilla.org/blog/2021/02/18/why-i...</td>\n",
              "      <td>Like many of us I suspect, I have long been a ...</td>\n",
              "    </tr>\n",
              "    <tr>\n",
              "      <th>4</th>\n",
              "      <td>Why I’m Joining Mozilla’s Board of Directors</td>\n",
              "      <td>February 18, 2021</td>\n",
              "      <td>Wambui Kinya</td>\n",
              "      <td>https://blog.mozilla.org/blog/2021/02/18/why-i...</td>\n",
              "      <td>My introduction to Mozilla was when Firefox w...</td>\n",
              "    </tr>\n",
              "  </tbody>\n",
              "</table>\n",
              "</div>"
            ],
            "text/plain": [
              "                                               title  ...                                                  p\n",
              "0   Notes on Addressing Supply Chain Vulnerabilities  ...  Addressing Supply Chain Vulnerabilities One of...\n",
              "1  Latest Firefox release includes Multiple Pictu...  ...  Beginning last year, the internet began playin...\n",
              "2                         Expanding Mozilla’s Boards  ...  I’m delighted to share that the Mozilla Founda...\n",
              "3       Why I’m Joining Mozilla’s Board of Directors  ...  Like many of us I suspect, I have long been a ...\n",
              "4       Why I’m Joining Mozilla’s Board of Directors  ...   My introduction to Mozilla was when Firefox w...\n",
              "\n",
              "[5 rows x 5 columns]"
            ]
          },
          "metadata": {
            "tags": []
          },
          "execution_count": 85
        }
      ]
    },
    {
      "cell_type": "code",
      "metadata": {
        "id": "-x-voAlcDRGW"
      },
      "source": [
        "df.to_csv('articles.csv',index=False)"
      ],
      "execution_count": 88,
      "outputs": []
    },
    {
      "cell_type": "code",
      "metadata": {
        "id": "2AxJILRuDoTc"
      },
      "source": [
        ""
      ],
      "execution_count": null,
      "outputs": []
    }
  ]
}