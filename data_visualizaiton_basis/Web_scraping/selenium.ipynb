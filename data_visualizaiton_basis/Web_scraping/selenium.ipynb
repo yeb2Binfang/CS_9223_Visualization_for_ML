{
  "nbformat": 4,
  "nbformat_minor": 0,
  "metadata": {
    "colab": {
      "name": "selenium.ipynb",
      "provenance": [],
      "include_colab_link": true
    },
    "kernelspec": {
      "name": "python3",
      "display_name": "Python 3"
    }
  },
  "cells": [
    {
      "cell_type": "markdown",
      "metadata": {
        "id": "view-in-github",
        "colab_type": "text"
      },
      "source": [
        "<a href=\"https://colab.research.google.com/github/yeb2Binfang/CS_9223_Visualization_for_ML/blob/main/data_visualizaiton_basis/Web_scraping/selenium.ipynb\" target=\"_parent\"><img src=\"https://colab.research.google.com/assets/colab-badge.svg\" alt=\"Open In Colab\"/></a>"
      ]
    },
    {
      "cell_type": "code",
      "metadata": {
        "id": "H0JRnZTrH7GQ"
      },
      "source": [
        "#!pip install selenium\n",
        "#!apt-get update # to update ubuntu to correctly run apt install\n",
        "#!apt install chromium-chromedriver\n",
        "#!cp /usr/lib/chromium-browser/chromedriver /usr/bin"
      ],
      "execution_count": null,
      "outputs": []
    },
    {
      "cell_type": "code",
      "metadata": {
        "id": "5QagRmK29544"
      },
      "source": [
        "import pandas as pd"
      ],
      "execution_count": null,
      "outputs": []
    },
    {
      "cell_type": "code",
      "metadata": {
        "id": "Nsz0AoKTH71f"
      },
      "source": [
        "import sys\n",
        "import time\n",
        "sys.path.insert(0,'/usr/lib/chromium-browser/chromedriver')\n",
        "from selenium import webdriver\n",
        "chrome_options = webdriver.ChromeOptions()\n",
        "chrome_options.add_argument('--headless')\n",
        "chrome_options.add_argument('--no-sandbox')\n",
        "chrome_options.add_argument('--disable-dev-shm-usage')"
      ],
      "execution_count": null,
      "outputs": []
    },
    {
      "cell_type": "code",
      "metadata": {
        "id": "ILKXTIatIGfF"
      },
      "source": [
        "driver = webdriver.Chrome('chromedriver', options=chrome_options)\n",
        "driver.get(\"https://www.zerohedge.com/\")"
      ],
      "execution_count": null,
      "outputs": []
    },
    {
      "cell_type": "code",
      "metadata": {
        "id": "3Kqa4HpqP912"
      },
      "source": [
        "main_content = driver.find_element_by_xpath('//*[@id=\"__next\"]/div/div/div[5]/main/div/div[2]')\n",
        "#main_content.find_element_by_class_name(\"Article_stickyContainer__3eF3d Article_innerContainer__3fReU\")\n",
        "all = main_content.find_elements_by_xpath(\".//*\")\n",
        "#for i in all:\n",
        "#  print(i.text)"
      ],
      "execution_count": null,
      "outputs": []
    },
    {
      "cell_type": "code",
      "metadata": {
        "id": "0ISpeISsVRDG"
      },
      "source": [
        "articles = main_content.find_elements_by_class_name(\"Article_title__ySJA_\")"
      ],
      "execution_count": null,
      "outputs": []
    },
    {
      "cell_type": "code",
      "metadata": {
        "id": "LsM1cjyb8FEO"
      },
      "source": [
        "driver2 = webdriver.Chrome('chromedriver', options=chrome_options)"
      ],
      "execution_count": null,
      "outputs": []
    },
    {
      "cell_type": "code",
      "metadata": {
        "id": "W2iiEsdLWrAV"
      },
      "source": [
        "links = []\n",
        "headlines = []\n",
        "titles = []\n",
        "authors = []\n",
        "dates = []\n",
        "contents = []\n",
        "for i in articles:\n",
        "  # home page\n",
        "  headlines.append(i.text)\n",
        "  link = i.find_element_by_xpath(\".//*\").get_attribute('href')\n",
        "  links.append(link)\n",
        "  \n",
        "  # go into every link\n",
        "  driver2.get(link)\n",
        "  main = driver2.find_element_by_xpath('//*[@id=\"__next\"]/div/div[5]/main/article')\n",
        "  # title \n",
        "  title = main.find_element_by_xpath('//*[@id=\"__next\"]/div/div[5]/main/article/header/h1')\n",
        "  titles.append(title.text)\n",
        "  # author \n",
        "  author = main.find_element_by_xpath('//*[@id=\"__next\"]/div/div[5]/main/article/header/footer/div[1]')\n",
        "  authors.append(author.text)\n",
        "  # date\n",
        "  date = main.find_element_by_xpath('//*[@id=\"__next\"]/div/div[5]/main/article/header/footer/div[2]')\n",
        "  dates.append(date.text)\n",
        "  # content\n",
        "  content = driver2.find_element_by_xpath('//*[@id=\"__next\"]/div/div[5]/main/article/div[3]')\n",
        "  contents.append(content.text)"
      ],
      "execution_count": null,
      "outputs": []
    },
    {
      "cell_type": "code",
      "metadata": {
        "colab": {
          "base_uri": "https://localhost:8080/",
          "height": 1000
        },
        "id": "9VYpCI_X7uxr",
        "outputId": "30fb9ac8-68ba-4d6a-d031-0d7063cb258b"
      },
      "source": [
        "pd.DataFrame({'headline': headlines, 'link': links, 'date': dates, \n",
        "              'author': authors, 'content': contents})"
      ],
      "execution_count": null,
      "outputs": [
        {
          "output_type": "execute_result",
          "data": {
            "text/html": [
              "<div>\n",
              "<style scoped>\n",
              "    .dataframe tbody tr th:only-of-type {\n",
              "        vertical-align: middle;\n",
              "    }\n",
              "\n",
              "    .dataframe tbody tr th {\n",
              "        vertical-align: top;\n",
              "    }\n",
              "\n",
              "    .dataframe thead th {\n",
              "        text-align: right;\n",
              "    }\n",
              "</style>\n",
              "<table border=\"1\" class=\"dataframe\">\n",
              "  <thead>\n",
              "    <tr style=\"text-align: right;\">\n",
              "      <th></th>\n",
              "      <th>headline</th>\n",
              "      <th>link</th>\n",
              "      <th>date</th>\n",
              "      <th>author</th>\n",
              "      <th>content</th>\n",
              "    </tr>\n",
              "  </thead>\n",
              "  <tbody>\n",
              "    <tr>\n",
              "      <th>0</th>\n",
              "      <td>Another Market Paradox: Wall Street Struggles ...</td>\n",
              "      <td>https://www.zerohedge.com/markets/another-mark...</td>\n",
              "      <td>SUNDAY, MAR 07, 2021 - 18:40</td>\n",
              "      <td>BY TYLER DURDEN</td>\n",
              "      <td>Something bizarre is happening in the stock ma...</td>\n",
              "    </tr>\n",
              "    <tr>\n",
              "      <th>1</th>\n",
              "      <td>In Bombshell Statement, NY Senate Majority Lea...</td>\n",
              "      <td>https://www.zerohedge.com/political/two-more-w...</td>\n",
              "      <td>SUNDAY, MAR 07, 2021 - 11:37</td>\n",
              "      <td>BY TYLER DURDEN</td>\n",
              "      <td>Update (1530ET): The day just keeps getting wo...</td>\n",
              "    </tr>\n",
              "    <tr>\n",
              "      <th>2</th>\n",
              "      <td>Robo-Waiters Prove To Be A Necessity For Conta...</td>\n",
              "      <td>https://www.zerohedge.com/technology/robo-wait...</td>\n",
              "      <td>SUNDAY, MAR 07, 2021 - 22:30</td>\n",
              "      <td>BY TYLER DURDEN</td>\n",
              "      <td>About one-year into the virus pandemic, the re...</td>\n",
              "    </tr>\n",
              "    <tr>\n",
              "      <th>3</th>\n",
              "      <td>Money And Statistical Delusions</td>\n",
              "      <td>https://www.zerohedge.com/economics/money-and-...</td>\n",
              "      <td>SUNDAY, MAR 07, 2021 - 22:00</td>\n",
              "      <td>BY TYLER DURDEN</td>\n",
              "      <td>Authored by Alasdair Macleod via GoldMoney.com...</td>\n",
              "    </tr>\n",
              "    <tr>\n",
              "      <th>4</th>\n",
              "      <td>Ted Cruz Rage-Tweets 'Fact-Check' Of \"Lefty Pr...</td>\n",
              "      <td>https://www.zerohedge.com/political/ted-cruz-r...</td>\n",
              "      <td>SUNDAY, MAR 07, 2021 - 21:30</td>\n",
              "      <td>BY TYLER DURDEN</td>\n",
              "      <td>The passing, by The Senate, of the Biden admin...</td>\n",
              "    </tr>\n",
              "    <tr>\n",
              "      <th>5</th>\n",
              "      <td>PIMCO Rings The Alarm Over China's Sliding Cre...</td>\n",
              "      <td>https://www.zerohedge.com/markets/pimco-rings-...</td>\n",
              "      <td>SUNDAY, MAR 07, 2021 - 21:00</td>\n",
              "      <td>BY TYLER DURDEN</td>\n",
              "      <td>Three months after Zero Hedge subscribers were...</td>\n",
              "    </tr>\n",
              "    <tr>\n",
              "      <th>6</th>\n",
              "      <td>\"We'll Level Tel Aviv\": Iran Responds To Israe...</td>\n",
              "      <td>https://www.zerohedge.com/geopolitical/well-le...</td>\n",
              "      <td>SUNDAY, MAR 07, 2021 - 20:30</td>\n",
              "      <td>BY TYLER DURDEN</td>\n",
              "      <td>Iran has responded to a Fox News interview fro...</td>\n",
              "    </tr>\n",
              "    <tr>\n",
              "      <th>7</th>\n",
              "      <td>Hedge Fund CIO: The 1929 Crash Sparked A Chain...</td>\n",
              "      <td>https://www.zerohedge.com/markets/hedge-fund-c...</td>\n",
              "      <td>SUNDAY, MAR 07, 2021 - 20:00</td>\n",
              "      <td>BY TYLER DURDEN</td>\n",
              "      <td>By Eric Peters, CIO of One River Asset Managem...</td>\n",
              "    </tr>\n",
              "    <tr>\n",
              "      <th>8</th>\n",
              "      <td>Outrage Mob Goes After Cartoon Skunk Pepe Le P...</td>\n",
              "      <td>https://www.zerohedge.com/political/cancel-cul...</td>\n",
              "      <td>SUNDAY, MAR 07, 2021 - 19:30</td>\n",
              "      <td>BY TYLER DURDEN</td>\n",
              "      <td>The woke cancel culture mob continues trucking...</td>\n",
              "    </tr>\n",
              "    <tr>\n",
              "      <th>9</th>\n",
              "      <td>Sen. Blackburn Wants NBA To \"Come Clean\" On It...</td>\n",
              "      <td>https://www.zerohedge.com/political/sen-blackb...</td>\n",
              "      <td>SUNDAY, MAR 07, 2021 - 19:05</td>\n",
              "      <td>BY TYLER DURDEN</td>\n",
              "      <td>Authored by Cathy He via The Epoch Times,\\nSen...</td>\n",
              "    </tr>\n",
              "    <tr>\n",
              "      <th>10</th>\n",
              "      <td>Stocks, Crude, &amp; Crypto Explode Higher As Asia...</td>\n",
              "      <td>https://www.zerohedge.com/markets/stocks-crude...</td>\n",
              "      <td>SUNDAY, MAR 07, 2021 - 18:18</td>\n",
              "      <td>BY TYLER DURDEN</td>\n",
              "      <td>Just as we warned, US equity markets (massive ...</td>\n",
              "    </tr>\n",
              "    <tr>\n",
              "      <th>11</th>\n",
              "      <td>Betting The Farm On Moonshots</td>\n",
              "      <td>https://www.zerohedge.com/markets/betting-farm...</td>\n",
              "      <td>SUNDAY, MAR 07, 2021 - 18:00</td>\n",
              "      <td>BY TYLER DURDEN</td>\n",
              "      <td>Authored by MN Gordon via EconomicPrism.com,\\n...</td>\n",
              "    </tr>\n",
              "    <tr>\n",
              "      <th>12</th>\n",
              "      <td>Mega Squeeze Coming: Last Week Saw Biggest Hed...</td>\n",
              "      <td>https://www.zerohedge.com/markets/mega-squeeze...</td>\n",
              "      <td>SUNDAY, MAR 07, 2021 - 17:45</td>\n",
              "      <td>BY TYLER DURDEN</td>\n",
              "      <td>Last week was an emotional and P&amp;L rollercoast...</td>\n",
              "    </tr>\n",
              "    <tr>\n",
              "      <th>13</th>\n",
              "      <td>Ethereum Set To Soar As \"London\" Hard-Fork Get...</td>\n",
              "      <td>https://www.zerohedge.com/crypto/ethereum-set-...</td>\n",
              "      <td>SUNDAY, MAR 07, 2021 - 17:30</td>\n",
              "      <td>BY TYLER DURDEN</td>\n",
              "      <td>A hotly awaited upgrade to the Ethereum networ...</td>\n",
              "    </tr>\n",
              "    <tr>\n",
              "      <th>14</th>\n",
              "      <td>Morgan Stanley: 3 Reasons Why The Correction H...</td>\n",
              "      <td>https://www.zerohedge.com/markets/morgan-stanl...</td>\n",
              "      <td>SUNDAY, MAR 07, 2021 - 17:00</td>\n",
              "      <td>BY TYLER DURDEN</td>\n",
              "      <td>By Michael Wilson, Morgan Stanley chief US equ...</td>\n",
              "    </tr>\n",
              "    <tr>\n",
              "      <th>15</th>\n",
              "      <td>Brace For Oil Surge: Saudi Oil Tank In Ras Tan...</td>\n",
              "      <td>https://www.zerohedge.com/markets/saudi-oil-ta...</td>\n",
              "      <td>SUNDAY, MAR 07, 2021 - 16:55</td>\n",
              "      <td>BY TYLER DURDEN</td>\n",
              "      <td>It's not as if oil - the best performing class...</td>\n",
              "    </tr>\n",
              "    <tr>\n",
              "      <th>16</th>\n",
              "      <td>Urban Dictionary Bans \"Blue Anon\" Entry Defini...</td>\n",
              "      <td>https://www.zerohedge.com/political/urban-dict...</td>\n",
              "      <td>SUNDAY, MAR 07, 2021 - 16:30</td>\n",
              "      <td>BY TYLER DURDEN</td>\n",
              "      <td>The Urban Dictionary, which allows users to su...</td>\n",
              "    </tr>\n",
              "    <tr>\n",
              "      <th>17</th>\n",
              "      <td>Lloyd Austin Warns Iran: We'll Strike Back \"At...</td>\n",
              "      <td>https://www.zerohedge.com/geopolitical/lloyd-a...</td>\n",
              "      <td>SUNDAY, MAR 07, 2021 - 15:40</td>\n",
              "      <td>BY TYLER DURDEN</td>\n",
              "      <td>Very much akin to the events which led to the ...</td>\n",
              "    </tr>\n",
              "    <tr>\n",
              "      <th>18</th>\n",
              "      <td>Why Was Texas So Vulnerable To The Recent Freeze?</td>\n",
              "      <td>https://www.zerohedge.com/energy/why-was-texas...</td>\n",
              "      <td>SUNDAY, MAR 07, 2021 - 15:15</td>\n",
              "      <td>BY TYLER DURDEN</td>\n",
              "      <td>Authored by Chris Martenson via PeakProsperity...</td>\n",
              "    </tr>\n",
              "    <tr>\n",
              "      <th>19</th>\n",
              "      <td>Greyhound CEO Tells DHS Head Migrants Must Tes...</td>\n",
              "      <td>https://www.zerohedge.com/covid-19/greyhound-c...</td>\n",
              "      <td>SUNDAY, MAR 07, 2021 - 14:25</td>\n",
              "      <td>BY TYLER DURDEN</td>\n",
              "      <td>Authored by Samuel Allegri via The Epoch Times...</td>\n",
              "    </tr>\n",
              "  </tbody>\n",
              "</table>\n",
              "</div>"
            ],
            "text/plain": [
              "                                             headline  ...                                            content\n",
              "0   Another Market Paradox: Wall Street Struggles ...  ...  Something bizarre is happening in the stock ma...\n",
              "1   In Bombshell Statement, NY Senate Majority Lea...  ...  Update (1530ET): The day just keeps getting wo...\n",
              "2   Robo-Waiters Prove To Be A Necessity For Conta...  ...  About one-year into the virus pandemic, the re...\n",
              "3                     Money And Statistical Delusions  ...  Authored by Alasdair Macleod via GoldMoney.com...\n",
              "4   Ted Cruz Rage-Tweets 'Fact-Check' Of \"Lefty Pr...  ...  The passing, by The Senate, of the Biden admin...\n",
              "5   PIMCO Rings The Alarm Over China's Sliding Cre...  ...  Three months after Zero Hedge subscribers were...\n",
              "6   \"We'll Level Tel Aviv\": Iran Responds To Israe...  ...  Iran has responded to a Fox News interview fro...\n",
              "7   Hedge Fund CIO: The 1929 Crash Sparked A Chain...  ...  By Eric Peters, CIO of One River Asset Managem...\n",
              "8   Outrage Mob Goes After Cartoon Skunk Pepe Le P...  ...  The woke cancel culture mob continues trucking...\n",
              "9   Sen. Blackburn Wants NBA To \"Come Clean\" On It...  ...  Authored by Cathy He via The Epoch Times,\\nSen...\n",
              "10  Stocks, Crude, & Crypto Explode Higher As Asia...  ...  Just as we warned, US equity markets (massive ...\n",
              "11                      Betting The Farm On Moonshots  ...  Authored by MN Gordon via EconomicPrism.com,\\n...\n",
              "12  Mega Squeeze Coming: Last Week Saw Biggest Hed...  ...  Last week was an emotional and P&L rollercoast...\n",
              "13  Ethereum Set To Soar As \"London\" Hard-Fork Get...  ...  A hotly awaited upgrade to the Ethereum networ...\n",
              "14  Morgan Stanley: 3 Reasons Why The Correction H...  ...  By Michael Wilson, Morgan Stanley chief US equ...\n",
              "15  Brace For Oil Surge: Saudi Oil Tank In Ras Tan...  ...  It's not as if oil - the best performing class...\n",
              "16  Urban Dictionary Bans \"Blue Anon\" Entry Defini...  ...  The Urban Dictionary, which allows users to su...\n",
              "17  Lloyd Austin Warns Iran: We'll Strike Back \"At...  ...  Very much akin to the events which led to the ...\n",
              "18  Why Was Texas So Vulnerable To The Recent Freeze?  ...  Authored by Chris Martenson via PeakProsperity...\n",
              "19  Greyhound CEO Tells DHS Head Migrants Must Tes...  ...  Authored by Samuel Allegri via The Epoch Times...\n",
              "\n",
              "[20 rows x 5 columns]"
            ]
          },
          "metadata": {
            "tags": []
          },
          "execution_count": 68
        }
      ]
    },
    {
      "cell_type": "code",
      "metadata": {
        "colab": {
          "base_uri": "https://localhost:8080/"
        },
        "id": "fso3lAaA-rS0",
        "outputId": "b96deec5-30a8-4c63-f4cb-1c598ff123e9"
      },
      "source": [
        "links"
      ],
      "execution_count": null,
      "outputs": [
        {
          "output_type": "execute_result",
          "data": {
            "text/plain": [
              "['https://www.zerohedge.com/markets/another-market-paradox-wall-street-struggles-explain-record-equity-inflows-amid-stock',\n",
              " 'https://www.zerohedge.com/political/two-more-women-accuse-cuomo-harassment-lets-review-partisan-fawning-during-nursing-home',\n",
              " 'https://www.zerohedge.com/technology/robo-waiters-proves-be-necessity-contactless-portland-area-bistro',\n",
              " 'https://www.zerohedge.com/economics/money-and-statistical-delusions',\n",
              " 'https://www.zerohedge.com/political/ted-cruz-rage-tweets-fact-check-lefty-press-sen-durbins-lies-about-illegal-immigrants',\n",
              " 'https://www.zerohedge.com/markets/pimco-rings-alarm-over-chinas-sliding-credit-impulse',\n",
              " 'https://www.zerohedge.com/geopolitical/well-level-tel-aviv-iran-responds-israel-updating-plans-strike-nuclear-sites',\n",
              " 'https://www.zerohedge.com/markets/hedge-fund-cio-1929-crash-sparked-chain-reaction-led-wwii-1939',\n",
              " 'https://www.zerohedge.com/political/cancel-culture-mob-goes-after-cartoon-skunk-pepe-le-pe-normalizing-rape-culture',\n",
              " 'https://www.zerohedge.com/political/sen-blackburn-wants-nba-come-clean-its-deal-chinese-state-television',\n",
              " 'https://www.zerohedge.com/markets/stocks-crude-crypto-explode-higher-asia-opens',\n",
              " 'https://www.zerohedge.com/markets/betting-farm-moonshots',\n",
              " 'https://www.zerohedge.com/markets/mega-squeeze-coming-last-week-saw-biggest-hegde-fund-shorting-may',\n",
              " 'https://www.zerohedge.com/crypto/ethereum-set-soar-london-hard-fork-gets-approval',\n",
              " 'https://www.zerohedge.com/markets/morgan-stanley-3-reasons-why-correction-has-further-go-its-over',\n",
              " 'https://www.zerohedge.com/markets/saudi-oil-tank-ras-tanura-port-hit-houthi-ballistic-missile-attack-targeting-aramco',\n",
              " 'https://www.zerohedge.com/political/urban-dictionary-bans-blue-anon-entry-about-liberal-conspiracy-theorists-google-censors',\n",
              " 'https://www.zerohedge.com/geopolitical/lloyd-austin-warns-iran-well-strike-back-time-place-our-own-choosing',\n",
              " 'https://www.zerohedge.com/energy/why-was-texas-so-vulnerable-recent-freeze',\n",
              " 'https://www.zerohedge.com/covid-19/greyhound-ceo-tells-dhs-head-migrants-must-test-negative-covid-19-boarding-buses']"
            ]
          },
          "metadata": {
            "tags": []
          },
          "execution_count": 71
        }
      ]
    },
    {
      "cell_type": "code",
      "metadata": {
        "id": "Uj7m20_hA54a"
      },
      "source": [
        ""
      ],
      "execution_count": null,
      "outputs": []
    },
    {
      "cell_type": "code",
      "metadata": {
        "id": "0M1pelycA5fE"
      },
      "source": [
        ""
      ],
      "execution_count": null,
      "outputs": []
    },
    {
      "cell_type": "code",
      "metadata": {
        "id": "mn8qnL6cTuZE"
      },
      "source": [
        "from bs4 import BeautifulSoup\n",
        "html_text = main_content.get_attribute('innerHTML')"
      ],
      "execution_count": null,
      "outputs": []
    },
    {
      "cell_type": "code",
      "metadata": {
        "id": "Bslm5SQTUhf7"
      },
      "source": [
        "BeautifulSoup(html_text, 'html.parser')"
      ],
      "execution_count": null,
      "outputs": []
    },
    {
      "cell_type": "code",
      "metadata": {
        "id": "TcaObSj0SEj8"
      },
      "source": [
        "main_content.text.split(\"\\n\")"
      ],
      "execution_count": null,
      "outputs": []
    },
    {
      "cell_type": "code",
      "metadata": {
        "id": "-AKZ7mwdSFJL"
      },
      "source": [
        "all = main_content.find_elements_by_xpath(\".//*\")\n",
        "for i in all:\n",
        "  if i.get_attribute(\"href\") is not None:\n",
        "    print(i.text)\n",
        "    print(i.get_attribute(\"href\"))"
      ],
      "execution_count": null,
      "outputs": []
    },
    {
      "cell_type": "code",
      "metadata": {
        "id": "H9-AU6UMSFvO"
      },
      "source": [
        ""
      ],
      "execution_count": null,
      "outputs": []
    },
    {
      "cell_type": "code",
      "metadata": {
        "id": "sp_kwlLHSF3-"
      },
      "source": [
        ""
      ],
      "execution_count": null,
      "outputs": []
    },
    {
      "cell_type": "code",
      "metadata": {
        "id": "UN0kUshcSGBz"
      },
      "source": [
        ""
      ],
      "execution_count": null,
      "outputs": []
    },
    {
      "cell_type": "code",
      "metadata": {
        "id": "6wA6W2epSGOh"
      },
      "source": [
        ""
      ],
      "execution_count": null,
      "outputs": []
    },
    {
      "cell_type": "code",
      "metadata": {
        "colab": {
          "base_uri": "https://localhost:8080/"
        },
        "id": "a962kneXIHrQ",
        "outputId": "eb45b344-a51e-49cc-9d88-a1ee064b5a91"
      },
      "source": [
        "screen_height = driver.execute_script(\"return window.screen.height;\")\n",
        "screen_height"
      ],
      "execution_count": null,
      "outputs": [
        {
          "output_type": "execute_result",
          "data": {
            "text/plain": [
              "600"
            ]
          },
          "metadata": {
            "tags": []
          },
          "execution_count": 18
        }
      ]
    },
    {
      "cell_type": "code",
      "metadata": {
        "id": "Z8At6g5CJeDD"
      },
      "source": [
        "i = 1\n",
        "while True:\n",
        "    # scroll one screen height each time\n",
        "    driver.execute_script(\"window.scrollTo(0, {screen_height}*{i});\".\\\n",
        "                          format(screen_height=screen_height, i=i))  \n",
        "    i += 1\n",
        "    time.sleep(1)\n",
        "    # update scroll height each time after scrolled, as the scroll height can change after we scrolled the page\n",
        "    scroll_height = driver.execute_script(\"return document.body.scrollHeight;\")  \n",
        "    # Break the loop when the height we need to scroll to is larger than the total scroll height\n",
        "    if (screen_height) * i > scroll_height:\n",
        "        break "
      ],
      "execution_count": null,
      "outputs": []
    },
    {
      "cell_type": "code",
      "metadata": {
        "colab": {
          "base_uri": "https://localhost:8080/"
        },
        "id": "aGocBo47Kilj",
        "outputId": "c3d6128f-1399-4b9b-8e97-db17f3a4c7f4"
      },
      "source": [
        "#next_button = driver.find_element_by_class_name(('SimplePaginator_next__15okP'))\n",
        "#driver.execute_script(\"arguments[0].scrollIntoView(true);\", next_button)\n",
        "driver.execute_script(\"window.scrollTo(0, 330);\")\n",
        "driver.execute_script(\"return window.screen.height;\")"
      ],
      "execution_count": null,
      "outputs": [
        {
          "output_type": "execute_result",
          "data": {
            "text/plain": [
              "600"
            ]
          },
          "metadata": {
            "tags": []
          },
          "execution_count": 54
        }
      ]
    },
    {
      "cell_type": "code",
      "metadata": {
        "colab": {
          "base_uri": "https://localhost:8080/"
        },
        "id": "JUoWnxN6PBEI",
        "outputId": "c87d702d-45dd-4d2a-f28d-83a9226f029f"
      },
      "source": [
        "next_button.location_once_scrolled_into_view"
      ],
      "execution_count": null,
      "outputs": [
        {
          "output_type": "execute_result",
          "data": {
            "text/plain": [
              "{'x': 330, 'y': 284}"
            ]
          },
          "metadata": {
            "tags": []
          },
          "execution_count": 49
        }
      ]
    },
    {
      "cell_type": "code",
      "metadata": {
        "id": "adLOpy0HNxUn"
      },
      "source": [
        "from selenium.webdriver.common.keys import Keys\n",
        "body = driver.find_element_by_css_selector('body') \n",
        "body.click()\n",
        "body.send_keys(Keys.END)\n",
        "#body.send_keys(Keys.PAGE_DOWN)"
      ],
      "execution_count": null,
      "outputs": []
    },
    {
      "cell_type": "code",
      "metadata": {
        "colab": {
          "base_uri": "https://localhost:8080/"
        },
        "id": "yo8GoEcUOIP2",
        "outputId": "81cc14ae-6755-4dec-b9a6-198c1666d531"
      },
      "source": [
        "driver.execute_script(\"return window.screen.height;\")"
      ],
      "execution_count": null,
      "outputs": [
        {
          "output_type": "execute_result",
          "data": {
            "text/plain": [
              "600"
            ]
          },
          "metadata": {
            "tags": []
          },
          "execution_count": 47
        }
      ]
    },
    {
      "cell_type": "code",
      "metadata": {
        "id": "rhBPyPH7Jk0y"
      },
      "source": [
        "main_content = driver.find_element_by_xpath('//*[@id=\"__next\"]/div/div/div[5]/main/div/div[2]')"
      ],
      "execution_count": null,
      "outputs": []
    },
    {
      "cell_type": "code",
      "metadata": {
        "colab": {
          "base_uri": "https://localhost:8080/"
        },
        "id": "xnlpc-e2Jozz",
        "outputId": "ece6b5a5-8584-4621-d5ce-6e6206287790"
      },
      "source": [
        "main_content.find_element_by_class_name(\"Article_stickyContainer__3eF3d Article_innerContainer__3fReU\")"
      ],
      "execution_count": null,
      "outputs": [
        {
          "output_type": "execute_result",
          "data": {
            "text/plain": [
              "[]"
            ]
          },
          "metadata": {
            "tags": []
          },
          "execution_count": 23
        }
      ]
    },
    {
      "cell_type": "code",
      "metadata": {
        "colab": {
          "base_uri": "https://localhost:8080/"
        },
        "id": "qSc9GJKKKe4W",
        "outputId": "76c0e106-f667-4156-bf2c-1d6b067f9a47"
      },
      "source": [
        "main_content.location_once_scrolled_into_view"
      ],
      "execution_count": null,
      "outputs": [
        {
          "output_type": "execute_result",
          "data": {
            "text/plain": [
              "{'x': 15, 'y': 0}"
            ]
          },
          "metadata": {
            "tags": []
          },
          "execution_count": 58
        }
      ]
    },
    {
      "cell_type": "code",
      "metadata": {
        "id": "X8jNSOf4Pfi4"
      },
      "source": [
        "from selenium.webdriver.common.action_chains import ActionChains\n",
        "\n",
        "actions = ActionChains(driver)\n",
        "actions.move_to_element(next_button)\n",
        "actions.perform()"
      ],
      "execution_count": null,
      "outputs": []
    },
    {
      "cell_type": "code",
      "metadata": {
        "id": "9MVJw-afQAjh"
      },
      "source": [
        ""
      ],
      "execution_count": null,
      "outputs": []
    }
  ]
}