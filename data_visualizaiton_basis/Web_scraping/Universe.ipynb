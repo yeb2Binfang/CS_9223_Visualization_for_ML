{
  "nbformat": 4,
  "nbformat_minor": 0,
  "metadata": {
    "colab": {
      "name": "Universe.ipynb",
      "provenance": [],
      "collapsed_sections": [],
      "include_colab_link": true
    },
    "kernelspec": {
      "name": "python3",
      "display_name": "Python 3"
    }
  },
  "cells": [
    {
      "cell_type": "markdown",
      "metadata": {
        "id": "view-in-github",
        "colab_type": "text"
      },
      "source": [
        "<a href=\"https://colab.research.google.com/github/yeb2Binfang/CS_9223_Visualization_for_ML/blob/main/data_visualizaiton_basis/Web_scraping/Universe.ipynb\" target=\"_parent\"><img src=\"https://colab.research.google.com/assets/colab-badge.svg\" alt=\"Open In Colab\"/></a>"
      ]
    },
    {
      "cell_type": "code",
      "metadata": {
        "id": "WgL5wNxg2Mlz"
      },
      "source": [
        "import requests\r\n",
        "from bs4 import BeautifulSoup\r\n",
        "import pandas as pd"
      ],
      "execution_count": null,
      "outputs": []
    },
    {
      "cell_type": "code",
      "metadata": {
        "id": "5bL5y3ah2vv3"
      },
      "source": [
        "url = 'https://www.zerohedge.com/'\r\n",
        "headers = {'user-agent': 'Mozilla/5.0 (Windows NT 10.0; Win64; x64) AppleWebKit/537.36 (KHTML, like Gecko) Chrome/88.0.4324.190 Safari/537.36'}\r\n",
        "tag = []"
      ],
      "execution_count": 30,
      "outputs": []
    },
    {
      "cell_type": "code",
      "metadata": {
        "id": "tNeiMXHq2ezd"
      },
      "source": [
        "## beautifulsoup\r\n",
        "## class_name is a list\r\n",
        "## class_name[class_article,class_title,class_date,class_author,class_link]\r\n",
        "## tag[article, title, date, author, link, p]\r\n",
        "\r\n",
        "def universe_block_web_scrapper(url, headers):\r\n",
        "  r= requests.get(url,headers=headers)\r\n",
        "  soup = BeautifulSoup(r.content,features='lxml')\r\n",
        "  articles = soup.find_all('article')\r\n",
        "  #print(articles)\r\n",
        "  article_list = []\r\n",
        "  for item in articles:\r\n",
        "    h = item.find_all('h1',class_='h2')\r\n",
        "    for li in h:\r\n",
        "      link = li.find('a')['href']\r\n",
        "      #print(link)\r\n",
        "      article1 = get_content(link,headers)\r\n",
        "      article_list.append(article1)\r\n",
        "  df = pd.DataFrame(article_list)\r\n",
        "  return df\r\n"
      ],
      "execution_count": 101,
      "outputs": []
    },
    {
      "cell_type": "code",
      "metadata": {
        "id": "fag37IUfQ2R0",
        "outputId": "216fdd5e-15bb-469a-eafa-6426071ad7c4",
        "colab": {
          "base_uri": "https://localhost:8080/"
        }
      },
      "source": [
        "df = universe_block_web_scrapper(url,headers)"
      ],
      "execution_count": 120,
      "outputs": [
        {
          "output_type": "stream",
          "text": [
            "{'title': <h1 class=\"entry-title single-title\" itemprop=\"headline\">Could Inflation Give Us a Wonderful Buying Opportunity?</h1>, 'author': 'Ben Carlson', 'time': 'March 5, 2021', 'link': 'https://awealthofcommonsense.com/2021/03/could-inflation-give-us-a-wonderful-buying-opportunity/', 'text': 'For disclosure information please visit: https://ritholtzwealth.com/blog-disclosures/'}\n",
            "{'title': <h1 class=\"entry-title single-title\" itemprop=\"headline\">Talk Your Book: The Most Ambitious ETFs</h1>, 'author': 'Ben Carlson', 'time': 'March 5, 2021', 'link': 'https://awealthofcommonsense.com/2021/03/talk-your-book-the-most-ambitious-etfs/', 'text': 'For disclosure information please visit: https://ritholtzwealth.com/blog-disclosures/'}\n",
            "{'title': <h1 class=\"entry-title single-title\" itemprop=\"headline\">Investments as a Status Symbol</h1>, 'author': 'Ben Carlson', 'time': 'March 4, 2021', 'link': 'https://awealthofcommonsense.com/2021/03/investments-as-a-status-symbol/', 'text': 'For disclosure information please visit: https://ritholtzwealth.com/blog-disclosures/'}\n",
            "{'title': <h1 class=\"entry-title single-title\" itemprop=\"headline\">Animal Spirits: Never Bet Against America</h1>, 'author': 'Ben Carlson', 'time': 'March 3, 2021', 'link': 'https://awealthofcommonsense.com/2021/03/animal-spirits-never-bet-against-america/', 'text': 'For disclosure information please visit: https://ritholtzwealth.com/blog-disclosures/'}\n",
            "{'title': <h1 class=\"entry-title single-title\" itemprop=\"headline\">A Bleak Future For Long-Term Government Bonds</h1>, 'author': 'Ben Carlson', 'time': 'March 2, 2021', 'link': 'https://awealthofcommonsense.com/2021/03/a-bleak-future-for-long-term-government-bonds/', 'text': 'For disclosure information please visit: https://ritholtzwealth.com/blog-disclosures/'}\n",
            "{'title': <h1 class=\"entry-title single-title\" itemprop=\"headline\">Shortages Everywhere You Look</h1>, 'author': 'Ben Carlson', 'time': 'March 1, 2021', 'link': 'https://awealthofcommonsense.com/2021/03/shortages-everywhere-you-look/', 'text': 'For disclosure information please visit: https://ritholtzwealth.com/blog-disclosures/'}\n",
            "{'title': <h1 class=\"entry-title single-title\" itemprop=\"headline\">What If Interest Rates Don’t Matter as Much as We Think?</h1>, 'author': 'Ben Carlson', 'time': 'February 28, 2021', 'link': 'https://awealthofcommonsense.com/2021/02/what-if-interest-rates-dont-matter-as-much-as-we-think/', 'text': 'For disclosure information please visit: https://ritholtzwealth.com/blog-disclosures/'}\n",
            "{'title': <h1 class=\"entry-title single-title\" itemprop=\"headline\">The Best Time to Give Back</h1>, 'author': 'Ben Carlson', 'time': 'February 26, 2021', 'link': 'https://awealthofcommonsense.com/2021/02/the-best-time-to-give-back/', 'text': 'For disclosure information please visit: https://ritholtzwealth.com/blog-disclosures/'}\n",
            "{'title': <h1 class=\"entry-title single-title\" itemprop=\"headline\">Talk Your Book: Investing in Moonshots</h1>, 'author': 'Ben Carlson', 'time': 'February 26, 2021', 'link': 'https://awealthofcommonsense.com/2021/02/talk-your-book-investing-in-moonshots/', 'text': 'For disclosure information please visit: https://ritholtzwealth.com/blog-disclosures/'}\n",
            "{'title': <h1 class=\"entry-title single-title\" itemprop=\"headline\">The Stock Market Is Smarter Than All of Us</h1>, 'author': 'Ben Carlson', 'time': 'February 25, 2021', 'link': 'https://awealthofcommonsense.com/2021/02/the-stock-market-is-smarter-than-all-of-us/', 'text': 'For disclosure information please visit: https://ritholtzwealth.com/blog-disclosures/'}\n"
          ],
          "name": "stdout"
        }
      ]
    },
    {
      "cell_type": "code",
      "metadata": {
        "id": "l6Qs3EWhIp3m"
      },
      "source": [
        "def get_content(link,headers):\r\n",
        "  r= requests.get(link,headers=headers)\r\n",
        "  soup = BeautifulSoup(r.content,features='lxml')\r\n",
        "  content = soup.find_all('article')\r\n",
        "  #print(content)\r\n",
        "  for items in content:\r\n",
        "    p = items.find_all('p')\r\n",
        "    time = items.find('time',class_='updated').text\r\n",
        "    author = items.find('span',class_='author').text\r\n",
        "    title = items.find('h1',class_='entry-title single-title')\r\n",
        "    txt=None \r\n",
        "    article1={}  \r\n",
        "    for text in p:   \r\n",
        "      #txt = text.text\r\n",
        "      article1 = {\r\n",
        "          'title':title,\r\n",
        "          'author':author,\r\n",
        "          'time':time,\r\n",
        "          'link':link,\r\n",
        "          'text':text.text\r\n",
        "      }\r\n",
        "  print(article1)\r\n",
        "  return article1\r\n"
      ],
      "execution_count": 119,
      "outputs": []
    },
    {
      "cell_type": "code",
      "metadata": {
        "id": "r-sMtKJeRCfP",
        "outputId": "69bb9639-f0d5-41fa-86ae-32295c5e7a91",
        "colab": {
          "base_uri": "https://localhost:8080/",
          "height": 343
        }
      },
      "source": [
        "df"
      ],
      "execution_count": 121,
      "outputs": [
        {
          "output_type": "execute_result",
          "data": {
            "text/html": [
              "<div>\n",
              "<style scoped>\n",
              "    .dataframe tbody tr th:only-of-type {\n",
              "        vertical-align: middle;\n",
              "    }\n",
              "\n",
              "    .dataframe tbody tr th {\n",
              "        vertical-align: top;\n",
              "    }\n",
              "\n",
              "    .dataframe thead th {\n",
              "        text-align: right;\n",
              "    }\n",
              "</style>\n",
              "<table border=\"1\" class=\"dataframe\">\n",
              "  <thead>\n",
              "    <tr style=\"text-align: right;\">\n",
              "      <th></th>\n",
              "      <th>title</th>\n",
              "      <th>author</th>\n",
              "      <th>time</th>\n",
              "      <th>link</th>\n",
              "      <th>text</th>\n",
              "    </tr>\n",
              "  </thead>\n",
              "  <tbody>\n",
              "    <tr>\n",
              "      <th>0</th>\n",
              "      <td>[Could Inflation Give Us a Wonderful Buying Op...</td>\n",
              "      <td>Ben Carlson</td>\n",
              "      <td>March 5, 2021</td>\n",
              "      <td>https://awealthofcommonsense.com/2021/03/could...</td>\n",
              "      <td>For disclosure information please visit: https...</td>\n",
              "    </tr>\n",
              "    <tr>\n",
              "      <th>1</th>\n",
              "      <td>[Talk Your Book: The Most Ambitious ETFs]</td>\n",
              "      <td>Ben Carlson</td>\n",
              "      <td>March 5, 2021</td>\n",
              "      <td>https://awealthofcommonsense.com/2021/03/talk-...</td>\n",
              "      <td>For disclosure information please visit: https...</td>\n",
              "    </tr>\n",
              "    <tr>\n",
              "      <th>2</th>\n",
              "      <td>[Investments as a Status Symbol]</td>\n",
              "      <td>Ben Carlson</td>\n",
              "      <td>March 4, 2021</td>\n",
              "      <td>https://awealthofcommonsense.com/2021/03/inves...</td>\n",
              "      <td>For disclosure information please visit: https...</td>\n",
              "    </tr>\n",
              "    <tr>\n",
              "      <th>3</th>\n",
              "      <td>[Animal Spirits: Never Bet Against America]</td>\n",
              "      <td>Ben Carlson</td>\n",
              "      <td>March 3, 2021</td>\n",
              "      <td>https://awealthofcommonsense.com/2021/03/anima...</td>\n",
              "      <td>For disclosure information please visit: https...</td>\n",
              "    </tr>\n",
              "    <tr>\n",
              "      <th>4</th>\n",
              "      <td>[A Bleak Future For Long-Term Government Bonds]</td>\n",
              "      <td>Ben Carlson</td>\n",
              "      <td>March 2, 2021</td>\n",
              "      <td>https://awealthofcommonsense.com/2021/03/a-ble...</td>\n",
              "      <td>For disclosure information please visit: https...</td>\n",
              "    </tr>\n",
              "    <tr>\n",
              "      <th>5</th>\n",
              "      <td>[Shortages Everywhere You Look]</td>\n",
              "      <td>Ben Carlson</td>\n",
              "      <td>March 1, 2021</td>\n",
              "      <td>https://awealthofcommonsense.com/2021/03/short...</td>\n",
              "      <td>For disclosure information please visit: https...</td>\n",
              "    </tr>\n",
              "    <tr>\n",
              "      <th>6</th>\n",
              "      <td>[What If Interest Rates Don’t Matter as Much a...</td>\n",
              "      <td>Ben Carlson</td>\n",
              "      <td>February 28, 2021</td>\n",
              "      <td>https://awealthofcommonsense.com/2021/02/what-...</td>\n",
              "      <td>For disclosure information please visit: https...</td>\n",
              "    </tr>\n",
              "    <tr>\n",
              "      <th>7</th>\n",
              "      <td>[The Best Time to Give Back]</td>\n",
              "      <td>Ben Carlson</td>\n",
              "      <td>February 26, 2021</td>\n",
              "      <td>https://awealthofcommonsense.com/2021/02/the-b...</td>\n",
              "      <td>For disclosure information please visit: https...</td>\n",
              "    </tr>\n",
              "    <tr>\n",
              "      <th>8</th>\n",
              "      <td>[Talk Your Book: Investing in Moonshots]</td>\n",
              "      <td>Ben Carlson</td>\n",
              "      <td>February 26, 2021</td>\n",
              "      <td>https://awealthofcommonsense.com/2021/02/talk-...</td>\n",
              "      <td>For disclosure information please visit: https...</td>\n",
              "    </tr>\n",
              "    <tr>\n",
              "      <th>9</th>\n",
              "      <td>[The Stock Market Is Smarter Than All of Us]</td>\n",
              "      <td>Ben Carlson</td>\n",
              "      <td>February 25, 2021</td>\n",
              "      <td>https://awealthofcommonsense.com/2021/02/the-s...</td>\n",
              "      <td>For disclosure information please visit: https...</td>\n",
              "    </tr>\n",
              "  </tbody>\n",
              "</table>\n",
              "</div>"
            ],
            "text/plain": [
              "                                               title  ...                                               text\n",
              "0  [Could Inflation Give Us a Wonderful Buying Op...  ...  For disclosure information please visit: https...\n",
              "1          [Talk Your Book: The Most Ambitious ETFs]  ...  For disclosure information please visit: https...\n",
              "2                   [Investments as a Status Symbol]  ...  For disclosure information please visit: https...\n",
              "3        [Animal Spirits: Never Bet Against America]  ...  For disclosure information please visit: https...\n",
              "4    [A Bleak Future For Long-Term Government Bonds]  ...  For disclosure information please visit: https...\n",
              "5                    [Shortages Everywhere You Look]  ...  For disclosure information please visit: https...\n",
              "6  [What If Interest Rates Don’t Matter as Much a...  ...  For disclosure information please visit: https...\n",
              "7                       [The Best Time to Give Back]  ...  For disclosure information please visit: https...\n",
              "8           [Talk Your Book: Investing in Moonshots]  ...  For disclosure information please visit: https...\n",
              "9       [The Stock Market Is Smarter Than All of Us]  ...  For disclosure information please visit: https...\n",
              "\n",
              "[10 rows x 5 columns]"
            ]
          },
          "metadata": {
            "tags": []
          },
          "execution_count": 121
        }
      ]
    },
    {
      "cell_type": "code",
      "metadata": {
        "id": "g-A5QshOP-9l"
      },
      "source": [
        "df = "
      ],
      "execution_count": null,
      "outputs": []
    },
    {
      "cell_type": "code",
      "metadata": {
        "id": "4onlFkPlJK--"
      },
      "source": [
        "link = 'https://awealthofcommonsense.com/2021/03/could-inflation-give-us-a-wonderful-buying-opportunity/'\r\n",
        "r= requests.get(link,headers=headers)\r\n",
        "soup = BeautifulSoup(r.content,features='lxml')\r\n",
        "articles = soup.find_all('article',class_ = 'clearfix post-35941 post type-post status-publish format-standard has-post-thumbnail hentry category-bear-markets-crash')"
      ],
      "execution_count": 36,
      "outputs": []
    },
    {
      "cell_type": "code",
      "metadata": {
        "id": "_l9Rgdl0OVkM"
      },
      "source": [
        "articles = soup.find_all('article')"
      ],
      "execution_count": 61,
      "outputs": []
    },
    {
      "cell_type": "code",
      "metadata": {
        "id": "oFFyVlbBJtMl",
        "outputId": "295cca77-4bc5-44a0-c671-3183fe297b1a",
        "colab": {
          "base_uri": "https://localhost:8080/"
        }
      },
      "source": [
        "p1=''\r\n",
        "for items in articles:\r\n",
        "  p = items.find_all('p')\r\n",
        "  time = items.find('time',class_='updated').text\r\n",
        "  author = items.find('span',class_='author').text\r\n",
        "  print(author)\r\n",
        "  for text in p:\r\n",
        "    \r\n",
        "    a = text.text\r\n",
        "    print(a)\r\n",
        "    "
      ],
      "execution_count": 108,
      "outputs": [
        {
          "output_type": "stream",
          "text": [
            "Ben Carlson\n",
            "Posted March 5, 2021 by Ben Carlson\n",
            "\n",
            "Last year the stock market was rising when the economy was getting worse.\n",
            "This year the stock market is falling while the economy is getting better.\n",
            "Confused yet?\n",
            "You could blame this upside-down logic on the Fed if you are so inclined. Jerome Powell and company threw the tank at the financial markets is it worked.\n",
            "On Thursday, Powell confirmed he’s not letting his foot off the gas pedal until the employment and inflation pictures improve:\n",
            "Today we’re still a long way from our goals of maximum employment and inflation averaging 2% over time.\n",
            "That’s good for the markets, right? The Fed is sticking with easy money policies and that’s helped since 2009. All clear, right?\n",
            "Not exactly.\n",
            "This time around the government has stepped up to the plate and spent a massive amount of money, eclipsing even World War II wartime spending levels:\n",
            "So now interest rates are rising along with inflation expectations, which are now at their highest point since 2008:\n",
            "So investors are spooked.\n",
            "Stocks have held up just fine historically when rates have risen but tend to show below-average returns when inflation is rising and above-average returns when it’s falling.\n",
            "Inflation expectations aren’t the be-all, end-all of course. You can see the last time they were this high the next leg was way lower. Inflation never came to pass following the 2008 crisis.1\n",
            "But the Fed was never this adamant that it would like to see inflation running a little hot and the markets have taken notice.\n",
            "I think this could end up being a wonderful buying opportunity for investors if stocks continue to fall because of this.\n",
            "Why?\n",
            "I think we could see a one-time pop in the inflation numbers that eventually fades away.\n",
            "Here’s what Powell said on the topic yesterday:\n",
            "If we do see what we believe is likely a transitory rise in inflation I expect that we will be patient. There’s a difference between a one-time surge in prices and ongoing inflation.\n",
            "Obviously, the Fed chair does not have a better crystal ball than the rest of us.2\n",
            "But going back to the WWII analogy, take a look at the inflation profile in the U.S. from 1945 through the end of the 1950s:\n",
            "There was a massive inflationary spike following the war, which many assumed would lead to yet another depression but it never came. Inflation fell off a cliff after that one-time shock. Then there was another inflationary spike in the early 1950s that also slowly faded away.\n",
            "There were some minor recessions in this time, with small economic contractions in 1945, 1948-1949, 1953-1954 and 1957-1958. But never any sustained inflation despite a booming economy following the war.\n",
            "And from 1945-1959, the U.S. stock market returned nearly 17% per year, despite those two huge inflationary spikes.\n",
            "Now I’m not suggesting we are in for a similar rally.\n",
            "The stock market and economy were both still working off the remnants of the Great Depression by the time WWII began. The country was overdue for a boom in both.\n",
            "But I think it’s possible we could get the mother of all inflation head fakes in the coming months. Economic data is going to be red hot in the spring and summer. Inflation worries will almost certainly ramp up if that happens.\n",
            "That could lead to further selling, especially when it comes to the growth stocks which have gotten crushed over the past two weeks or so.\n",
            "And if that inflationary head fake leads to a decent-sized stock market correction, it could offer a nice buying opportunity for stocks in the coming year.\n",
            "Yes, the government has shown they’re willing to spend more money than they did coming out of the 2008 crisis. But this was wartime spending. We can’t be sure this level of fiscal support will remain.\n",
            "There are other structural headwinds to a 1970s-level of inflation rearing its ugly head again. We still have to see better wage growth for inflation to stick around for an extended period of time. Demographics in this country, and around the globe for that matter, don’t really support the case for a sustained rise in prices. Plus, technological innovation remains at a breakneck pace which is deflationary by nature.\n",
            "Listen, I’m of the opinion that every market downturn is an opportunity. I’m a long-term investor so how could I not?\n",
            "So part of me hopes we see a market overreaction to a booming economy. And maybe it’s good for the market to take a breather for a while and let the economy take the lead. All those people who aren’t invested in the stock market deserve a break for once.\n",
            "I’m always a buyer when stocks fall but an inflationary spike could give savers the opportunity to buy at much lower prices in the coming months.\n",
            "If it happens, it will be a good thing.\n",
            "On our Animal Spirits video this week we talked about the psychology of rising rates and higher inflation and the impact it may have on the markets:\n",
            "﻿\n",
            "Subscribe to The Compound for more of these videos.\n",
            "Further Reading:\n",
            "How Would Investors React If We Finally Get Some Inflation?\n",
            "Now here’s what I’ve been reading lately:\n",
            "1Mainly because the government didn’t help enough and there was an overhang from the real estate collapse.\n",
            "2Remember Bernanke’s “subprime is contained” statement in 2007?\n",
            "For disclosure information please visit: https://ritholtzwealth.com/blog-disclosures/\n"
          ],
          "name": "stdout"
        }
      ]
    },
    {
      "cell_type": "code",
      "metadata": {
        "id": "k2-TpZMfKGgz",
        "outputId": "765661fa-260d-4dd7-fafe-6df8ed7c4bd5",
        "colab": {
          "base_uri": "https://localhost:8080/"
        }
      },
      "source": [
        "print(p)"
      ],
      "execution_count": 41,
      "outputs": [
        {
          "output_type": "stream",
          "text": [
            "Posted March 5, 2021 by Ben Carlson\n"
          ],
          "name": "stdout"
        }
      ]
    },
    {
      "cell_type": "code",
      "metadata": {
        "id": "OIJLEhxNJl0V",
        "outputId": "02a1fa49-2ba8-41fc-f02c-fee6ea0dffbc",
        "colab": {
          "base_uri": "https://localhost:8080/"
        }
      },
      "source": [
        "print(articles)"
      ],
      "execution_count": 37,
      "outputs": [
        {
          "output_type": "stream",
          "text": [
            "[<article class=\"clearfix post-35941 post type-post status-publish format-standard has-post-thumbnail hentry category-bear-markets-crash\" id=\"post-35941\" itemscope=\"\" itemtype=\"http://schema.org/BlogPosting\" role=\"article\">\n",
            "<!-- <div class=\"header-ad\">\n",
            "\t\t\t\t\t\t\t\t\t</div>  -->\n",
            "<header class=\"article-header\">\n",
            "<h1 class=\"entry-title single-title\" itemprop=\"headline\">Could Inflation Give Us a Wonderful Buying Opportunity?</h1>\n",
            "<p class=\"byline vcard\">Posted <time class=\"updated\" datetime=\"2021-03-5\" pubdate=\"\">March 5, 2021</time> by <span class=\"author\"><a href=\"https://awealthofcommonsense.com/author/sodoi7/\" rel=\"author\" title=\"Posts by Ben Carlson\">Ben Carlson</a></span></p>\n",
            "</header> <!-- end article header -->\n",
            "<section class=\"entry-content clearfix\" itemprop=\"articleBody\">\n",
            "<div class=\"pf-content\"><p><iframe frameborder=\"no\" height=\"166\" scrolling=\"no\" src=\"https://w.soundcloud.com/player/?url=https%3A//api.soundcloud.com/tracks/999378670&amp;color=%23ff5500&amp;auto_play=false&amp;hide_related=false&amp;show_comments=true&amp;show_user=true&amp;show_reposts=false&amp;show_teaser=true\" width=\"100%\"></iframe></p>\n",
            "<div style=\"font-size: 10px; color: #cccccc; line-break: anywhere; word-break: normal; overflow: hidden; white-space: nowrap; text-overflow: ellipsis; font-family: Interstate,Lucida Grande,Lucida Sans Unicode,Lucida Sans,Garuda,Verdana,Tahoma,sans-serif; font-weight: 100;\"><a href=\"https://soundcloud.com/enarlson\" rel=\"noopener\" style=\"color: #cccccc; text-decoration: none;\" target=\"_blank\" title=\"Ben Carlson\">Ben Carlson</a> · <a href=\"https://soundcloud.com/enarlson/inflation-buying-opportunity\" rel=\"noopener\" style=\"color: #cccccc; text-decoration: none;\" target=\"_blank\" title=\"Inflation Buying Opportunity\">Inflation Buying Opportunity</a></div>\n",
            "<p>Last year the stock market was rising when the economy was getting worse.</p>\n",
            "<p>This year the stock market is falling while the economy is getting better.</p>\n",
            "<p>Confused yet?</p>\n",
            "<p>You could blame this upside-down logic on the Fed if you are so inclined. Jerome Powell and company threw the tank at the financial markets is it worked.</p>\n",
            "<img alt=\"\" class=\"aligncenter size-full wp-image-35955\" height=\"405\" loading=\"lazy\" sizes=\"(max-width: 747px) 100vw, 747px\" src=\"https://awealthofcommonsense.com/wp-content/uploads/2021/03/Picture1.png\" srcset=\"https://awealthofcommonsense.com/wp-content/uploads/2021/03/Picture1.png 747w, https://awealthofcommonsense.com/wp-content/uploads/2021/03/Picture1-300x163.png 300w\" width=\"747\"/>\n",
            "<p>On Thursday, Powell confirmed he’s not letting his foot off the gas pedal until the employment and inflation pictures improve:</p>\n",
            "<p style=\"padding-left: 40px;\"><em>Today we’re still a long way from our goals of maximum employment and inflation averaging 2% over time.</em></p>\n",
            "<p>That’s good for the markets, right? The Fed is sticking with easy money policies and that’s helped since 2009. All clear, right?</p>\n",
            "<p>Not exactly.</p>\n",
            "<p>This time around the government has stepped up to the plate and spent a massive amount of money, eclipsing even World War II wartime spending levels:</p>\n",
            "<img alt=\"\" class=\"aligncenter size-full wp-image-35945\" height=\"613\" loading=\"lazy\" sizes=\"(max-width: 472px) 100vw, 472px\" src=\"https://awealthofcommonsense.com/wp-content/uploads/2021/03/Screenshot-2021-03-04-225123.jpg\" srcset=\"https://awealthofcommonsense.com/wp-content/uploads/2021/03/Screenshot-2021-03-04-225123.jpg 472w, https://awealthofcommonsense.com/wp-content/uploads/2021/03/Screenshot-2021-03-04-225123-231x300.jpg 231w\" width=\"472\"/>\n",
            "<p>So now interest rates are rising along with inflation expectations, which are now at their highest point since 2008:</p>\n",
            "<img alt=\"\" class=\"aligncenter size-full wp-image-35954\" height=\"1231\" loading=\"lazy\" sizes=\"(max-width: 2000px) 100vw, 2000px\" src=\"https://awealthofcommonsense.com/wp-content/uploads/2021/03/I5YTIPSTB_chart.png\" srcset=\"https://awealthofcommonsense.com/wp-content/uploads/2021/03/I5YTIPSTB_chart.png 2000w, https://awealthofcommonsense.com/wp-content/uploads/2021/03/I5YTIPSTB_chart-300x185.png 300w, https://awealthofcommonsense.com/wp-content/uploads/2021/03/I5YTIPSTB_chart-1024x630.png 1024w, https://awealthofcommonsense.com/wp-content/uploads/2021/03/I5YTIPSTB_chart-768x473.png 768w, https://awealthofcommonsense.com/wp-content/uploads/2021/03/I5YTIPSTB_chart-1536x945.png 1536w\" width=\"2000\"/>\n",
            "<p>So investors are spooked.</p>\n",
            "<p>Stocks have held up just fine historically when rates have risen but tend to show below-average returns when inflation is rising and above-average returns when it’s falling.</p>\n",
            "<p>Inflation expectations aren’t the be-all, end-all of course. You can see the last time they were this high the next leg was way lower. Inflation never came to pass following the 2008 crisis.<sup>1</sup></p>\n",
            "<p>But the Fed was never this adamant that it would like to see inflation running a little hot and the markets have taken notice.</p>\n",
            "<p>I think this could end up being a wonderful buying opportunity for investors if stocks continue to fall because of this.</p>\n",
            "<p>Why?</p>\n",
            "<p>I think we could see a one-time pop in the inflation numbers that eventually fades away.</p>\n",
            "<p>Here’s what Powell said on the topic yesterday:</p>\n",
            "<p style=\"padding-left: 40px;\"><em>If we do see what we believe is likely a transitory rise in inflation I expect that we will be patient. There’s a difference between a one-time surge in prices and ongoing inflation.</em></p>\n",
            "<p>Obviously, the Fed chair does not have a better crystal ball than the rest of us.<sup>2</sup></p>\n",
            "<p>But going back to the WWII analogy, take a look at the inflation profile in the U.S. from 1945 through the end of the 1950s:</p>\n",
            "<img alt=\"\" class=\"aligncenter size-full wp-image-35944\" height=\"1231\" loading=\"lazy\" sizes=\"(max-width: 2000px) 100vw, 2000px\" src=\"https://awealthofcommonsense.com/wp-content/uploads/2021/03/IUSIR_chart-9.png\" srcset=\"https://awealthofcommonsense.com/wp-content/uploads/2021/03/IUSIR_chart-9.png 2000w, https://awealthofcommonsense.com/wp-content/uploads/2021/03/IUSIR_chart-9-300x185.png 300w, https://awealthofcommonsense.com/wp-content/uploads/2021/03/IUSIR_chart-9-1024x630.png 1024w, https://awealthofcommonsense.com/wp-content/uploads/2021/03/IUSIR_chart-9-768x473.png 768w, https://awealthofcommonsense.com/wp-content/uploads/2021/03/IUSIR_chart-9-1536x945.png 1536w\" width=\"2000\"/>\n",
            "<p>There was a massive inflationary spike following the war, which many assumed would lead to yet another depression but it never came. Inflation fell off a cliff after that one-time shock. Then there was another inflationary spike in the early 1950s that also slowly faded away.</p>\n",
            "<p>There were some minor recessions in this time, with small economic contractions in 1945, 1948-1949, 1953-1954 and 1957-1958. But never any sustained inflation despite a <a href=\"https://awealthofcommonsense.com/2019/10/world-war-ii-the-economic-anomaly/\" rel=\"noopener\" target=\"_blank\">booming economy following the war</a>.</p>\n",
            "<p>And from 1945-1959, the U.S. stock market returned nearly 17% per year, despite those two huge inflationary spikes.</p>\n",
            "<p>Now I’m not suggesting we are in for a similar rally.</p>\n",
            "<p>The stock market and economy were both still working off the remnants of the Great Depression by the time WWII began. The country was overdue for a boom in both.</p>\n",
            "<p>But I think it’s possible we could get the mother of all inflation head fakes in the coming months. Economic data is going to be red hot in the spring and summer. Inflation worries will almost certainly ramp up if that happens.</p>\n",
            "<p>That could lead to further selling, especially when it comes to the growth stocks which have gotten crushed over the past two weeks or so.</p>\n",
            "<p>And if that inflationary head fake leads to a decent-sized stock market correction, it could offer a nice buying opportunity for stocks in the coming year.</p>\n",
            "<p>Yes, the government has shown they’re willing to spend more money than they did coming out of the 2008 crisis. But this was wartime spending. We can’t be sure this level of fiscal support will remain.</p>\n",
            "<p>There are other structural headwinds to a 1970s-level of inflation rearing its ugly head again. We still have to see better wage growth for inflation to stick around for an extended period of time. Demographics in this country, and around the globe for that matter, don’t really support the case for a sustained rise in prices. Plus, technological innovation remains at a breakneck pace which is deflationary by nature.</p>\n",
            "<p>Listen, I’m of the opinion that every market downturn is an opportunity. I’m a long-term investor so how could I not?</p>\n",
            "<p>So part of me hopes we see a market overreaction to a booming economy. And maybe it’s good for the market to take a breather for a while and let the economy take the lead. All those people who aren’t invested in the stock market deserve a break for once.</p>\n",
            "<p>I’m always a buyer when stocks fall but an inflationary spike could give savers the opportunity to buy at much lower prices in the coming months.</p>\n",
            "<p>If it happens, it will be a good thing.</p>\n",
            "<p>On our Animal Spirits video this week we talked about the psychology of rising rates and higher inflation and the impact it may have on the markets:</p>\n",
            "<p><iframe allowfullscreen=\"allowfullscreen\" frameborder=\"0\" height=\"400\" src=\"https://www.youtube.com/embed/zuGonsnLHy4\" width=\"700\"><span class=\"mce_SELRES_start\" data-mce-type=\"bookmark\" style=\"display: inline-block; width: 0px; overflow: hidden; line-height: 0;\">﻿</span></iframe></p>\n",
            "<p>Subscribe to <a href=\"https://www.youtube.com/channel/UCBRpqrzuuqE8TZcWw75JSdw\" rel=\"noopener\" target=\"_blank\">The Compound</a> for more of these videos.</p>\n",
            "<p>Further Reading:<br/>\n",
            "<a href=\"https://awealthofcommonsense.com/2020/06/how-would-investors-react-if-we-finally-get-some-inflation/\" rel=\"noopener\" target=\"_blank\">How Would Investors React If We Finally Get Some Inflation?</a></p>\n",
            "<p>Now here’s what I’ve been reading lately:</p>\n",
            "<ul>\n",
            "<li>Venture capital in the 21st century (<a href=\"https://www.ineteconomics.org/perspectives/videos/venture-capital\" rel=\"noopener\" target=\"_blank\">Institute For New Economic Thinking</a>)</li>\n",
            "<li>It’s not different this time (<a href=\"https://theirrelevantinvestor.com/2021/03/05/its-not-different-this-time/\" rel=\"noopener\" target=\"_blank\">Irrelevant Investor</a>)</li>\n",
            "<li>Finance as culture (<a href=\"https://luttig.substack.com/p/finance-as-culture\" rel=\"noopener\" target=\"_blank\">Luttig’s Learnings</a>)</li>\n",
            "<li>Dad, a death sentence and the financial planner who set us straight (<a href=\"https://www.nytimes.com/2021/02/26/your-money/financial-planner-end-of-life.html#click=https://t.co/THp9jA63YI\" rel=\"noopener\" target=\"_blank\">NY Times</a>)</li>\n",
            "<li>Why are housing prices up and rents down? (<a href=\"https://www.theatlantic.com/ideas/archive/2021/03/why-are-housing-prices-and-rents-down/618212/\" rel=\"noopener\" target=\"_blank\">The Atlantic</a>)</li>\n",
            "</ul>\n",
            "<p><sup>1</sup>Mainly because the government didn’t help enough and there was an overhang from the real estate collapse.</p>\n",
            "<p><sup>2</sup>Remember Bernanke’s <a href=\"https://www.cnbc.com/id/18718555\" rel=\"noopener\" target=\"_blank\">“subprime is contained”</a> statement in 2007?</p>\n",
            " \r\n",
            "<script type=\"text/javascript\">\r\n",
            "amzn_assoc_placement = \"adunit0\";\r\n",
            "amzn_assoc_search_bar = \"true\";\r\n",
            "amzn_assoc_tracking_id = \"aweaofcomsen-20\";\r\n",
            "amzn_assoc_ad_mode = \"manual\";\r\n",
            "amzn_assoc_ad_type = \"smart\";\r\n",
            "amzn_assoc_marketplace = \"amazon\";\r\n",
            "amzn_assoc_region = \"US\";\r\n",
            "amzn_assoc_title = \"What I've Been Reading\";\r\n",
            "amzn_assoc_linkid = \"76272836ee3a65cc7672bf12d78bcea6\";\r\n",
            "amzn_assoc_asins = \"006286730X,0691147213,125004250X,1538735326\";\r\n",
            "</script>\n",
            "<script src=\"//z-na.amazon-adsystem.com/widgets/onejs?MarketPlace=US\"></script><div class=\"printfriendly pf-button pf-button-content pf-alignleft\"><a href=\"#\" onclick=\"window.print(); return false;\" rel=\"nofollow\" title=\"Printer Friendly, PDF &amp; Email\"><img alt=\"Print Friendly, PDF &amp; Email\" src=\"https://cdn.printfriendly.com/buttons/printfriendly-button.png\" style=\"border:none;-webkit-box-shadow:none; -moz-box-shadow: none; box-shadow:none; padding:0; margin:0\"/></a></div><style>.pf-button.pf-button-excerpt { display: none; }</style></div> </section> <!-- end article section -->\n",
            "<footer class=\"article-footer\">\n",
            "<div class=\"disclaimer\"><p><span style=\"font-weight: 400;\">For disclosure information please visit: <a href=\"https://ritholtzwealth.com/blog-disclosures/\">https://ritholtzwealth.com/blog-disclosures/</a></span></p>\n",
            "</div>\n",
            "<div class=\"sponsored-content\">\n",
            "</div>\n",
            "</footer> <!-- end article footer -->\n",
            "<div class=\"article-social\">\n",
            "<div class=\"sharing\">\n",
            "<h2>Now go talk about it.</h2>\n",
            "<ul class=\"rrssb-buttons clearfix\">\n",
            "<li class=\"facebook\">\n",
            "<!-- Replace with your URL. For best results, make sure you page has the proper FB Open Graph tags in header:\n",
            "      https://developers.facebook.com/docs/opengraph/howtos/maximizing-distribution-media-content/ -->\n",
            "<a class=\"popup\" href=\"https://www.facebook.com/sharer/sharer.php?u=https://awealthofcommonsense.com/2021/03/could-inflation-give-us-a-wonderful-buying-opportunity/\" target=\"_blank\">\n",
            "<span class=\"icon\">\n",
            "<svg enable-background=\"new 0 0 28 28\" height=\"28px\" id=\"Layer_1\" version=\"1.1\" viewbox=\"0 0 28 28\" width=\"28px\" x=\"0px\" xml:space=\"preserve\" xmlns=\"http://www.w3.org/2000/svg\" xmlns:xlink=\"http://www.w3.org/1999/xlink\" y=\"0px\">\n",
            "<path d=\"M27.825,4.783c0-2.427-2.182-4.608-4.608-4.608H4.783c-2.422,0-4.608,2.182-4.608,4.608v18.434\n",
            "                c0,2.427,2.181,4.608,4.608,4.608H14V17.379h-3.379v-4.608H14v-1.795c0-3.089,2.335-5.885,5.192-5.885h3.718v4.608h-3.726\n",
            "                c-0.408,0-0.884,0.492-0.884,1.236v1.836h4.609v4.608h-4.609v10.446h4.916c2.422,0,4.608-2.188,4.608-4.608V4.783z\"></path>\n",
            "</svg>\n",
            "</span>\n",
            "<span class=\"text\">facebook</span>\n",
            "</a>\n",
            "</li>\n",
            "<li class=\"twitter\">\n",
            "<a class=\"popup\" href=\"http://twitter.com/intent/tweet?text=Could Inflation Give Us a Wonderful Buying Opportunity? by @awealthofcs https://awealthofcommonsense.com/2021/03/could-inflation-give-us-a-wonderful-buying-opportunity/\" target=\"_blank\">\n",
            "<span class=\"icon\">\n",
            "<svg enable-background=\"new 0 0 28 28\" height=\"28px\" id=\"Layer_1\" version=\"1.1\" viewbox=\"0 0 28 28\" width=\"28px\" x=\"0px\" xml:space=\"preserve\" xmlns=\"http://www.w3.org/2000/svg\" xmlns:xlink=\"http://www.w3.org/1999/xlink\" y=\"0px\">\n",
            "<path d=\"M24.253,8.756C24.689,17.08,18.297,24.182,9.97,24.62c-3.122,0.162-6.219-0.646-8.861-2.32\n",
            "              c2.703,0.179,5.376-0.648,7.508-2.321c-2.072-0.247-3.818-1.661-4.489-3.638c0.801,0.128,1.62,0.076,2.399-0.155\n",
            "              C4.045,15.72,2.215,13.6,2.115,11.077c0.688,0.275,1.426,0.407,2.168,0.386c-2.135-1.65-2.729-4.621-1.394-6.965\n",
            "              C5.575,7.816,9.54,9.84,13.803,10.071c-0.842-2.739,0.694-5.64,3.434-6.482c2.018-0.623,4.212,0.044,5.546,1.683\n",
            "              c1.186-0.213,2.318-0.662,3.329-1.317c-0.385,1.256-1.247,2.312-2.399,2.942c1.048-0.106,2.069-0.394,3.019-0.851\n",
            "              C26.275,7.229,25.39,8.196,24.253,8.756z\"></path>\n",
            "</svg>\n",
            "</span>\n",
            "<span class=\"text\">twitter</span>\n",
            "</a>\n",
            "</li>\n",
            "<li class=\"linkedin\">\n",
            "<!-- Replace href with your meta and URL information -->\n",
            "<a class=\"popup\" href=\"http://www.linkedin.com/shareArticle?mini=true&amp;url=https%3A%2F%2Fawealthofcommonsense.com%2F2021%2F03%2Fcould-inflation-give-us-a-wonderful-buying-opportunity%2F&amp;title=Could+Inflation+Give+Us+a+Wonderful+Buying+Opportunity%3F\" target=\"_blank\">\n",
            "<span class=\"icon\">\n",
            "<svg enable-background=\"new 0 0 28 28\" height=\"28px\" id=\"Layer_1\" version=\"1.1\" viewbox=\"0 0 28 28\" width=\"28px\" x=\"0px\" xml:space=\"preserve\" xmlns=\"http://www.w3.org/2000/svg\" xmlns:xlink=\"http://www.w3.org/1999/xlink\" y=\"0px\">\n",
            "<path d=\"M25.424,15.887v8.447h-4.896v-7.882c0-1.979-0.709-3.331-2.48-3.331c-1.354,0-2.158,0.911-2.514,1.803\n",
            "                        c-0.129,0.315-0.162,0.753-0.162,1.194v8.216h-4.899c0,0,0.066-13.349,0-14.731h4.899v2.088c-0.01,0.016-0.023,0.032-0.033,0.048\n",
            "                        h0.033V11.69c0.65-1.002,1.812-2.435,4.414-2.435C23.008,9.254,25.424,11.361,25.424,15.887z M5.348,2.501\n",
            "                        c-1.676,0-2.772,1.092-2.772,2.539c0,1.421,1.066,2.538,2.717,2.546h0.032c1.709,0,2.771-1.132,2.771-2.546\n",
            "                        C8.054,3.593,7.019,2.501,5.343,2.501H5.348z M2.867,24.334h4.897V9.603H2.867V24.334z\"></path>\n",
            "</svg>\n",
            "</span>\n",
            "<span class=\"text\">linkedin</span>\n",
            "</a>\n",
            "</li>\n",
            "</ul>\n",
            "</div>\n",
            "<div class=\"reactions clearfix\">\n",
            "<!-- You can start editing here. -->\n",
            "<!-- If comments are closed. -->\n",
            "<!--p class=\"nocomments\">Comments are closed.</p-->\n",
            "</div>\n",
            "</div>\n",
            "<div class=\"article-related\">\n",
            "<div class=\"wp_rp_wrap wp_rp_vertical_m\" id=\"wp_rp_first\"><div class=\"wp_rp_content\"><h3 class=\"related_post_title\">More from my site</h3><ul class=\"related_post wp_rp\"><li data-poid=\"in-21859\" data-position=\"0\" data-post-type=\"none\"><a class=\"wp_rp_title\" href=\"https://awealthofcommonsense.com/2018/06/animal-spirits-episode-32-big-mistakes/\">Animal Spirits Episode 32: Big Mistakes</a></li><li data-poid=\"in-12236\" data-position=\"1\" data-post-type=\"none\"><a class=\"wp_rp_title\" href=\"https://awealthofcommonsense.com/2016/02/the-greatest-bull-market-of-all-time/\">The Greatest Bull Market of All-Time?</a></li><li data-poid=\"in-3120\" data-position=\"2\" data-post-type=\"none\"><a class=\"wp_rp_title\" href=\"https://awealthofcommonsense.com/2013/11/selling-tips-wolf-wall-street/\">Selling Tips from the Wolf of Wall Street</a></li></ul></div></div>\n",
            "</div>\n",
            "</article>]\n"
          ],
          "name": "stdout"
        }
      ]
    },
    {
      "cell_type": "code",
      "metadata": {
        "id": "L_-ppoa6B2vu"
      },
      "source": [
        "url = 'https://awealthofcommonsense.com/'\r\n"
      ],
      "execution_count": 31,
      "outputs": []
    },
    {
      "cell_type": "code",
      "metadata": {
        "id": "MaeMcKLzGi8F",
        "outputId": "c40cc029-eebf-473e-da9f-598d2028828f",
        "colab": {
          "base_uri": "https://localhost:8080/"
        }
      },
      "source": [
        "r = requests.get(url,headers=headers)\r\n",
        "print(r.status_code)"
      ],
      "execution_count": 32,
      "outputs": [
        {
          "output_type": "stream",
          "text": [
            "200\n"
          ],
          "name": "stdout"
        }
      ]
    },
    {
      "cell_type": "code",
      "metadata": {
        "id": "T45wPMRQGnhc"
      },
      "source": [
        "soup = BeautifulSoup(r.content,features='lxml')\r\n",
        "articles = soup.find_all('article',class_ = 'clearfix post-35941 post type-post status-publish format-standard has-post-thumbnail hentry category-bear-markets-crash')"
      ],
      "execution_count": 33,
      "outputs": []
    },
    {
      "cell_type": "code",
      "metadata": {
        "id": "D-nMT4TxGyK5",
        "outputId": "690890ab-2e22-4621-fe72-bc3378cf11ef",
        "colab": {
          "base_uri": "https://localhost:8080/"
        }
      },
      "source": [
        "print(articles)"
      ],
      "execution_count": 34,
      "outputs": [
        {
          "output_type": "stream",
          "text": [
            "[<article class=\"clearfix post-35941 post type-post status-publish format-standard has-post-thumbnail hentry category-bear-markets-crash\" id=\"post-35941\" role=\"article\">\n",
            "<aside class=\"post-meta\">\n",
            "<div class=\"meta-box post-date\">\n",
            "<span class=\"day\">05</span>\n",
            "<span class=\"month\">Mar</span>\n",
            "</div>\n",
            "<div class=\"meta-box post-twitter-share\">\n",
            "<a class=\"popup\" href=\"http://twitter.com/intent/tweet?text=Could Inflation Give Us a Wonderful Buying Opportunity? by @awealthofcs https://awealthofcommonsense.com/2021/03/could-inflation-give-us-a-wonderful-buying-opportunity/\" target=\"_blank\">\n",
            "<i class=\"fa fa-twitter\"></i>\n",
            "</a>\n",
            "</div>\n",
            "<div class=\"meta-box post-facebook-share\">\n",
            "<a class=\"popup\" href=\"https://www.facebook.com/sharer/sharer.php?u=https://awealthofcommonsense.com/2021/03/could-inflation-give-us-a-wonderful-buying-opportunity/\" target=\"_blank\">\n",
            "<i class=\"fa fa-facebook\"></i>\n",
            "</a>\n",
            "</div>\n",
            "<div class=\"meta-box post-linkedin-share\">\n",
            "<a class=\"popup\" href=\"http://www.linkedin.com/shareArticle?mini=true&amp;url=https%3A%2F%2Fawealthofcommonsense.com%2F2021%2F03%2Fcould-inflation-give-us-a-wonderful-buying-opportunity%2F&amp;title=Could+Inflation+Give+Us+a+Wonderful+Buying+Opportunity%3F\" target=\"_blank\">\n",
            "<i class=\"fa fa-linkedin\"></i>\n",
            "</a>\n",
            "</div>\n",
            "</aside>\n",
            "<header class=\"article-header\">\n",
            "<h1 class=\"h2\"><a href=\"https://awealthofcommonsense.com/2021/03/could-inflation-give-us-a-wonderful-buying-opportunity/\" rel=\"bookmark\" title=\"Could Inflation Give Us a Wonderful Buying Opportunity?\">Could Inflation Give Us a Wonderful Buying Opportunity?</a></h1>\n",
            "</header> <!-- end article header -->\n",
            "<section class=\"entry-content clearfix\">\n",
            "<img alt=\"\" class=\"attachment-full size-full wp-post-image\" height=\"613\" loading=\"lazy\" sizes=\"(max-width: 472px) 100vw, 472px\" src=\"https://awealthofcommonsense.com/wp-content/uploads/2021/03/Screenshot-2021-03-04-225123.jpg\" srcset=\"https://awealthofcommonsense.com/wp-content/uploads/2021/03/Screenshot-2021-03-04-225123.jpg 472w, https://awealthofcommonsense.com/wp-content/uploads/2021/03/Screenshot-2021-03-04-225123-231x300.jpg 231w\" width=\"472\"/> <p>The potential for an inflation head-fake.</p>\n",
            "</section> <!-- end article section -->\n",
            "<footer class=\"article-footer\">\n",
            "<a class=\"excerpt-read-more\" href=\"https://awealthofcommonsense.com/2021/03/could-inflation-give-us-a-wonderful-buying-opportunity/\">Read More</a>\n",
            "</footer> <!-- end article footer -->\n",
            "</article>]\n"
          ],
          "name": "stdout"
        }
      ]
    },
    {
      "cell_type": "code",
      "metadata": {
        "id": "gZt4Ii92G4fs"
      },
      "source": [
        ""
      ],
      "execution_count": null,
      "outputs": []
    }
  ]
}