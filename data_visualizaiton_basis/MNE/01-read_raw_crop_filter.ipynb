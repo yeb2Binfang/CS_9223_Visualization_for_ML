{
 "cells": [
  {
   "cell_type": "markdown",
   "metadata": {},
   "source": [
    "# Reading & visualizaing raw data, cropping, filtering, and saving"
   ]
  },
  {
   "cell_type": "markdown",
   "metadata": {},
   "source": [
    "## Import the few packages we willl need"
   ]
  },
  {
   "cell_type": "code",
   "execution_count": 1,
   "metadata": {},
   "outputs": [],
   "source": [
    "import matplotlib\n",
    "import pathlib\n",
    "import mne"
   ]
  },
  {
   "cell_type": "markdown",
   "metadata": {},
   "source": [
    "Ensure Matplotlib uses the Qt5Agg backend, which is the best choice for MNE-python's interative plotting functions."
   ]
  },
  {
   "cell_type": "code",
   "execution_count": 2,
   "metadata": {},
   "outputs": [],
   "source": [
    "matplotlib.use('Qt5Agg')"
   ]
  },
  {
   "cell_type": "markdown",
   "metadata": {},
   "source": [
    "Retrieve the storage location of the sample data, and download the dataset if it cannot be found"
   ]
  },
  {
   "cell_type": "code",
   "execution_count": 3,
   "metadata": {},
   "outputs": [
    {
     "data": {
      "text/plain": [
       "WindowsPath('C:/Users/yebin/mne_data/MNE-sample-data')"
      ]
     },
     "execution_count": 3,
     "metadata": {},
     "output_type": "execute_result"
    }
   ],
   "source": [
    "sample_data_dir = mne.datasets.sample.data_path()\n",
    "\n",
    "# convert to a pathlib.Path for more convenience\n",
    "sample_data_dir = pathlib.Path(sample_data_dir)\n",
    "sample_data_dir"
   ]
  },
  {
   "cell_type": "markdown",
   "metadata": {},
   "source": [
    "## Load some raw data"
   ]
  },
  {
   "cell_type": "code",
   "execution_count": 4,
   "metadata": {},
   "outputs": [
    {
     "name": "stdout",
     "output_type": "stream",
     "text": [
      "Opening raw data file C:\\Users\\yebin\\mne_data\\MNE-sample-data\\MEG\\sample\\sample_audvis_raw.fif...\n",
      "    Read a total of 3 projection items:\n",
      "        PCA-v1 (1 x 102)  idle\n",
      "        PCA-v2 (1 x 102)  idle\n",
      "        PCA-v3 (1 x 102)  idle\n",
      "    Range : 25800 ... 192599 =     42.956 ...   320.670 secs\n",
      "Ready.\n"
     ]
    },
    {
     "data": {
      "text/plain": [
       "<Raw | sample_audvis_raw.fif, 376 x 166800 (277.7 s), ~3.3 MB, data not loaded>"
      ]
     },
     "execution_count": 4,
     "metadata": {},
     "output_type": "execute_result"
    }
   ],
   "source": [
    "raw_path = sample_data_dir / 'MEG' / 'sample' / 'sample_audvis_raw.fif'\n",
    "raw = mne.io.read_raw(raw_path)\n",
    "raw"
   ]
  },
  {
   "cell_type": "markdown",
   "metadata": {},
   "source": [
    "## Let's visualize the raw data"
   ]
  },
  {
   "cell_type": "code",
   "execution_count": 8,
   "metadata": {},
   "outputs": [
    {
     "data": {
      "text/plain": [
       "<MNEBrowseFigure size 735x706 with 5 Axes>"
      ]
     },
     "execution_count": 8,
     "metadata": {},
     "output_type": "execute_result"
    },
    {
     "name": "stdout",
     "output_type": "stream",
     "text": [
      "Channels marked as bad: ['MEG 2443', 'EEG 053']\n"
     ]
    }
   ],
   "source": [
    "raw.plot()"
   ]
  },
  {
   "cell_type": "markdown",
   "metadata": {},
   "source": [
    "## Extract events from the STIM channels"
   ]
  },
  {
   "cell_type": "code",
   "execution_count": 5,
   "metadata": {},
   "outputs": [
    {
     "name": "stdout",
     "output_type": "stream",
     "text": [
      "320 events found\n",
      "Event IDs: [ 1  2  3  4  5 32]\n"
     ]
    }
   ],
   "source": [
    "events = mne.find_events(raw)"
   ]
  },
  {
   "cell_type": "code",
   "execution_count": 6,
   "metadata": {},
   "outputs": [
    {
     "data": {
      "text/plain": [
       "{'Auditory/Left': 1,\n",
       " 'Auditory/Right': 2,\n",
       " 'Visual/Left': 3,\n",
       " 'Visual/Right': 4,\n",
       " 'Smiley': 5,\n",
       " 'Button': 32}"
      ]
     },
     "execution_count": 6,
     "metadata": {},
     "output_type": "execute_result"
    }
   ],
   "source": [
    "event_id = {\n",
    "    'Auditory/Left':1,\n",
    "    'Auditory/Right':2,\n",
    "    'Visual/Left':3,\n",
    "    'Visual/Right':4,\n",
    "    'Smiley':5,\n",
    "    'Button':32\n",
    "}\n",
    "event_id"
   ]
  },
  {
   "cell_type": "code",
   "execution_count": 7,
   "metadata": {},
   "outputs": [
    {
     "data": {
      "text/plain": [
       "array([[ 27977,      0,      2],\n",
       "       [ 28345,      0,      3],\n",
       "       [ 28771,      0,      1],\n",
       "       [ 29219,      0,      4],\n",
       "       [ 29652,      0,      2],\n",
       "       [ 30025,      0,      3],\n",
       "       [ 30450,      0,      1],\n",
       "       [ 30839,      0,      4],\n",
       "       [ 31240,      0,      2],\n",
       "       [ 31665,      0,      3],\n",
       "       [ 32101,      0,      1],\n",
       "       [ 32519,      0,      4],\n",
       "       [ 32935,      0,      2],\n",
       "       [ 33325,      0,      3],\n",
       "       [ 33712,      0,      1],\n",
       "       [ 34089,      0,      5],\n",
       "       [ 34532,      0,      2],\n",
       "       [ 34649,      0,     32],\n",
       "       [ 34956,      0,      3],\n",
       "       [ 35428,      0,      1],\n",
       "       [ 35850,      0,      4],\n",
       "       [ 36211,      0,      2],\n",
       "       [ 36576,      0,      3],\n",
       "       [ 37007,      0,      1],\n",
       "       [ 37460,      0,      4],\n",
       "       [ 37910,      0,      2],\n",
       "       [ 38326,      0,      3],\n",
       "       [ 38711,      0,      1],\n",
       "       [ 39130,      0,      4],\n",
       "       [ 39563,      0,      2],\n",
       "       [ 39926,      0,      3],\n",
       "       [ 40405,      0,      1],\n",
       "       [ 40880,      0,      4],\n",
       "       [ 41260,      0,      2],\n",
       "       [ 41646,      0,      3],\n",
       "       [ 42126,      0,      1],\n",
       "       [ 42598,      0,      5],\n",
       "       [ 42938,      0,     32],\n",
       "       [ 42960,      0,      2],\n",
       "       [ 43346,      0,      3],\n",
       "       [ 43781,      0,      1],\n",
       "       [ 44170,      0,      4],\n",
       "       [ 44649,      0,      2],\n",
       "       [ 45115,      0,      3],\n",
       "       [ 45486,      0,      1],\n",
       "       [ 45860,      0,      4],\n",
       "       [ 46240,      0,      2],\n",
       "       [ 46686,      0,      3],\n",
       "       [ 47095,      0,      1],\n",
       "       [ 47530,      0,      4],\n",
       "       [ 47895,      0,      2],\n",
       "       [ 48287,      0,      3],\n",
       "       [ 48722,      0,      1],\n",
       "       [ 49101,      0,      4],\n",
       "       [ 49469,      0,      2],\n",
       "       [ 49897,      0,      3],\n",
       "       [ 50269,      0,      1],\n",
       "       [ 50682,      0,      4],\n",
       "       [ 51046,      0,      2],\n",
       "       [ 51437,      0,      5],\n",
       "       [ 51803,      0,     32],\n",
       "       [ 51881,      0,      1],\n",
       "       [ 52252,      0,      4],\n",
       "       [ 52675,      0,      2],\n",
       "       [ 53118,      0,      3],\n",
       "       [ 53494,      0,      1],\n",
       "       [ 53912,      0,      4],\n",
       "       [ 54320,      0,      2],\n",
       "       [ 54699,      0,      3],\n",
       "       [ 55100,      0,      1],\n",
       "       [ 55463,      0,      4],\n",
       "       [ 55878,      0,      2],\n",
       "       [ 56269,      0,      3],\n",
       "       [ 56717,      0,      1],\n",
       "       [ 57183,      0,      4],\n",
       "       [ 57612,      0,      2],\n",
       "       [ 58079,      0,      3],\n",
       "       [ 58448,      0,      1],\n",
       "       [ 58913,      0,      4],\n",
       "       [ 59320,      0,      5],\n",
       "       [ 59677,      0,     32],\n",
       "       [ 59739,      0,      3],\n",
       "       [ 60129,      0,      1],\n",
       "       [ 60563,      0,      4],\n",
       "       [ 61035,      0,      2],\n",
       "       [ 61458,      0,      3],\n",
       "       [ 61868,      0,      1],\n",
       "       [ 62283,      0,      4],\n",
       "       [ 62682,      0,      2],\n",
       "       [ 63069,      0,      3],\n",
       "       [ 63532,      0,      1],\n",
       "       [ 63923,      0,      4],\n",
       "       [ 64387,      0,      2],\n",
       "       [ 64769,      0,      3],\n",
       "       [ 65181,      0,      1],\n",
       "       [ 65643,      0,      4],\n",
       "       [ 66071,      0,      2],\n",
       "       [ 66538,      0,      3],\n",
       "       [ 66964,      0,      1],\n",
       "       [ 67401,      0,      5],\n",
       "       [ 67782,      0,     32],\n",
       "       [ 67811,      0,      2],\n",
       "       [ 68198,      0,      3],\n",
       "       [ 68666,      0,      1],\n",
       "       [ 69063,      0,      4],\n",
       "       [ 69458,      0,      2],\n",
       "       [ 69859,      0,      3],\n",
       "       [ 70259,      0,      1],\n",
       "       [ 70663,      0,      4],\n",
       "       [ 71128,      0,      2],\n",
       "       [ 71608,      0,      3],\n",
       "       [ 71991,      0,      1],\n",
       "       [ 72442,      0,      4],\n",
       "       [ 72824,      0,      2],\n",
       "       [ 73258,      0,      3],\n",
       "       [ 73718,      0,      1],\n",
       "       [ 74172,      0,      4],\n",
       "       [ 74540,      0,      2],\n",
       "       [ 74919,      0,      3],\n",
       "       [ 75305,      0,      5],\n",
       "       [ 75624,      0,     32],\n",
       "       [ 75724,      0,      4],\n",
       "       [ 76086,      0,      2],\n",
       "       [ 76479,      0,      3],\n",
       "       [ 76894,      0,      1],\n",
       "       [ 77304,      0,      4],\n",
       "       [ 77682,      0,      2],\n",
       "       [ 78130,      0,      3],\n",
       "       [ 78539,      0,      1],\n",
       "       [ 78934,      0,      4],\n",
       "       [ 79361,      0,      2],\n",
       "       [ 79819,      0,      3],\n",
       "       [ 80209,      0,      1],\n",
       "       [ 80624,      0,      4],\n",
       "       [ 81017,      0,      2],\n",
       "       [ 81440,      0,      3],\n",
       "       [ 81911,      0,      1],\n",
       "       [ 82334,      0,      4],\n",
       "       [ 82715,      0,      2],\n",
       "       [ 83150,      0,      3],\n",
       "       [ 83568,      0,      1],\n",
       "       [ 83984,      0,      4],\n",
       "       [ 84446,      0,      2],\n",
       "       [ 84898,      0,      5],\n",
       "       [ 85111,      0,     32],\n",
       "       [ 85299,      0,      1],\n",
       "       [ 85664,      0,      4],\n",
       "       [ 86107,      0,      2],\n",
       "       [ 86520,      0,      3],\n",
       "       [ 86971,      0,      1],\n",
       "       [ 87354,      0,      4],\n",
       "       [ 87724,      0,      2],\n",
       "       [ 88150,      0,      3],\n",
       "       [ 88593,      0,      1],\n",
       "       [ 89024,      0,      4],\n",
       "       [ 89496,      0,      2],\n",
       "       [ 89949,      0,      3],\n",
       "       [ 90419,      0,      1],\n",
       "       [ 90813,      0,      4],\n",
       "       [ 91194,      0,      2],\n",
       "       [ 91600,      0,      3],\n",
       "       [ 92038,      0,      1],\n",
       "       [ 92414,      0,      4],\n",
       "       [ 92801,      0,      5],\n",
       "       [ 93018,      0,     32],\n",
       "       [ 93270,      0,      3],\n",
       "       [ 93669,      0,      1],\n",
       "       [ 94094,      0,      4],\n",
       "       [ 94541,      0,      2],\n",
       "       [ 94960,      0,      3],\n",
       "       [ 95435,      0,      1],\n",
       "       [ 95883,      0,      4],\n",
       "       [ 96329,      0,      2],\n",
       "       [ 96789,      0,      3],\n",
       "       [ 97234,      0,      1],\n",
       "       [ 97703,      0,      4],\n",
       "       [ 98113,      0,      2],\n",
       "       [ 98499,      0,      3],\n",
       "       [ 98903,      0,      1],\n",
       "       [ 99363,      0,      4],\n",
       "       [ 99795,      0,      2],\n",
       "       [100159,      0,      3],\n",
       "       [100620,      0,      1],\n",
       "       [101091,      0,      5],\n",
       "       [101468,      0,      2],\n",
       "       [101540,      0,     32],\n",
       "       [101908,      0,      3],\n",
       "       [102288,      0,      1],\n",
       "       [102713,      0,      4],\n",
       "       [103192,      0,      2],\n",
       "       [103588,      0,      3],\n",
       "       [104033,      0,      1],\n",
       "       [104433,      0,      4],\n",
       "       [104909,      0,      2],\n",
       "       [105348,      0,      3],\n",
       "       [105760,      0,      1],\n",
       "       [106172,      0,      4],\n",
       "       [106620,      0,      2],\n",
       "       [106988,      0,      3],\n",
       "       [107355,      0,      1],\n",
       "       [107743,      0,      4],\n",
       "       [108170,      0,      2],\n",
       "       [108619,      0,      3],\n",
       "       [108975,      0,      5],\n",
       "       [109324,      0,     32],\n",
       "       [109364,      0,      4],\n",
       "       [109741,      0,      2],\n",
       "       [110209,      0,      3],\n",
       "       [110574,      0,      1],\n",
       "       [111004,      0,      4],\n",
       "       [111440,      0,      2],\n",
       "       [111839,      0,      3],\n",
       "       [112292,      0,      1],\n",
       "       [112743,      0,      4],\n",
       "       [113140,      0,      2],\n",
       "       [113589,      0,      3],\n",
       "       [113952,      0,      1],\n",
       "       [114324,      0,      4],\n",
       "       [114740,      0,      2],\n",
       "       [115160,      0,      3],\n",
       "       [115619,      0,      1],\n",
       "       [116083,      0,      4],\n",
       "       [116527,      0,      2],\n",
       "       [116929,      0,      3],\n",
       "       [117304,      0,      1],\n",
       "       [117714,      0,      4],\n",
       "       [118101,      0,      5],\n",
       "       [118369,      0,     32],\n",
       "       [118480,      0,      3],\n",
       "       [118879,      0,      1],\n",
       "       [119235,      0,      4],\n",
       "       [119696,      0,      2],\n",
       "       [120110,      0,      3],\n",
       "       [120539,      0,      1],\n",
       "       [120984,      0,      4],\n",
       "       [121392,      0,      2],\n",
       "       [121800,      0,      3],\n",
       "       [122218,      0,      1],\n",
       "       [122684,      0,      4],\n",
       "       [123065,      0,      2],\n",
       "       [123451,      0,      3],\n",
       "       [123931,      0,      1],\n",
       "       [124404,      0,      4],\n",
       "       [124830,      0,      2],\n",
       "       [125300,      0,      3],\n",
       "       [125709,      0,      1],\n",
       "       [126123,      0,      5],\n",
       "       [126470,      0,     32],\n",
       "       [126546,      0,      2],\n",
       "       [126950,      0,      3],\n",
       "       [127331,      0,      1],\n",
       "       [127705,      0,      4],\n",
       "       [128075,      0,      2],\n",
       "       [128511,      0,      3],\n",
       "       [128925,      0,      1],\n",
       "       [129285,      0,      4],\n",
       "       [129732,      0,      2],\n",
       "       [130111,      0,      3],\n",
       "       [130495,      0,      1],\n",
       "       [130876,      0,      4],\n",
       "       [131253,      0,      2],\n",
       "       [131672,      0,      3],\n",
       "       [132081,      0,      1],\n",
       "       [132556,      0,      4],\n",
       "       [132974,      0,      2],\n",
       "       [133451,      0,      3],\n",
       "       [133927,      0,      5],\n",
       "       [134287,      0,     32],\n",
       "       [134316,      0,      4],\n",
       "       [134729,      0,      2],\n",
       "       [135101,      0,      3],\n",
       "       [135533,      0,      1],\n",
       "       [135916,      0,      4],\n",
       "       [136285,      0,      2],\n",
       "       [136722,      0,      3],\n",
       "       [137133,      0,      1],\n",
       "       [137576,      0,      4],\n",
       "       [137993,      0,      2],\n",
       "       [138412,      0,      3],\n",
       "       [138836,      0,      1],\n",
       "       [139306,      0,      4],\n",
       "       [139737,      0,      2],\n",
       "       [140191,      0,      3],\n",
       "       [140612,      0,      1],\n",
       "       [141085,      0,      4],\n",
       "       [141562,      0,      2],\n",
       "       [141981,      0,      3],\n",
       "       [142446,      0,      5],\n",
       "       [142815,      0,     32],\n",
       "       [142826,      0,      4],\n",
       "       [143218,      0,      2],\n",
       "       [143671,      0,      3],\n",
       "       [144071,      0,      1],\n",
       "       [144545,      0,      4],\n",
       "       [144916,      0,      2],\n",
       "       [145291,      0,      3],\n",
       "       [145666,      0,      1],\n",
       "       [146085,      0,      4],\n",
       "       [146545,      0,      2],\n",
       "       [147011,      0,      3],\n",
       "       [147458,      0,      1],\n",
       "       [147855,      0,      4],\n",
       "       [148304,      0,      2],\n",
       "       [148721,      0,      3],\n",
       "       [149162,      0,      1],\n",
       "       [149555,      0,      4],\n",
       "       [149989,      0,      2],\n",
       "       [150430,      0,      3],\n",
       "       [150872,      0,      1],\n",
       "       [151265,      0,      4],\n",
       "       [151626,      0,      2],\n",
       "       [152030,      0,      5],\n",
       "       [152336,      0,     32],\n",
       "       [152426,      0,      1],\n",
       "       [152825,      0,      4],\n",
       "       [153211,      0,      2],\n",
       "       [153681,      0,      3],\n",
       "       [154080,      0,      1],\n",
       "       [154486,      0,      4],\n",
       "       [168672,      0,     32]], dtype=int64)"
      ]
     },
     "execution_count": 7,
     "metadata": {},
     "output_type": "execute_result"
    }
   ],
   "source": [
    "events"
   ]
  },
  {
   "cell_type": "code",
   "execution_count": 8,
   "metadata": {},
   "outputs": [
    {
     "data": {
      "text/plain": [
       "16"
      ]
     },
     "execution_count": 8,
     "metadata": {},
     "output_type": "execute_result"
    }
   ],
   "source": [
    "len(events[events[:,2]==32])"
   ]
  },
  {
   "cell_type": "markdown",
   "metadata": {},
   "source": [
    "Exercise: How many visual events are in the data?"
   ]
  },
  {
   "cell_type": "code",
   "execution_count": 9,
   "metadata": {},
   "outputs": [
    {
     "data": {
      "text/plain": [
       "144"
      ]
     },
     "execution_count": 9,
     "metadata": {},
     "output_type": "execute_result"
    }
   ],
   "source": [
    "len(events[events[:,2]==3]) + len(events[events[:,2]==4])"
   ]
  },
  {
   "cell_type": "markdown",
   "metadata": {},
   "source": [
    "## Plot the raw data again, but add event markers"
   ]
  },
  {
   "cell_type": "code",
   "execution_count": 10,
   "metadata": {},
   "outputs": [
    {
     "data": {
      "text/plain": [
       "<MNEBrowseFigure size 1920x1001 with 5 Axes>"
      ]
     },
     "execution_count": 10,
     "metadata": {},
     "output_type": "execute_result"
    },
    {
     "name": "stdout",
     "output_type": "stream",
     "text": [
      "Channels marked as bad: ['MEG 2443', 'EEG 053']\n"
     ]
    }
   ],
   "source": [
    "raw.plot(events=events, event_id=event_id)"
   ]
  },
  {
   "cell_type": "markdown",
   "metadata": {},
   "source": [
    "## Gather some info about the data"
   ]
  },
  {
   "cell_type": "code",
   "execution_count": 11,
   "metadata": {},
   "outputs": [
    {
     "data": {
      "text/plain": [
       "<Info | 21 non-empty values\n",
       " acq_pars: ACQch001 110113 ACQch002 110112 ACQch003 110111 ACQch004 110122 ...\n",
       " bads: 2 items (MEG 2443, EEG 053)\n",
       " ch_names: MEG 0113, MEG 0112, MEG 0111, MEG 0122, MEG 0123, MEG 0121, MEG ...\n",
       " chs: 204 GRAD, 102 MAG, 9 STIM, 60 EEG, 1 EOG\n",
       " custom_ref_applied: False\n",
       " description: acquisition (megacq) VectorView system at NMR-MGH\n",
       " dev_head_t: MEG device -> head transform\n",
       " dig: 146 items (3 Cardinal, 4 HPI, 61 EEG, 78 Extra)\n",
       " events: 1 item (list)\n",
       " experimenter: MEG\n",
       " file_id: 4 items (dict)\n",
       " highpass: 0.1 Hz\n",
       " hpi_meas: 1 item (list)\n",
       " hpi_results: 1 item (list)\n",
       " lowpass: 172.2 Hz\n",
       " meas_date: 2002-12-03 19:01:10 UTC\n",
       " meas_id: 4 items (dict)\n",
       " nchan: 376\n",
       " proj_id: 1 item (ndarray)\n",
       " proj_name: test\n",
       " projs: PCA-v1: off, PCA-v2: off, PCA-v3: off\n",
       " sfreq: 600.6 Hz\n",
       ">"
      ]
     },
     "execution_count": 11,
     "metadata": {},
     "output_type": "execute_result"
    }
   ],
   "source": [
    "raw.info"
   ]
  },
  {
   "cell_type": "code",
   "execution_count": 12,
   "metadata": {},
   "outputs": [
    {
     "data": {
      "text/plain": [
       "datetime.datetime(2002, 12, 3, 19, 1, 10, 720100, tzinfo=datetime.timezone.utc)"
      ]
     },
     "execution_count": 12,
     "metadata": {},
     "output_type": "execute_result"
    }
   ],
   "source": [
    "raw.info['meas_date']"
   ]
  },
  {
   "cell_type": "code",
   "execution_count": 13,
   "metadata": {},
   "outputs": [
    {
     "data": {
      "text/plain": [
       "600.614990234375"
      ]
     },
     "execution_count": 13,
     "metadata": {},
     "output_type": "execute_result"
    }
   ],
   "source": [
    "raw.info['sfreq']"
   ]
  },
  {
   "cell_type": "code",
   "execution_count": 14,
   "metadata": {},
   "outputs": [
    {
     "data": {
      "text/plain": [
       "['MEG 2443', 'EEG 053']"
      ]
     },
     "execution_count": 14,
     "metadata": {},
     "output_type": "execute_result"
    }
   ],
   "source": [
    "raw.info['bads']"
   ]
  },
  {
   "cell_type": "code",
   "execution_count": 15,
   "metadata": {},
   "outputs": [
    {
     "data": {
      "text/plain": [
       "['MEG 0113',\n",
       " 'MEG 0112',\n",
       " 'MEG 0111',\n",
       " 'MEG 0122',\n",
       " 'MEG 0123',\n",
       " 'MEG 0121',\n",
       " 'MEG 0132',\n",
       " 'MEG 0133',\n",
       " 'MEG 0131',\n",
       " 'MEG 0143']"
      ]
     },
     "execution_count": 15,
     "metadata": {},
     "output_type": "execute_result"
    }
   ],
   "source": [
    "raw.ch_names[:10]"
   ]
  },
  {
   "cell_type": "markdown",
   "metadata": {},
   "source": [
    "## Visualize the sensor locations\n",
    "\n",
    "The red point is marked as bad"
   ]
  },
  {
   "cell_type": "code",
   "execution_count": 16,
   "metadata": {},
   "outputs": [
    {
     "data": {
      "text/plain": [
       "<Figure size 640x640 with 1 Axes>"
      ]
     },
     "execution_count": 16,
     "metadata": {},
     "output_type": "execute_result"
    }
   ],
   "source": [
    "raw.plot_sensors(ch_type='eeg')"
   ]
  },
  {
   "cell_type": "code",
   "execution_count": 17,
   "metadata": {},
   "outputs": [
    {
     "data": {
      "text/plain": [
       "<Figure size 640x640 with 1 Axes>"
      ]
     },
     "execution_count": 17,
     "metadata": {},
     "output_type": "execute_result"
    }
   ],
   "source": [
    "raw.plot_sensors(kind='3d',ch_type='eeg')"
   ]
  },
  {
   "cell_type": "markdown",
   "metadata": {},
   "source": [
    "## Mark channels as bad\n",
    "\n",
    "Make an additional EEG channel as bad and view the topoplot"
   ]
  },
  {
   "cell_type": "code",
   "execution_count": 18,
   "metadata": {},
   "outputs": [
    {
     "data": {
      "text/plain": [
       "['MEG 2443', 'EEG 053']"
      ]
     },
     "execution_count": 18,
     "metadata": {},
     "output_type": "execute_result"
    }
   ],
   "source": [
    "raw.info['bads']"
   ]
  },
  {
   "cell_type": "code",
   "execution_count": 19,
   "metadata": {},
   "outputs": [
    {
     "data": {
      "text/plain": [
       "<Figure size 640x640 with 1 Axes>"
      ]
     },
     "execution_count": 19,
     "metadata": {},
     "output_type": "execute_result"
    }
   ],
   "source": [
    "raw.info['bads']+=['EEG 051']\n",
    "raw.plot_sensors(ch_type='eeg')"
   ]
  },
  {
   "cell_type": "markdown",
   "metadata": {},
   "source": [
    "## Select only a subset of the channels"
   ]
  },
  {
   "cell_type": "code",
   "execution_count": 20,
   "metadata": {},
   "outputs": [
    {
     "name": "stdout",
     "output_type": "stream",
     "text": [
      "Removing projector <Projection | PCA-v1, active : False, n_channels : 102>\n",
      "Removing projector <Projection | PCA-v2, active : False, n_channels : 102>\n",
      "Removing projector <Projection | PCA-v3, active : False, n_channels : 102>\n"
     ]
    },
    {
     "data": {
      "text/plain": [
       "61"
      ]
     },
     "execution_count": 20,
     "metadata": {},
     "output_type": "execute_result"
    }
   ],
   "source": [
    "raw_eeg = raw.copy().pick_types(meg=False,eeg=True,eog=True,exclude=[])\n",
    "len(raw_eeg.ch_names)"
   ]
  },
  {
   "cell_type": "code",
   "execution_count": 21,
   "metadata": {},
   "outputs": [
    {
     "data": {
      "text/plain": [
       "<Info | 20 non-empty values\n",
       " acq_pars: ACQch001 110113 ACQch002 110112 ACQch003 110111 ACQch004 110122 ...\n",
       " bads: 2 items (EEG 053, EEG 051)\n",
       " ch_names: EEG 001, EEG 002, EEG 003, EEG 004, EEG 005, EEG 006, EEG 007, ...\n",
       " chs: 60 EEG, 1 EOG\n",
       " custom_ref_applied: False\n",
       " description: acquisition (megacq) VectorView system at NMR-MGH\n",
       " dev_head_t: MEG device -> head transform\n",
       " dig: 146 items (3 Cardinal, 4 HPI, 61 EEG, 78 Extra)\n",
       " events: 1 item (list)\n",
       " experimenter: MEG\n",
       " file_id: 4 items (dict)\n",
       " highpass: 0.1 Hz\n",
       " hpi_meas: 1 item (list)\n",
       " hpi_results: 1 item (list)\n",
       " lowpass: 172.2 Hz\n",
       " meas_date: 2002-12-03 19:01:10 UTC\n",
       " meas_id: 4 items (dict)\n",
       " nchan: 61\n",
       " proj_id: 1 item (ndarray)\n",
       " proj_name: test\n",
       " projs: []\n",
       " sfreq: 600.6 Hz\n",
       ">"
      ]
     },
     "execution_count": 21,
     "metadata": {},
     "output_type": "execute_result"
    }
   ],
   "source": [
    "raw_eeg.info"
   ]
  },
  {
   "cell_type": "code",
   "execution_count": 22,
   "metadata": {},
   "outputs": [
    {
     "data": {
      "text/plain": [
       "<MNEBrowseFigure size 1920x1001 with 4 Axes>"
      ]
     },
     "execution_count": 22,
     "metadata": {},
     "output_type": "execute_result"
    },
    {
     "name": "stdout",
     "output_type": "stream",
     "text": [
      "Channels marked as bad: ['EEG 053', 'EEG 051']\n"
     ]
    }
   ],
   "source": [
    "raw_eeg.plot(events=events, event_id=event_id)"
   ]
  },
  {
   "cell_type": "markdown",
   "metadata": {},
   "source": [
    "Exercise\n",
    "* select only MEG channels('meg')\n",
    "* select only mag channels('mag')"
   ]
  },
  {
   "cell_type": "code",
   "execution_count": 23,
   "metadata": {},
   "outputs": [
    {
     "data": {
      "text/plain": [
       "306"
      ]
     },
     "execution_count": 23,
     "metadata": {},
     "output_type": "execute_result"
    }
   ],
   "source": [
    "raw_meg = raw.copy().pick_types(meg=True,eeg=False,eog=False,exclude=[])\n",
    "len(raw_meg.ch_names)"
   ]
  },
  {
   "cell_type": "markdown",
   "metadata": {},
   "source": [
    "## Crop and filter the data"
   ]
  },
  {
   "cell_type": "code",
   "execution_count": 24,
   "metadata": {},
   "outputs": [
    {
     "data": {
      "text/plain": [
       "99.99916914588277"
      ]
     },
     "execution_count": 24,
     "metadata": {},
     "output_type": "execute_result"
    }
   ],
   "source": [
    "raw_eeg_cropped = raw_eeg.copy().crop(tmax=100)\n",
    "raw_eeg_cropped.times[-1]"
   ]
  },
  {
   "cell_type": "code",
   "execution_count": 25,
   "metadata": {},
   "outputs": [
    {
     "ename": "RuntimeError",
     "evalue": "By default, MNE does not load data into main memory to conserve resources. inst.filter requires raw data to be loaded. Use preload=True (or string) in the constructor or raw.load_data().",
     "output_type": "error",
     "traceback": [
      "\u001b[1;31m---------------------------------------------------------------------------\u001b[0m",
      "\u001b[1;31mRuntimeError\u001b[0m                              Traceback (most recent call last)",
      "\u001b[1;32m<ipython-input-25-e81e694b9e84>\u001b[0m in \u001b[0;36m<module>\u001b[1;34m\u001b[0m\n\u001b[1;32m----> 1\u001b[1;33m \u001b[0mraw_eeg_cropped_filtered\u001b[0m \u001b[1;33m=\u001b[0m \u001b[0mraw_eeg_cropped\u001b[0m\u001b[1;33m.\u001b[0m\u001b[0mfilter\u001b[0m\u001b[1;33m(\u001b[0m\u001b[0ml_freq\u001b[0m\u001b[1;33m=\u001b[0m\u001b[1;36m0.1\u001b[0m\u001b[1;33m,\u001b[0m\u001b[0mh_freq\u001b[0m\u001b[1;33m=\u001b[0m\u001b[1;36m40\u001b[0m\u001b[1;33m)\u001b[0m\u001b[1;33m\u001b[0m\u001b[1;33m\u001b[0m\u001b[0m\n\u001b[0m",
      "\u001b[1;32m~\\anaconda3\\lib\\site-packages\\mne\\io\\base.py\u001b[0m in \u001b[0;36mfilter\u001b[1;34m(self, l_freq, h_freq, picks, filter_length, l_trans_bandwidth, h_trans_bandwidth, n_jobs, method, iir_params, phase, fir_window, fir_design, skip_by_annotation, pad, verbose)\u001b[0m\n\u001b[0;32m    969\u001b[0m                \u001b[0mskip_by_annotation\u001b[0m\u001b[1;33m=\u001b[0m\u001b[1;33m(\u001b[0m\u001b[1;34m'edge'\u001b[0m\u001b[1;33m,\u001b[0m \u001b[1;34m'bad_acq_skip'\u001b[0m\u001b[1;33m)\u001b[0m\u001b[1;33m,\u001b[0m\u001b[1;33m\u001b[0m\u001b[1;33m\u001b[0m\u001b[0m\n\u001b[0;32m    970\u001b[0m                pad='reflect_limited', verbose=None):  # noqa: D102\n\u001b[1;32m--> 971\u001b[1;33m         return super().filter(\n\u001b[0m\u001b[0;32m    972\u001b[0m             \u001b[0ml_freq\u001b[0m\u001b[1;33m,\u001b[0m \u001b[0mh_freq\u001b[0m\u001b[1;33m,\u001b[0m \u001b[0mpicks\u001b[0m\u001b[1;33m,\u001b[0m \u001b[0mfilter_length\u001b[0m\u001b[1;33m,\u001b[0m \u001b[0ml_trans_bandwidth\u001b[0m\u001b[1;33m,\u001b[0m\u001b[1;33m\u001b[0m\u001b[1;33m\u001b[0m\u001b[0m\n\u001b[0;32m    973\u001b[0m             \u001b[0mh_trans_bandwidth\u001b[0m\u001b[1;33m,\u001b[0m \u001b[0mn_jobs\u001b[0m\u001b[1;33m,\u001b[0m \u001b[0mmethod\u001b[0m\u001b[1;33m,\u001b[0m \u001b[0miir_params\u001b[0m\u001b[1;33m,\u001b[0m \u001b[0mphase\u001b[0m\u001b[1;33m,\u001b[0m\u001b[1;33m\u001b[0m\u001b[1;33m\u001b[0m\u001b[0m\n",
      "\u001b[1;32m<decorator-gen-63>\u001b[0m in \u001b[0;36mfilter\u001b[1;34m(self, l_freq, h_freq, picks, filter_length, l_trans_bandwidth, h_trans_bandwidth, n_jobs, method, iir_params, phase, fir_window, fir_design, skip_by_annotation, pad, verbose)\u001b[0m\n",
      "\u001b[1;32m~\\anaconda3\\lib\\site-packages\\mne\\filter.py\u001b[0m in \u001b[0;36mfilter\u001b[1;34m(self, l_freq, h_freq, picks, filter_length, l_trans_bandwidth, h_trans_bandwidth, n_jobs, method, iir_params, phase, fir_window, fir_design, skip_by_annotation, pad, verbose)\u001b[0m\n\u001b[0;32m   1985\u001b[0m         \"\"\"\n\u001b[0;32m   1986\u001b[0m         \u001b[1;32mfrom\u001b[0m \u001b[1;33m.\u001b[0m\u001b[0mio\u001b[0m\u001b[1;33m.\u001b[0m\u001b[0mbase\u001b[0m \u001b[1;32mimport\u001b[0m \u001b[0mBaseRaw\u001b[0m\u001b[1;33m\u001b[0m\u001b[1;33m\u001b[0m\u001b[0m\n\u001b[1;32m-> 1987\u001b[1;33m         \u001b[0m_check_preload\u001b[0m\u001b[1;33m(\u001b[0m\u001b[0mself\u001b[0m\u001b[1;33m,\u001b[0m \u001b[1;34m'inst.filter'\u001b[0m\u001b[1;33m)\u001b[0m\u001b[1;33m\u001b[0m\u001b[1;33m\u001b[0m\u001b[0m\n\u001b[0m\u001b[0;32m   1988\u001b[0m         \u001b[1;32mif\u001b[0m \u001b[0mpad\u001b[0m \u001b[1;32mis\u001b[0m \u001b[1;32mNone\u001b[0m \u001b[1;32mand\u001b[0m \u001b[0mmethod\u001b[0m \u001b[1;33m!=\u001b[0m \u001b[1;34m'iir'\u001b[0m\u001b[1;33m:\u001b[0m\u001b[1;33m\u001b[0m\u001b[1;33m\u001b[0m\u001b[0m\n\u001b[0;32m   1989\u001b[0m             \u001b[0mpad\u001b[0m \u001b[1;33m=\u001b[0m \u001b[1;34m'edge'\u001b[0m\u001b[1;33m\u001b[0m\u001b[1;33m\u001b[0m\u001b[0m\n",
      "\u001b[1;32m~\\anaconda3\\lib\\site-packages\\mne\\utils\\check.py\u001b[0m in \u001b[0;36m_check_preload\u001b[1;34m(inst, msg)\u001b[0m\n\u001b[0;32m    196\u001b[0m         \u001b[0mname\u001b[0m \u001b[1;33m=\u001b[0m \u001b[1;34m\"epochs\"\u001b[0m \u001b[1;32mif\u001b[0m \u001b[0misinstance\u001b[0m\u001b[1;33m(\u001b[0m\u001b[0minst\u001b[0m\u001b[1;33m,\u001b[0m \u001b[0mBaseEpochs\u001b[0m\u001b[1;33m)\u001b[0m \u001b[1;32melse\u001b[0m \u001b[1;34m'raw'\u001b[0m\u001b[1;33m\u001b[0m\u001b[1;33m\u001b[0m\u001b[0m\n\u001b[0;32m    197\u001b[0m         \u001b[1;32mif\u001b[0m \u001b[1;32mnot\u001b[0m \u001b[0minst\u001b[0m\u001b[1;33m.\u001b[0m\u001b[0mpreload\u001b[0m\u001b[1;33m:\u001b[0m\u001b[1;33m\u001b[0m\u001b[1;33m\u001b[0m\u001b[0m\n\u001b[1;32m--> 198\u001b[1;33m             raise RuntimeError(\n\u001b[0m\u001b[0;32m    199\u001b[0m                 \u001b[1;34m\"By default, MNE does not load data into main memory to \"\u001b[0m\u001b[1;33m\u001b[0m\u001b[1;33m\u001b[0m\u001b[0m\n\u001b[0;32m    200\u001b[0m                 \u001b[1;34m\"conserve resources. \"\u001b[0m \u001b[1;33m+\u001b[0m \u001b[0mmsg\u001b[0m \u001b[1;33m+\u001b[0m \u001b[1;34m' requires %s data to be '\u001b[0m\u001b[1;33m\u001b[0m\u001b[1;33m\u001b[0m\u001b[0m\n",
      "\u001b[1;31mRuntimeError\u001b[0m: By default, MNE does not load data into main memory to conserve resources. inst.filter requires raw data to be loaded. Use preload=True (or string) in the constructor or raw.load_data()."
     ]
    }
   ],
   "source": [
    "raw_eeg_cropped_filtered = raw_eeg_cropped.filter(l_freq=0.1,h_freq=40)"
   ]
  },
  {
   "cell_type": "code",
   "execution_count": 26,
   "metadata": {},
   "outputs": [
    {
     "name": "stdout",
     "output_type": "stream",
     "text": [
      "Reading 0 ... 60061  =      0.000 ...    99.999 secs...\n",
      "Filtering raw data in 1 contiguous segment\n",
      "Setting up band-pass filter from 0.1 - 40 Hz\n",
      "\n",
      "FIR filter parameters\n",
      "---------------------\n",
      "Designing a one-pass, zero-phase, non-causal bandpass filter:\n",
      "- Windowed time-domain design (firwin) method\n",
      "- Hamming window with 0.0194 passband ripple and 53 dB stopband attenuation\n",
      "- Lower passband edge: 0.10\n",
      "- Lower transition bandwidth: 0.10 Hz (-6 dB cutoff frequency: 0.05 Hz)\n",
      "- Upper passband edge: 40.00 Hz\n",
      "- Upper transition bandwidth: 10.00 Hz (-6 dB cutoff frequency: 45.00 Hz)\n",
      "- Filter length: 19821 samples (33.001 sec)\n",
      "\n"
     ]
    }
   ],
   "source": [
    "raw_eeg_cropped.load_data()\n",
    "raw_eeg_cropped_filtered = raw_eeg_cropped.copy().filter(l_freq=0.1,h_freq=40)"
   ]
  },
  {
   "cell_type": "code",
   "execution_count": 29,
   "metadata": {},
   "outputs": [
    {
     "data": {
      "text/plain": [
       "<MNEBrowseFigure size 1920x1001 with 4 Axes>"
      ]
     },
     "execution_count": 29,
     "metadata": {},
     "output_type": "execute_result"
    },
    {
     "name": "stdout",
     "output_type": "stream",
     "text": [
      "Channels marked as bad: ['EEG 053', 'EEG 051', 'EEG 001']\n",
      "Channels marked as bad: ['EEG 053', 'EEG 051']\n"
     ]
    }
   ],
   "source": [
    "raw_eeg_cropped.plot(events=events, event_id=event_id,title='unfiltered')\n",
    "raw_eeg_cropped_filtered.plot(events=events, event_id=event_id,title='filtered')"
   ]
  },
  {
   "cell_type": "code",
   "execution_count": 30,
   "metadata": {},
   "outputs": [
    {
     "name": "stdout",
     "output_type": "stream",
     "text": [
      "Effective window size : 3.410 (s)\n",
      "Effective window size : 3.410 (s)\n"
     ]
    },
    {
     "name": "stderr",
     "output_type": "stream",
     "text": [
      "<ipython-input-30-b3d4fd9401a6>:11: UserWarning: This figure includes Axes that are not compatible with tight_layout, so results might be incorrect.\n",
      "  plt.show()\n",
      "C:\\Users\\yebin\\anaconda3\\lib\\site-packages\\mne\\viz\\evoked.py:80: UserWarning: This figure includes Axes that are not compatible with tight_layout, so results might be incorrect.\n",
      "  event.canvas.draw()\n",
      "C:\\Users\\yebin\\anaconda3\\lib\\site-packages\\mne\\viz\\evoked.py:107: UserWarning: This figure includes Axes that are not compatible with tight_layout, so results might be incorrect.\n",
      "  evoked_fig.canvas.draw()\n",
      "C:\\Users\\yebin\\anaconda3\\lib\\site-packages\\mne\\viz\\evoked.py:108: UserWarning: This figure includes Axes that are not compatible with tight_layout, so results might be incorrect.\n",
      "  evoked_fig.canvas.flush_events()\n",
      "C:\\Users\\yebin\\anaconda3\\lib\\site-packages\\mne\\viz\\evoked.py:152: UserWarning: This figure includes Axes that are not compatible with tight_layout, so results might be incorrect.\n",
      "  evoked_fig.canvas.draw()\n",
      "C:\\Users\\yebin\\anaconda3\\lib\\site-packages\\mne\\viz\\evoked.py:161: UserWarning: This figure includes Axes that are not compatible with tight_layout, so results might be incorrect.\n",
      "  ax.get_figure().canvas.draw()\n"
     ]
    }
   ],
   "source": [
    "import matplotlib.pyplot as plt\n",
    "\n",
    "fig, ax = plt.subplots(2)\n",
    "raw_eeg_cropped.plot_psd(ax=ax[0],show=False)\n",
    "raw_eeg_cropped_filtered.plot_psd(ax=ax[1],show=False)\n",
    "\n",
    "ax[0].set_title('PSD before filtering')\n",
    "ax[1].set_title('PSD after filtering')\n",
    "ax[1].set_xlabel('Frequency (Hz)')\n",
    "fig.set_tight_layout(True)\n",
    "plt.show()"
   ]
  },
  {
   "cell_type": "markdown",
   "metadata": {},
   "source": [
    "Exercise:\n",
    "* filter the raw data with a 1 Hz high-pass and a 30 Hz low-pass filter and plot the PSD"
   ]
  },
  {
   "cell_type": "markdown",
   "metadata": {},
   "source": [
    "## Save the data"
   ]
  },
  {
   "cell_type": "code",
   "execution_count": 34,
   "metadata": {},
   "outputs": [
    {
     "name": "stdout",
     "output_type": "stream",
     "text": [
      "Writing C:\\Users\\yebin\\CS-GY9223\\MNE\\out_data\\eeg_cropped_filt_raw.fif\n",
      "Closing C:\\Users\\yebin\\CS-GY9223\\MNE\\out_data\\eeg_cropped_filt_raw.fif\n",
      "[done]\n"
     ]
    }
   ],
   "source": [
    "raw_eeg_cropped_filtered.save(pathlib.Path('out_data')/'eeg_cropped_filt_raw.fif',\n",
    "                             overwrite=True)"
   ]
  },
  {
   "cell_type": "code",
   "execution_count": null,
   "metadata": {},
   "outputs": [],
   "source": []
  }
 ],
 "metadata": {
  "kernelspec": {
   "display_name": "Python 3",
   "language": "python",
   "name": "python3"
  },
  "language_info": {
   "codemirror_mode": {
    "name": "ipython",
    "version": 3
   },
   "file_extension": ".py",
   "mimetype": "text/x-python",
   "name": "python",
   "nbconvert_exporter": "python",
   "pygments_lexer": "ipython3",
   "version": "3.8.5"
  }
 },
 "nbformat": 4,
 "nbformat_minor": 4
}
