{
  "nbformat": 4,
  "nbformat_minor": 0,
  "metadata": {
    "colab": {
      "name": "Numpy & Panda & Matplotlib.ipynb",
      "provenance": [],
      "collapsed_sections": [],
      "authorship_tag": "ABX9TyOXy/i+9LzpDvdO+uUGdywv",
      "include_colab_link": true
    },
    "kernelspec": {
      "name": "python3",
      "display_name": "Python 3"
    }
  },
  "cells": [
    {
      "cell_type": "markdown",
      "metadata": {
        "id": "view-in-github",
        "colab_type": "text"
      },
      "source": [
        "<a href=\"https://colab.research.google.com/github/yeb2Binfang/CS_9223_Visualization_for_ML/blob/main/data_visualizaiton_basis/Python_Basis/Numpy_%26_Panda_%26_Matplotlib.ipynb\" target=\"_parent\"><img src=\"https://colab.research.google.com/assets/colab-badge.svg\" alt=\"Open In Colab\"/></a>"
      ]
    },
    {
      "cell_type": "markdown",
      "metadata": {
        "id": "uZhYWcwCxf4q"
      },
      "source": [
        "我们要学习Python的基础，Numpy是非常重要的，因为Numpy计算矩阵非常快，所以我们需要掌握Numpy。Panda的话是数据展示，也非常重要，所以就打算花一些时间来学习Numpy\r\n",
        "和panda"
      ]
    },
    {
      "cell_type": "markdown",
      "metadata": {
        "id": "U2RbdEcrykMG"
      },
      "source": [
        "##Numpy package"
      ]
    },
    {
      "cell_type": "code",
      "metadata": {
        "id": "0ZEli3tpxbaD"
      },
      "source": [
        "import numpy as np"
      ],
      "execution_count": 1,
      "outputs": []
    },
    {
      "cell_type": "markdown",
      "metadata": {
        "id": "ti5wG1eBysXE"
      },
      "source": [
        "##use numpy to create the array"
      ]
    },
    {
      "cell_type": "code",
      "metadata": {
        "colab": {
          "base_uri": "https://localhost:8080/"
        },
        "id": "WwQibSfoyreQ",
        "outputId": "4ff74cef-bcf2-4636-a02e-e65c3529e39b"
      },
      "source": [
        "arr = np.array([[1,2,3],[4,5,6],[7,8,9]])\r\n",
        "print(arr)"
      ],
      "execution_count": 2,
      "outputs": [
        {
          "output_type": "stream",
          "text": [
            "[[1 2 3]\n",
            " [4 5 6]\n",
            " [7 8 9]]\n"
          ],
          "name": "stdout"
        }
      ]
    },
    {
      "cell_type": "code",
      "metadata": {
        "colab": {
          "base_uri": "https://localhost:8080/"
        },
        "id": "HUXKhmngy7QS",
        "outputId": "56a8676a-fcbc-4872-a6a7-72aea49c3244"
      },
      "source": [
        "print(\"number of dimension: {0:1d}\".format(arr.ndim))"
      ],
      "execution_count": 6,
      "outputs": [
        {
          "output_type": "stream",
          "text": [
            "number of dimension: 2\n"
          ],
          "name": "stdout"
        }
      ]
    },
    {
      "cell_type": "markdown",
      "metadata": {
        "id": "Z8xUsN4Kzp5B"
      },
      "source": [
        "use numpy create all one with 3 by 4 matrix and dtype is int"
      ]
    },
    {
      "cell_type": "code",
      "metadata": {
        "colab": {
          "base_uri": "https://localhost:8080/"
        },
        "id": "tcWs8xJoy_yj",
        "outputId": "ca18ba1a-e1be-4bd8-c8c3-e6da975a19d7"
      },
      "source": [
        "all_one = np.ones((3,4),dtype=int)\r\n",
        "print(all_one)"
      ],
      "execution_count": 9,
      "outputs": [
        {
          "output_type": "stream",
          "text": [
            "[[1 1 1 1]\n",
            " [1 1 1 1]\n",
            " [1 1 1 1]]\n"
          ],
          "name": "stdout"
        }
      ]
    },
    {
      "cell_type": "markdown",
      "metadata": {
        "id": "rBnnhN9c0As5"
      },
      "source": [
        "use numpy to create a number sequence\r\n",
        "\r\n",
        "remember, is we use arange,,for example, arange(10,20), then the range is [10,20)\r\n",
        "\r\n",
        "if we use arange(10,20,5), it means we will get the number from [10,20) and each number is 5 difference"
      ]
    },
    {
      "cell_type": "code",
      "metadata": {
        "colab": {
          "base_uri": "https://localhost:8080/"
        },
        "id": "TMx0aOxQzi3T",
        "outputId": "b3b5715e-51f9-46f3-ace3-1f06d7958fbc"
      },
      "source": [
        "range_num = np.arange(10,20,5)\r\n",
        "print(range_num)"
      ],
      "execution_count": 11,
      "outputs": [
        {
          "output_type": "stream",
          "text": [
            "[10 15]\n"
          ],
          "name": "stdout"
        }
      ]
    },
    {
      "cell_type": "markdown",
      "metadata": {
        "id": "rLCriiQY0pij"
      },
      "source": [
        "linspace, 就是在吗，某个范围内进行数字均分，比如说，np.linspace(1,10,6),表示在[1,10]之间分6段"
      ]
    },
    {
      "cell_type": "code",
      "metadata": {
        "colab": {
          "base_uri": "https://localhost:8080/"
        },
        "id": "UWA1klTRz7Kp",
        "outputId": "bdab258b-3da0-4fee-9b24-2fb3c45a650f"
      },
      "source": [
        "linspace = np.linspace(1,10,6)\r\n",
        "print(linspace)"
      ],
      "execution_count": 12,
      "outputs": [
        {
          "output_type": "stream",
          "text": [
            "[ 1.   2.8  4.6  6.4  8.2 10. ]\n"
          ],
          "name": "stdout"
        }
      ]
    },
    {
      "cell_type": "markdown",
      "metadata": {
        "id": "zbGVHCHr1KHj"
      },
      "source": [
        "##use numpy to calculate"
      ]
    },
    {
      "cell_type": "markdown",
      "metadata": {
        "id": "EQlbdYWt1nqF"
      },
      "source": [
        "一维的数组进行运算，蛮简单的"
      ]
    },
    {
      "cell_type": "code",
      "metadata": {
        "colab": {
          "base_uri": "https://localhost:8080/"
        },
        "id": "ZeMKJpBB0nfu",
        "outputId": "50ff1943-3a09-43a7-ee7a-93ab3870d212"
      },
      "source": [
        "arr1 = np.array([1,2,3])\r\n",
        "arr2 = np.array([4,5,6])\r\n",
        "arr3 = arr1 + arr2\r\n",
        "print(arr3)"
      ],
      "execution_count": 13,
      "outputs": [
        {
          "output_type": "stream",
          "text": [
            "[5 7 9]\n"
          ],
          "name": "stdout"
        }
      ]
    },
    {
      "cell_type": "code",
      "metadata": {
        "colab": {
          "base_uri": "https://localhost:8080/"
        },
        "id": "cDa5wDeC1XCt",
        "outputId": "2192bfe3-e0a0-4753-a508-8f62e2c4d259"
      },
      "source": [
        "print(arr3==5)"
      ],
      "execution_count": 14,
      "outputs": [
        {
          "output_type": "stream",
          "text": [
            "[ True False False]\n"
          ],
          "name": "stdout"
        }
      ]
    },
    {
      "cell_type": "markdown",
      "metadata": {
        "id": "gSmH1sSt1msW"
      },
      "source": [
        "矩阵运算"
      ]
    },
    {
      "cell_type": "code",
      "metadata": {
        "colab": {
          "base_uri": "https://localhost:8080/"
        },
        "id": "25PQqCPj1j8b",
        "outputId": "18aaa00f-e20b-4000-819c-a870ae88776f"
      },
      "source": [
        "arr1 = np.arange(10,20).reshape((2,5))\r\n",
        "arr2 = np.arange(30,40).reshape((5,2))\r\n",
        "print(arr1)\r\n",
        "print(arr2)"
      ],
      "execution_count": 20,
      "outputs": [
        {
          "output_type": "stream",
          "text": [
            "[[10 11 12 13 14]\n",
            " [15 16 17 18 19]]\n",
            "[[30 31]\n",
            " [32 33]\n",
            " [34 35]\n",
            " [36 37]\n",
            " [38 39]]\n"
          ],
          "name": "stdout"
        }
      ]
    },
    {
      "cell_type": "markdown",
      "metadata": {
        "id": "rhflZp_n2wo9"
      },
      "source": [
        "if we use dot product, then the dimension is a*b dot b*a matrix, then we will get a*a metrix, it is very important"
      ]
    },
    {
      "cell_type": "code",
      "metadata": {
        "colab": {
          "base_uri": "https://localhost:8080/"
        },
        "id": "Kv0a682T2Egc",
        "outputId": "5765371c-6d7a-41bd-88c7-853aa4302b51"
      },
      "source": [
        "a_dot_b = arr1.dot(arr2)\r\n",
        "print(a_dot_b)"
      ],
      "execution_count": 21,
      "outputs": [
        {
          "output_type": "stream",
          "text": [
            "[[2060 2120]\n",
            " [2910 2995]]\n"
          ],
          "name": "stdout"
        }
      ]
    },
    {
      "cell_type": "markdown",
      "metadata": {
        "id": "O-AZquMo3qKn"
      },
      "source": [
        "create random matrix"
      ]
    },
    {
      "cell_type": "code",
      "metadata": {
        "id": "e1cDlhiu2gyy"
      },
      "source": [
        "random = np.random.rand(3,5)\r\n"
      ],
      "execution_count": 29,
      "outputs": []
    },
    {
      "cell_type": "code",
      "metadata": {
        "colab": {
          "base_uri": "https://localhost:8080/"
        },
        "id": "NTtIVXKv3MZQ",
        "outputId": "72ecfcf1-36cc-480e-f36b-0343e247ddfa"
      },
      "source": [
        "sum_col = np.sum(random,axis=0)\r\n",
        "sum_row = np.sum(random,axis=1)\r\n",
        "print(sum_col)\r\n",
        "print(sum_row)"
      ],
      "execution_count": 30,
      "outputs": [
        {
          "output_type": "stream",
          "text": [
            "[1.19073405 1.63544777 2.16144321 1.09202081 1.75528764]\n",
            "[1.26337559 2.73346458 3.83809332]\n"
          ],
          "name": "stdout"
        }
      ]
    },
    {
      "cell_type": "markdown",
      "metadata": {
        "id": "JYuYavkq6lss"
      },
      "source": [
        "np.nonzero, it will return the indices of the elements that are non-zero."
      ]
    },
    {
      "cell_type": "code",
      "metadata": {
        "colab": {
          "base_uri": "https://localhost:8080/"
        },
        "id": "zMUTtYjP4BRM",
        "outputId": "a58bffad-c57b-47f3-fd43-b1b68783ada0"
      },
      "source": [
        "print(np.nonzero(random))"
      ],
      "execution_count": 31,
      "outputs": [
        {
          "output_type": "stream",
          "text": [
            "(array([0, 0, 0, 0, 0, 1, 1, 1, 1, 1, 2, 2, 2, 2, 2]), array([0, 1, 2, 3, 4, 0, 1, 2, 3, 4, 0, 1, 2, 3, 4]))\n"
          ],
          "name": "stdout"
        }
      ]
    },
    {
      "cell_type": "code",
      "metadata": {
        "colab": {
          "base_uri": "https://localhost:8080/"
        },
        "id": "2Y_656qO6Wdq",
        "outputId": "c29c13ed-9298-4dc1-c796-baea429a2413"
      },
      "source": [
        "arr1 = np.arange(14,2,-1).reshape((2,6))\r\n",
        "print(arr1)"
      ],
      "execution_count": 34,
      "outputs": [
        {
          "output_type": "stream",
          "text": [
            "[[14 13 12 11 10  9]\n",
            " [ 8  7  6  5  4  3]]\n"
          ],
          "name": "stdout"
        }
      ]
    },
    {
      "cell_type": "markdown",
      "metadata": {
        "id": "eATpbe0n7eIA"
      },
      "source": [
        "这个clip的功能就是Clip (limit) the values in an array.\r\n",
        "\r\n",
        "Given an interval, values outside the interval are clipped to\r\n",
        "the interval edges.  For example, if an interval of [0, 1]\r\n",
        "is specified, values smaller than 0 become 0, and values larger\r\n",
        "than 1 become 1."
      ]
    },
    {
      "cell_type": "code",
      "metadata": {
        "colab": {
          "base_uri": "https://localhost:8080/"
        },
        "id": "B3aB3Ofm7AMM",
        "outputId": "ea7973f2-cadb-4fbb-ce57-192a679b56d6"
      },
      "source": [
        "print(np.clip(arr1,5,9)) np.clip()"
      ],
      "execution_count": 35,
      "outputs": [
        {
          "output_type": "stream",
          "text": [
            "[[9 9 9 9 9 9]\n",
            " [8 7 6 5 5 5]]\n"
          ],
          "name": "stdout"
        }
      ]
    },
    {
      "cell_type": "code",
      "metadata": {
        "id": "b0rJaJFS7dbh"
      },
      "source": [
        ""
      ],
      "execution_count": null,
      "outputs": []
    },
    {
      "cell_type": "markdown",
      "metadata": {
        "id": "YRKPKC0r9aZM"
      },
      "source": [
        "##panda 基础\r\n",
        "导包"
      ]
    },
    {
      "cell_type": "code",
      "metadata": {
        "id": "pqcaLODJ9e2P"
      },
      "source": [
        "import pandas as pd"
      ],
      "execution_count": 36,
      "outputs": []
    },
    {
      "cell_type": "code",
      "metadata": {
        "colab": {
          "base_uri": "https://localhost:8080/"
        },
        "id": "rfuO68ys9grq",
        "outputId": "0980cd3b-4af5-4a02-9fdd-84b8fb88f774"
      },
      "source": [
        "s = pd.Series([1,2,3,4,5,np.nan,3,4])\r\n",
        "print(s)"
      ],
      "execution_count": 39,
      "outputs": [
        {
          "output_type": "stream",
          "text": [
            "0    1.0\n",
            "1    2.0\n",
            "2    3.0\n",
            "3    4.0\n",
            "4    5.0\n",
            "5    NaN\n",
            "6    3.0\n",
            "7    4.0\n",
            "dtype: float64\n"
          ],
          "name": "stdout"
        }
      ]
    },
    {
      "cell_type": "code",
      "metadata": {
        "colab": {
          "base_uri": "https://localhost:8080/",
          "height": 284
        },
        "id": "zs_Qus_C_a3J",
        "outputId": "207dff5e-ec03-4abf-a7a3-018a5ee603e7"
      },
      "source": [
        "df = pd.DataFrame(s)\r\n",
        "df"
      ],
      "execution_count": 41,
      "outputs": [
        {
          "output_type": "execute_result",
          "data": {
            "text/html": [
              "<div>\n",
              "<style scoped>\n",
              "    .dataframe tbody tr th:only-of-type {\n",
              "        vertical-align: middle;\n",
              "    }\n",
              "\n",
              "    .dataframe tbody tr th {\n",
              "        vertical-align: top;\n",
              "    }\n",
              "\n",
              "    .dataframe thead th {\n",
              "        text-align: right;\n",
              "    }\n",
              "</style>\n",
              "<table border=\"1\" class=\"dataframe\">\n",
              "  <thead>\n",
              "    <tr style=\"text-align: right;\">\n",
              "      <th></th>\n",
              "      <th>0</th>\n",
              "    </tr>\n",
              "  </thead>\n",
              "  <tbody>\n",
              "    <tr>\n",
              "      <th>0</th>\n",
              "      <td>1.0</td>\n",
              "    </tr>\n",
              "    <tr>\n",
              "      <th>1</th>\n",
              "      <td>2.0</td>\n",
              "    </tr>\n",
              "    <tr>\n",
              "      <th>2</th>\n",
              "      <td>3.0</td>\n",
              "    </tr>\n",
              "    <tr>\n",
              "      <th>3</th>\n",
              "      <td>4.0</td>\n",
              "    </tr>\n",
              "    <tr>\n",
              "      <th>4</th>\n",
              "      <td>5.0</td>\n",
              "    </tr>\n",
              "    <tr>\n",
              "      <th>5</th>\n",
              "      <td>NaN</td>\n",
              "    </tr>\n",
              "    <tr>\n",
              "      <th>6</th>\n",
              "      <td>3.0</td>\n",
              "    </tr>\n",
              "    <tr>\n",
              "      <th>7</th>\n",
              "      <td>4.0</td>\n",
              "    </tr>\n",
              "  </tbody>\n",
              "</table>\n",
              "</div>"
            ],
            "text/plain": [
              "     0\n",
              "0  1.0\n",
              "1  2.0\n",
              "2  3.0\n",
              "3  4.0\n",
              "4  5.0\n",
              "5  NaN\n",
              "6  3.0\n",
              "7  4.0"
            ]
          },
          "metadata": {
            "tags": []
          },
          "execution_count": 41
        }
      ]
    },
    {
      "cell_type": "markdown",
      "metadata": {
        "id": "2wLcCmfGAjcK"
      },
      "source": [
        "##Matplotlib"
      ]
    },
    {
      "cell_type": "code",
      "metadata": {
        "id": "u-mg5-2q_5_w"
      },
      "source": [
        "from matplotlib import pyplot as plt"
      ],
      "execution_count": 42,
      "outputs": []
    },
    {
      "cell_type": "code",
      "metadata": {
        "id": "Bq2NbJeAEpdo"
      },
      "source": [
        "x = range(2,26,2)\r\n",
        "#y = [1,2,3,4,5,6,7,8,9,10,11,12]\r\n",
        "y = np.array([1,34,2,41,36,47,18,29,15,51,12,23])"
      ],
      "execution_count": 50,
      "outputs": []
    },
    {
      "cell_type": "markdown",
      "metadata": {
        "id": "ZRkf9WO4HhFg"
      },
      "source": [
        "我们要知道\r\n",
        "plt.figure，就是给个画板，然后设置画板大小\r\n",
        "xtick, ytick就是设置x,y轴的刻度"
      ]
    },
    {
      "cell_type": "code",
      "metadata": {
        "colab": {
          "base_uri": "https://localhost:8080/",
          "height": 369
        },
        "id": "sL4XI40MEzbW",
        "outputId": "bc92906f-8220-45df-f419-fc8a717ea7e4"
      },
      "source": [
        "plt.figure(figsize=(20,5),dpi=80)\r\n",
        "plt.xticks(range(2,25))\r\n",
        "plt.plot(x,y)\r\n",
        "plt.show()\r\n",
        "plt.savefig(\"t1.png\")"
      ],
      "execution_count": 56,
      "outputs": [
        {
          "output_type": "display_data",
          "data": {
            "image/png": "[encoded data removed]",
            "text/plain": [
              "<Figure size 1600x400 with 1 Axes>"
            ]
          },
          "metadata": {
            "tags": [],
            "needs_background": "light"
          }
        },
        {
          "output_type": "display_data",
          "data": {
            "text/plain": [
              "<Figure size 432x288 with 0 Axes>"
            ]
          },
          "metadata": {
            "tags": []
          }
        }
      ]
    },
    {
      "cell_type": "code",
      "metadata": {
        "colab": {
          "base_uri": "https://localhost:8080/",
          "height": 338
        },
        "id": "0IZWLA6DNHlQ",
        "outputId": "be87191c-c803-4c0c-ec20-ba4bc8bedafc"
      },
      "source": [
        "plt.figure(figsize=(20,5))\r\n",
        "x = range(0,120)\r\n",
        "y = [np.random.randint(20,60) for i in range(120)] \r\n",
        "\r\n",
        "#调整x轴的刻度\r\n",
        "_x = list(x)[::3]\r\n",
        "_xtick_labels = [\"10:{}\".format(i) for i in range(60)]\r\n",
        "_xtick_labels += [\"11:{}\".format(i) for i in range(60)]\r\n",
        "plt.xticks(_x,_xtick_labels,rotation=90)\r\n",
        "plt.plot(x,y)\r\n",
        "plt.show()"
      ],
      "execution_count": 76,
      "outputs": [
        {
          "output_type": "display_data",
          "data": {
            "image/png": "[encoded data removed]",
            "text/plain": [
              "<Figure size 1440x360 with 1 Axes>"
            ]
          },
          "metadata": {
            "tags": [],
            "needs_background": "light"
          }
        }
      ]
    },
    {
      "cell_type": "code",
      "metadata": {
        "colab": {
          "base_uri": "https://localhost:8080/"
        },
        "id": "9kT9qpXDN1cq",
        "outputId": "16b72cc1-297f-4214-d202-f7e031297f4d"
      },
      "source": [
        "#调整x轴的刻度\r\n",
        "_x = list(x)[::3]\r\n",
        "print(_x)"
      ],
      "execution_count": 73,
      "outputs": [
        {
          "output_type": "stream",
          "text": [
            "[0, 3, 6, 9, 12, 15, 18, 21, 24, 27, 30, 33, 36, 39, 42, 45, 48, 51, 54, 57, 60, 63, 66, 69, 72, 75, 78, 81, 84, 87, 90, 93, 96, 99, 102, 105, 108, 111, 114, 117]\n"
          ],
          "name": "stdout"
        }
      ]
    },
    {
      "cell_type": "code",
      "metadata": {
        "colab": {
          "base_uri": "https://localhost:8080/",
          "height": 282
        },
        "id": "VBtNp_1IFcAH",
        "outputId": "6ce983fa-663d-4b26-a71c-fc792162061b"
      },
      "source": [
        "a = np.array([1,0,1,1,2,4,3,2,3,4,4,5,6,5,4,3,3,1,1,1])\r\n",
        "b = np.array([1,0,3,1,2,2,3,3,2,1,2,1,1,1,1,1,1,1,1,1])\r\n",
        "\r\n",
        "x = np.arange(11,31)\r\n",
        "plt.xticks(np.arange(11,311,1))\r\n",
        "plt.plot(x,a, label = \"a\", color=\"cyan\", linestyle=\":\",linewidth = \"5\")\r\n",
        "plt.plot(x,b, label = \"b\", color=\"red\",linestyle=\"-\")\r\n",
        "#leg = [\"a\",\"b\"]\r\n",
        "plt.legend()"
      ],
      "execution_count": 71,
      "outputs": [
        {
          "output_type": "execute_result",
          "data": {
            "text/plain": [
              "<matplotlib.legend.Legend at 0x7f60ddfdce48>"
            ]
          },
          "metadata": {
            "tags": []
          },
          "execution_count": 71
        },
        {
          "output_type": "display_data",
          "data": {
            "image/png": "[encoded data removed]",
            "text/plain": [
              "<Figure size 432x288 with 1 Axes>"
            ]
          },
          "metadata": {
            "tags": [],
            "needs_background": "light"
          }
        }
      ]
    },
    {
      "cell_type": "markdown",
      "metadata": {
        "id": "z0McRriuPTs0"
      },
      "source": [
        "###scatter plot"
      ]
    },
    {
      "cell_type": "code",
      "metadata": {
        "id": "pZCE-Uf3NGRM"
      },
      "source": [
        ""
      ],
      "execution_count": null,
      "outputs": []
    },
    {
      "cell_type": "code",
      "metadata": {
        "id": "PiYBvdQVKfim"
      },
      "source": [
        ""
      ],
      "execution_count": null,
      "outputs": []
    }
  ]
}