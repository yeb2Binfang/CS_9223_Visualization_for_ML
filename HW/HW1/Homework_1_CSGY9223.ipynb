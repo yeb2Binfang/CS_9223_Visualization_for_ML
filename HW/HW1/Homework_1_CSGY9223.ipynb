{
 "cells": [
  {
   "cell_type": "markdown",
   "metadata": {
    "id": "MuqXzqXITFJe"
   },
   "source": [
    "# Homework 1: CS-GY 9223\n",
    "## Exploring 20 NewsGroups"
   ]
  },
  {
   "cell_type": "markdown",
   "metadata": {
    "id": "mKb5SmMLTFJg"
   },
   "source": [
    "In this homework, you will write a D3 Visualization in Javascript and integrate it in Jupyter Notebook.\n",
    "\n",
    "The goal of this exercise is to explore the **20 News Groups dataset**, a popular machine learning dataset that contains news articles grouped in 20 topics. Your visualization should receive the dataset and display a bar chart with the top most frequent words in the dataset. The user should be able to filter the data based on topic (for example, by clicking in checkboxes, selecting from a drop down menu, etc.). The user should also be able to export the selected documents from the selected topic back to Python (using a button).\n",
    "\n",
    "In summary, your visualization should have the following capabilities:\n",
    "- Display a bar chart with the top K words in the document collection\n",
    "- Enable the user to filter the documents based on topic, and display a bar chart with the frequency of the top K words from that topic.\n",
    "- Export the documents from the selected news topic back to python (as a list of strings).\n",
    "- The visualization has to be integrated with python. The API should have two functions:\n",
    "  - `plot_top_words(documents, K) # plot top K words using D3 and Javascript`\n",
    "  - `get_exported_documents() # get the exported documents back to python`\n",
    "  \n",
    "Example of the resulting visualization:\n",
    "<img src=\"https://github.com/yeb2Binfang/CS_9223_Visualization_for_ML/blob/main/HW/HW1/HW_Vis.png?raw=1\" width = \"500px\" height=\"100px\"/>"
   ]
  },
  {
   "cell_type": "markdown",
   "metadata": {
    "id": "ZTxGnXtUTFJh"
   },
   "source": [
    "### Accessing the data"
   ]
  },
  {
   "cell_type": "markdown",
   "metadata": {
    "id": "wZVe59vcTFJi"
   },
   "source": [
    "The data should be accessed from sklearn. In this section we show an example of code for accessing the documents and the document classes."
   ]
  },
  {
   "cell_type": "code",
   "execution_count": 1,
   "metadata": {
    "colab": {
     "base_uri": "https://localhost:8080/"
    },
    "id": "Jc3-Krw1TFJi",
    "outputId": "aeae98cb-decd-4dfc-c2dc-d7643d686fa1"
   },
   "outputs": [],
   "source": [
    "# Fetching the data\n",
    "from sklearn.datasets import fetch_20newsgroups\n",
    "import numpy as np\n",
    "newsgroups = fetch_20newsgroups(subset='test',remove=('headers', 'footers', 'quotes'))\n",
    "\n",
    "# getting the topic ids\n",
    "topic_idx = np.array(newsgroups.target, dtype=int)\n",
    "\n",
    "# getting the unique topic names\n",
    "topic_names = np.array(newsgroups.target_names)\n",
    "\n",
    "# getting the list of documents\n",
    "documents = list(newsgroups.data)\n",
    "\n",
    "# getting the list of topics (in the same order as documents)\n",
    "topics = list(topic_names[topic_idx])"
   ]
  },
  {
   "cell_type": "markdown",
   "metadata": {
    "id": "K7iWtSQATFJj"
   },
   "source": [
    "These are the 20 topics in the dataset:"
   ]
  },
  {
   "cell_type": "code",
   "execution_count": 2,
   "metadata": {
    "colab": {
     "base_uri": "https://localhost:8080/"
    },
    "id": "LJW1MRGTTFJj",
    "outputId": "186e3cfc-1726-4167-9c97-14857d421869"
   },
   "outputs": [
    {
     "data": {
      "text/plain": [
       "array(['alt.atheism', 'comp.graphics', 'comp.os.ms-windows.misc',\n",
       "       'comp.sys.ibm.pc.hardware', 'comp.sys.mac.hardware',\n",
       "       'comp.windows.x', 'misc.forsale', 'rec.autos', 'rec.motorcycles',\n",
       "       'rec.sport.baseball', 'rec.sport.hockey', 'sci.crypt',\n",
       "       'sci.electronics', 'sci.med', 'sci.space',\n",
       "       'soc.religion.christian', 'talk.politics.guns',\n",
       "       'talk.politics.mideast', 'talk.politics.misc',\n",
       "       'talk.religion.misc'], dtype='<U24')"
      ]
     },
     "execution_count": 2,
     "metadata": {},
     "output_type": "execute_result"
    }
   ],
   "source": [
    "topic_names"
   ]
  },
  {
   "cell_type": "markdown",
   "metadata": {
    "id": "2QuIAu1_TFJk"
   },
   "source": [
    "The documents and document topics are assigned to the variables *documents* and *topics*. We print some document examples below."
   ]
  },
  {
   "cell_type": "code",
   "execution_count": 3,
   "metadata": {
    "colab": {
     "base_uri": "https://localhost:8080/"
    },
    "id": "PDMC6gRYTFJk",
    "outputId": "bd6a49af-48be-413e-d712-45af3a8a9e95"
   },
   "outputs": [
    {
     "name": "stdout",
     "output_type": "stream",
     "text": [
      "Topic: rec.autos\n",
      "------------------------------------------------------------\n",
      "Document:\n",
      "I am a little confused on all of the models of the 88-89 bonnevilles.\n",
      "I have heard of the LE SE LSE SSE SSEI. Could someone tell me the\n",
      "differences are far as features or performance. I am also curious to\n",
      "know what the book value is for prefereably the 89 model. And how much\n",
      "less than book value can you usually get them for. In other words how\n",
      "much are they in demand this time of year. I have heard that the mid-spring\n",
      "early summer is the best time to buy.\n",
      "============================================================\n",
      "\n",
      "Topic: comp.windows.x\n",
      "------------------------------------------------------------\n",
      "Document:\n",
      "I'm not familiar at all with the format of these \"X-Face:\" thingies, but\n",
      "after seeing them in some folks' headers, I've *got* to *see* them (and\n",
      "maybe make one of my own)!\n",
      "\n",
      "I've got \"dpg-view\" on my Linux box (which displays \"uncompressed X-Faces\")\n",
      "and I've managed to compile [un]compface too... but now that I'm *looking*\n",
      "for them, I can't seem to find any X-Face:'s in anyones news headers!  :-(\n",
      "\n",
      "Could you, would you, please send me your \"X-Face:\" header?\n",
      "\n",
      "I *know* I'll probably get a little swamped, but I can handle it.\n",
      "\n",
      "\t...I hope.\n",
      "============================================================\n",
      "\n"
     ]
    }
   ],
   "source": [
    "for i in range(2):\n",
    "    print(\"Topic: {}\".format(topics[i]))\n",
    "    print(\"-\"*60)\n",
    "    print(\"Document:\")\n",
    "    print(documents[i])\n",
    "    print(\"=\"*60)\n",
    "    print(\"\")"
   ]
  },
  {
   "cell_type": "markdown",
   "metadata": {},
   "source": [
    "## plot_top_words(documents, K)"
   ]
  },
  {
   "cell_type": "markdown",
   "metadata": {
    "id": "yDL-0FsxjcjS"
   },
   "source": [
    "### count word frequency\n",
    "this function is used to count the word frequences, I will split the word such as  I'll to \"I\" and \"ll\"\n",
    "\n",
    "For this dunction, it will return the array of top k words and the array of each word's frequences in accending order"
   ]
  },
  {
   "cell_type": "code",
   "execution_count": 4,
   "metadata": {
    "id": "t-vkgsYZj9Ac"
   },
   "outputs": [],
   "source": [
    "import operator\n",
    "\n",
    "def count_word_frequency(document,k):\n",
    "  doc = document\n",
    "  ##create a dist\n",
    "  data = {}\n",
    "  words = doc.replace(\"(\",' ').replace(\")\",' ').replace(\"'\",' ').replace(\"*\",' ').replace(\".\",' ').replace(\"/\",' ').replace(\"_\",' ').replace(\"-\",' ').replace(\":\",' ').replace(\"<\",' ').replace(\">\",' ').replace(\"[\",' ').replace(\"]\",' ').replace(\"!\",' ').replace(\"?\",' ').replace(\",\",' ').strip(\"\\n\").lower()\n",
    "  ##split the text\n",
    "  words1 = words.split()\n",
    "  ##count text\n",
    "  for word in words1:\n",
    "    if word in data:\n",
    "      data[word] +=1\n",
    "    else:\n",
    "      data[word] = 1\n",
    "  ###\n",
    "  #sorted the dist by value in acending order\n",
    "  sorted_fre = np.array(sorted(data.items(), key=operator.itemgetter(1),reverse=True))\n",
    "\n",
    "  num_of_words = sorted_fre.shape[0]\n",
    "  fre = np.zeros(num_of_words)\n",
    "  words = []\n",
    "\n",
    "  for i in range(0,num_of_words):\n",
    "    fre[i] = int(sorted_fre[i][1])\n",
    "    w = sorted_fre[i][0]\n",
    "    words.append(w)\n",
    "    \n",
    "  words = np.array(words)\n",
    "  \n",
    "\n",
    "  return words[:k].tolist(),fre[:k].tolist()\n",
    "\n"
   ]
  },
  {
   "cell_type": "markdown",
   "metadata": {},
   "source": [
    "### get data in dict format\n",
    "the data format\n",
    "\n",
    "data_dict_words_and_wordFre\n",
    "\n",
    "{\n",
    "\n",
    "'topic1':[{word:'I',fre:'3'},{word:'love',fre:3]}],\n",
    "\n",
    "'topic2'...\n",
    "\n",
    "}\n",
    "\n",
    "\n",
    "data_dict\n",
    "\n",
    "{\n",
    "\n",
    "'topic1':{'word':['w1','w2'...'wk'],'fre':[f1,f2,...fk]},\n",
    "\n",
    "'topic2':...\n",
    "\n",
    "}\n"
   ]
  },
  {
   "cell_type": "code",
   "execution_count": 5,
   "metadata": {},
   "outputs": [],
   "source": [
    "topic_names_List = topic_names.tolist()\n",
    "def getData(documents,topic_names_List,k):\n",
    "  data_dict_words_and_wordFre = {}\n",
    "  for i in range(len(topic_names_List)):\n",
    "    words,words_fre = count_word_frequency(document=documents[i],k=k)\n",
    "    data_dict_words_and_wordFre[topic_names_List[i]] = {'words':words,'words_fre':words_fre}\n",
    "    \n",
    "  data_dict = {}\n",
    "  for i in range(len(topic_names_List)):\n",
    "    data_dict[topic_names_List[i]] = []\n",
    "    for j in range(k):\n",
    "      if j>(len(data_dict_words_and_wordFre[topic_names_List[i]]['words'])-1):\n",
    "       break\n",
    "      dic = {'word':data_dict_words_and_wordFre[topic_names_List[i]]['words'][j],'fre':data_dict_words_and_wordFre[topic_names_List[i]]['words_fre'][j]}\n",
    "      data_dict[topic_names_List[i]].append(dic)\n",
    "  return data_dict,data_dict_words_and_wordFre"
   ]
  },
  {
   "cell_type": "markdown",
   "metadata": {},
   "source": [
    "### Import Packages"
   ]
  },
  {
   "cell_type": "code",
   "execution_count": 6,
   "metadata": {},
   "outputs": [],
   "source": [
    "from IPython.display import display, HTML\n",
    "import json\n",
    "from string import Template"
   ]
  },
  {
   "cell_type": "code",
   "execution_count": 7,
   "metadata": {},
   "outputs": [
    {
     "data": {
      "application/javascript": [
       "require.config({\n",
       "    paths: {\n",
       "        d3: \"https://d3js.org/d3.v6.min\"\n",
       "     }\n",
       "});\n",
       "\n",
       "require([\"d3\"], function(d3) {\n",
       "    window.d3 = d3;\n",
       "});\n"
      ],
      "text/plain": [
       "<IPython.core.display.Javascript object>"
      ]
     },
     "metadata": {},
     "output_type": "display_data"
    }
   ],
   "source": [
    "%%javascript\n",
    "require.config({\n",
    "    paths: {\n",
    "        d3: \"https://d3js.org/d3.v6.min\"\n",
    "     }\n",
    "});\n",
    "\n",
    "require([\"d3\"], function(d3) {\n",
    "    window.d3 = d3;\n",
    "});"
   ]
  },
  {
   "cell_type": "markdown",
   "metadata": {},
   "source": [
    "### communicate between JS and python"
   ]
  },
  {
   "cell_type": "code",
   "execution_count": 8,
   "metadata": {},
   "outputs": [],
   "source": [
    "name = ''\n",
    "def target_func(comm, open_msg):\n",
    "    # comm is the kernel Comm instance\n",
    "\n",
    "    # Register handler for later messages\n",
    "    @comm.on_msg\n",
    "    def _recv(msg):\n",
    "        # Use msg['content']['data'] for the data in the message\n",
    "        document_name = msg['content']['data']['document_name']\n",
    "        global name\n",
    "        name = document_name\n",
    "        #comm.send({'array':doc[n] })\n",
    "\n",
    "get_ipython().kernel.comm_manager.register_target('my_comm_target', target_func)"
   ]
  },
  {
   "cell_type": "markdown",
   "metadata": {},
   "source": [
    "### plot and visualize"
   ]
  },
  {
   "cell_type": "code",
   "execution_count": 9,
   "metadata": {},
   "outputs": [],
   "source": [
    "def plot_top_words(documents,k):\n",
    "    ## get data\n",
    "    data_dict,data_dict_words_and_wordFre=getData(documents,topic_names_List,k)\n",
    "    template = Template(\"\"\"\n",
    "                <html>\n",
    "\n",
    "                <head>\n",
    "                </head>\n",
    "\n",
    "                <body>\n",
    "                  <!-- Load d3.js -->\n",
    "                  <script src=\"https://d3js.org/d3.v4.js\"></script>\n",
    "\n",
    "                  <!-- Initialize a select button -->\n",
    "                  <select id=\"selectButton\"></select>\n",
    "\n",
    "                  <!-- Create a div where the graph will take place -->\n",
    "                  <div id=\"my_dataviz\"></div>\n",
    "\n",
    "                  <button id=\"button\">Exported Document</button>\n",
    "\n",
    "                  <!-- Color Scale -->\n",
    "                  <script src=\"https://d3js.org/d3-scale-chromatic.v1.min.js\"></script>\n",
    "                  <script>\n",
    "                    //dataset\n",
    "                    //console.log(name);\n",
    "                    var name = 'alt.atheism'\n",
    "                    // List of groups (here I have one group per column)\n",
    "                    var topic = $topic;\n",
    "                    //console.log(topic);\n",
    "\n",
    "                    var dict1 = $dict1;\n",
    "                    var dict2 = $dict2;\n",
    "                    var data1 = dict1[name];\n",
    "                    //console.log(dict1);\n",
    "\n",
    "                    var words = dict2[name]['words'];\n",
    "                    //console.log(words);\n",
    "\n",
    "                    var words_fre = dict2[name]['words_fre'];\n",
    "                    var max = words_fre[0]\n",
    "\n",
    "                    // add the options to the button\n",
    "                    d3.select(\"#selectButton\")\n",
    "                      .selectAll('myOptions')\n",
    "                      .data(topic)\n",
    "                      .enter()\n",
    "                      .append('option')\n",
    "                      .text(function (d) { return d; }) // text showed in the menu\n",
    "                      .attr(\"value\", function (d) { return d; }) // corresponding value returned by the button\n",
    "\n",
    "                    // set the dimensions and margins of the graph\n",
    "                    var margin = {top: 20, right: 30, bottom: 40, left: 90},\n",
    "                        width = 460 - margin.left - margin.right,\n",
    "                        height = 400 - margin.top - margin.bottom;\n",
    "\n",
    "                    // append the svg object to the body of the page\n",
    "                    var svg = d3.select(\"#my_dataviz\")\n",
    "                                .append(\"svg\")\n",
    "                                .attr(\"id\",\"graph\")\n",
    "                                .attr(\"width\", width + margin.left + margin.right)\n",
    "                                .attr(\"height\", height + margin.top + margin.bottom)\n",
    "                                .append(\"g\")\n",
    "                                .attr(\"transform\",\n",
    "                                \"translate(\" + margin.left + \",\" + margin.top + \")\");\n",
    "\n",
    "                    // Initialize the X axis\n",
    "                    var x = d3.scaleLinear()\n",
    "                      .range([ 0, width]);\n",
    "                    var xAxis = svg.append(\"g\")\n",
    "                      .attr(\"transform\", \"translate(0,\" + height + \")\")\n",
    "                      .attr(\"class\", \"myXaxis\");\n",
    "                      \n",
    "                    // Add X axis label:\n",
    "                    svg.append(\"text\")\n",
    "                      .attr(\"text-anchor\", \"end\")\n",
    "                      .attr(\"x\", width)\n",
    "                      .attr(\"y\", height + 40)\n",
    "                      .text(\"words fre\");\n",
    "\n",
    "                    // Y axis\n",
    "                    var y = d3.scaleBand()\n",
    "                      .range([ 0, height ])\n",
    "                      .padding(.1);\n",
    "                    var yAxis = svg.append(\"g\")\n",
    "                                   .text(\"words\");\n",
    "                    \n",
    "\n",
    "                    function update(data_dict,data_word_and_fre){\n",
    "                      // Update the Y axis\n",
    "                      y.domain(data_word_and_fre['words']);\n",
    "                      yAxis.transition().duration(1000).call(d3.axisLeft(y));\n",
    "\n",
    "                      // Update the X axis\n",
    "                      max = data_word_and_fre['words_fre'][0];\n",
    "                      x.domain([0,max])\n",
    "                      xAxis.call(d3.axisBottom(x));\n",
    "\n",
    "                      //Bars\n",
    "                      var bar = svg.selectAll(\"myRect\")\n",
    "                        .data(data_dict)\n",
    "\n",
    "                      bar\n",
    "                        .enter()\n",
    "                        .append(\"rect\")\n",
    "                        .transition()\n",
    "                        .duration(1000)\n",
    "                          .attr(\"x\", x(0) )\n",
    "                          .attr(\"id\",\"myrect\")\n",
    "                          .attr(\"y\", function(d) { return y(d.word); })\n",
    "                          .attr(\"width\", function(d) { return x(d.fre); })\n",
    "                          .attr(\"height\", y.bandwidth() )\n",
    "                          .attr(\"fill\", \"#69b3a2\");\n",
    "\n",
    "                      bar.exit()\n",
    "                        .remove()\n",
    "\n",
    "                      output()\n",
    "                    }\n",
    "\n",
    "                    // When the button is changed, run the updateChart function\n",
    "                    d3.select(\"#selectButton\").on(\"change\", function(d) {\n",
    "                        // recover the option that has been chosen\n",
    "                        var selectedOption = d3.select(this).property(\"value\")\n",
    "                        // run the updateChart function with this selected option\n",
    "                        d3.select(\"#my_dataviz\").selectAll(\"#myrect\").remove();\n",
    "\n",
    "                        update(dict1[selectedOption],dict2[selectedOption]);\n",
    "                    })\n",
    "\n",
    "                    var first=true;\n",
    "                    if(first==true){\n",
    "                      update(dict1['alt.atheism'],dict2['alt.atheism']);\n",
    "                      fist=false;\n",
    "                    }\n",
    "\n",
    "                    function output(){\n",
    "                        let comm = Jupyter.notebook.kernel.comm_manager.new_comm('my_comm_target')\n",
    "                        // Send data\n",
    "                        comm.send({'document_name': 'alt.atheism'});\n",
    "\n",
    "                        // Register a handler\n",
    "                        comm.on_msg(function(msg) {\n",
    "                            //let data = msg.content.data.array;        \n",
    "                            //console.log(data)\n",
    "                            //d3.select(\"#div_receive_data\").selectAll(\"*\").remove()\n",
    "                            //bar_chart(\"#div_receive_data\", data)\n",
    "                            //document.getElementById(\"div_receive_data\").innerHTML = data;\n",
    "\n",
    "                        });\n",
    "\n",
    "                        // Setting up button\n",
    "                        document.getElementById(\"button\").addEventListener(\"click\", ()=>{\n",
    "                            let n = d3.select(\"#selectButton\").property(\"value\");\n",
    "\n",
    "                            //console.log(n);\n",
    "                            comm.send({'document_name': n});\n",
    "\n",
    "                        }); \n",
    "                    }\n",
    "\n",
    "                  </script>\n",
    "\n",
    "                </body>\n",
    "                </html>\n",
    "                \"\"\")\n",
    "    my_html = template.safe_substitute(topic=topic_names_List,dict1=data_dict,dict2=data_dict_words_and_wordFre)\n",
    "    display(HTML(my_html))\n",
    "    \n",
    "    "
   ]
  },
  {
   "cell_type": "code",
   "execution_count": 10,
   "metadata": {},
   "outputs": [
    {
     "data": {
      "text/html": [
       "\n",
       "                <html>\n",
       "\n",
       "                <head>\n",
       "                </head>\n",
       "\n",
       "                <body>\n",
       "                  <!-- Load d3.js -->\n",
       "                  <script src=\"https://d3js.org/d3.v4.js\"></script>\n",
       "\n",
       "                  <!-- Initialize a select button -->\n",
       "                  <select id=\"selectButton\"></select>\n",
       "\n",
       "                  <!-- Create a div where the graph will take place -->\n",
       "                  <div id=\"my_dataviz\"></div>\n",
       "\n",
       "                  <button id=\"button\">Exported Document</button>\n",
       "\n",
       "                  <!-- Color Scale -->\n",
       "                  <script src=\"https://d3js.org/d3-scale-chromatic.v1.min.js\"></script>\n",
       "                  <script>\n",
       "                    //dataset\n",
       "                    //console.log(name);\n",
       "                    var name = 'alt.atheism'\n",
       "                    // List of groups (here I have one group per column)\n",
       "                    var topic = ['alt.atheism', 'comp.graphics', 'comp.os.ms-windows.misc', 'comp.sys.ibm.pc.hardware', 'comp.sys.mac.hardware', 'comp.windows.x', 'misc.forsale', 'rec.autos', 'rec.motorcycles', 'rec.sport.baseball', 'rec.sport.hockey', 'sci.crypt', 'sci.electronics', 'sci.med', 'sci.space', 'soc.religion.christian', 'talk.politics.guns', 'talk.politics.mideast', 'talk.politics.misc', 'talk.religion.misc'];\n",
       "                    //console.log(topic);\n",
       "\n",
       "                    var dict1 = {'alt.atheism': [{'word': 'the', 'fre': 8.0}, {'word': 'i', 'fre': 4.0}, {'word': 'of', 'fre': 4.0}, {'word': 'am', 'fre': 2.0}, {'word': '89', 'fre': 2.0}, {'word': 'have', 'fre': 2.0}], 'comp.graphics': [{'word': 'i', 'fre': 10.0}, {'word': 'face', 'fre': 3.0}, {'word': 'but', 'fre': 3.0}, {'word': 'them', 'fre': 3.0}, {'word': 've', 'fre': 3.0}, {'word': 'to', 'fre': 3.0}], 'comp.os.ms-windows.misc': [{'word': 'in', 'fre': 1.0}, {'word': 'a', 'fre': 1.0}, {'word': 'word', 'fre': 1.0}, {'word': 'yes', 'fre': 1.0}], 'comp.sys.ibm.pc.hardware': [{'word': 'the', 'fre': 44.0}, {'word': 'of', 'fre': 18.0}, {'word': 'and', 'fre': 17.0}, {'word': 'in', 'fre': 15.0}, {'word': 'to', 'fre': 14.0}, {'word': 'that', 'fre': 14.0}], 'comp.sys.mac.hardware': [{'word': 'i', 'fre': 1.0}, {'word': 've', 'fre': 1.0}, {'word': 'just', 'fre': 1.0}, {'word': 'spent', 'fre': 1.0}, {'word': 'two', 'fre': 1.0}, {'word': 'solid', 'fre': 1.0}], 'comp.windows.x': [{'word': 'i', 'fre': 21.0}, {'word': 'a', 'fre': 17.0}, {'word': 'the', 'fre': 15.0}, {'word': 'to', 'fre': 14.0}, {'word': 'and', 'fre': 12.0}, {'word': 'of', 'fre': 11.0}], 'misc.forsale': [{'word': 'money', 'fre': 2.0}, {'word': 'little', 'fre': 2.0}, {'word': 'dishonest', 'fre': 1.0}, {'word': 'dwindles', 'fre': 1.0}, {'word': 'away', 'fre': 1.0}, {'word': 'but', 'fre': 1.0}], 'rec.autos': [{'word': 'the', 'fre': 4.0}, {'word': 'a', 'fre': 3.0}, {'word': 'of', 'fre': 3.0}, {'word': 'it', 'fre': 3.0}, {'word': 'to', 'fre': 2.0}, {'word': 'get', 'fre': 2.0}], 'rec.motorcycles': [{'word': 'a', 'fre': 3.0}, {'word': 'we', 'fre': 2.0}, {'word': 'display', 'fre': 2.0}, {'word': 'any', 'fre': 2.0}, {'word': 'is', 'fre': 2.0}, {'word': 'the', 'fre': 2.0}], 'rec.sport.baseball': [{'word': 'a', 'fre': 6.0}, {'word': 'i', 'fre': 5.0}, {'word': 'and', 'fre': 5.0}, {'word': 'it', 'fre': 5.0}, {'word': 'the', 'fre': 4.0}, {'word': 'into', 'fre': 3.0}], 'rec.sport.hockey': [{'word': 'on', 'fre': 3.0}, {'word': 'line', 'fre': 3.0}, {'word': 'i', 'fre': 2.0}, {'word': 'the', 'fre': 2.0}, {'word': 'windows', 'fre': 2.0}, {'word': 'shareware', 'fre': 2.0}], 'sci.crypt': [{'word': 'color', 'fre': 6.0}, {'word': 'x', 'fre': 4.0}, {'word': 'have', 'fre': 3.0}, {'word': 'with', 'fre': 3.0}, {'word': 'the', 'fre': 3.0}, {'word': 'i', 'fre': 2.0}], 'sci.electronics': [{'word': 'the', 'fre': 8.0}, {'word': 'you', 'fre': 4.0}, {'word': 'that', 'fre': 4.0}, {'word': 'to', 'fre': 3.0}, {'word': 'of', 'fre': 3.0}, {'word': 'what', 'fre': 3.0}], 'sci.med': [{'word': 'i', 'fre': 4.0}, {'word': 'and', 'fre': 2.0}, {'word': 'accusation', 'fre': 1.0}, {'word': 'thought', 'fre': 1.0}, {'word': 'it', 'fre': 1.0}, {'word': 'was', 'fre': 1.0}], 'sci.space': [{'word': 'the', 'fre': 17.0}, {'word': 'is', 'fre': 16.0}, {'word': 'to', 'fre': 16.0}, {'word': 'of', 'fre': 13.0}, {'word': 'it', 'fre': 11.0}, {'word': 'a', 'fre': 10.0}], 'soc.religion.christian': [{'word': 'the', 'fre': 12.0}, {'word': 'bus', 'fre': 8.0}, {'word': 'eisa', 'fre': 6.0}, {'word': 'mhz', 'fre': 5.0}, {'word': 'isa', 'fre': 4.0}, {'word': 's', 'fre': 4.0}], 'talk.politics.guns': [{'word': 'a', 'fre': 7.0}, {'word': 'i', 'fre': 5.0}, {'word': 'that', 'fre': 3.0}, {'word': 'of', 'fre': 3.0}, {'word': 'the', 'fre': 3.0}, {'word': 'printing', 'fre': 2.0}], 'talk.politics.mideast': [{'word': 'in', 'fre': 2.0}, {'word': 'hello', 'fre': 1.0}, {'word': 'i', 'fre': 1.0}, {'word': 'm', 'fre': 1.0}, {'word': 'interested', 'fre': 1.0}, {'word': 'those', 'fre': 1.0}], 'talk.politics.misc': [{'word': 'a', 'fre': 4.0}, {'word': 'the', 'fre': 4.0}, {'word': 'they', 'fre': 4.0}, {'word': 'i', 'fre': 3.0}, {'word': 'is', 'fre': 3.0}, {'word': 'for', 'fre': 3.0}], 'talk.religion.misc': [{'word': 'i', 'fre': 1.0}, {'word': 'just', 'fre': 1.0}, {'word': 'called', 'fre': 1.0}, {'word': 'texas', 'fre': 1.0}, {'word': 'legislative', 'fre': 1.0}, {'word': 'bill', 'fre': 1.0}]};\n",
       "                    var dict2 = {'alt.atheism': {'words': ['the', 'i', 'of', 'am', '89', 'have'], 'words_fre': [8.0, 4.0, 4.0, 2.0, 2.0, 2.0]}, 'comp.graphics': {'words': ['i', 'face', 'but', 'them', 've', 'to'], 'words_fre': [10.0, 3.0, 3.0, 3.0, 3.0, 3.0]}, 'comp.os.ms-windows.misc': {'words': ['in', 'a', 'word', 'yes'], 'words_fre': [1.0, 1.0, 1.0, 1.0]}, 'comp.sys.ibm.pc.hardware': {'words': ['the', 'of', 'and', 'in', 'to', 'that'], 'words_fre': [44.0, 18.0, 17.0, 15.0, 14.0, 14.0]}, 'comp.sys.mac.hardware': {'words': ['i', 've', 'just', 'spent', 'two', 'solid'], 'words_fre': [1.0, 1.0, 1.0, 1.0, 1.0, 1.0]}, 'comp.windows.x': {'words': ['i', 'a', 'the', 'to', 'and', 'of'], 'words_fre': [21.0, 17.0, 15.0, 14.0, 12.0, 11.0]}, 'misc.forsale': {'words': ['money', 'little', 'dishonest', 'dwindles', 'away', 'but'], 'words_fre': [2.0, 2.0, 1.0, 1.0, 1.0, 1.0]}, 'rec.autos': {'words': ['the', 'a', 'of', 'it', 'to', 'get'], 'words_fre': [4.0, 3.0, 3.0, 3.0, 2.0, 2.0]}, 'rec.motorcycles': {'words': ['a', 'we', 'display', 'any', 'is', 'the'], 'words_fre': [3.0, 2.0, 2.0, 2.0, 2.0, 2.0]}, 'rec.sport.baseball': {'words': ['a', 'i', 'and', 'it', 'the', 'into'], 'words_fre': [6.0, 5.0, 5.0, 5.0, 4.0, 3.0]}, 'rec.sport.hockey': {'words': ['on', 'line', 'i', 'the', 'windows', 'shareware'], 'words_fre': [3.0, 3.0, 2.0, 2.0, 2.0, 2.0]}, 'sci.crypt': {'words': ['color', 'x', 'have', 'with', 'the', 'i'], 'words_fre': [6.0, 4.0, 3.0, 3.0, 3.0, 2.0]}, 'sci.electronics': {'words': ['the', 'you', 'that', 'to', 'of', 'what'], 'words_fre': [8.0, 4.0, 4.0, 3.0, 3.0, 3.0]}, 'sci.med': {'words': ['i', 'and', 'accusation', 'thought', 'it', 'was'], 'words_fre': [4.0, 2.0, 1.0, 1.0, 1.0, 1.0]}, 'sci.space': {'words': ['the', 'is', 'to', 'of', 'it', 'a'], 'words_fre': [17.0, 16.0, 16.0, 13.0, 11.0, 10.0]}, 'soc.religion.christian': {'words': ['the', 'bus', 'eisa', 'mhz', 'isa', 's'], 'words_fre': [12.0, 8.0, 6.0, 5.0, 4.0, 4.0]}, 'talk.politics.guns': {'words': ['a', 'i', 'that', 'of', 'the', 'printing'], 'words_fre': [7.0, 5.0, 3.0, 3.0, 3.0, 2.0]}, 'talk.politics.mideast': {'words': ['in', 'hello', 'i', 'm', 'interested', 'those'], 'words_fre': [2.0, 1.0, 1.0, 1.0, 1.0, 1.0]}, 'talk.politics.misc': {'words': ['a', 'the', 'they', 'i', 'is', 'for'], 'words_fre': [4.0, 4.0, 4.0, 3.0, 3.0, 3.0]}, 'talk.religion.misc': {'words': ['i', 'just', 'called', 'texas', 'legislative', 'bill'], 'words_fre': [1.0, 1.0, 1.0, 1.0, 1.0, 1.0]}};\n",
       "                    var data1 = dict1[name];\n",
       "                    //console.log(dict1);\n",
       "\n",
       "                    var words = dict2[name]['words'];\n",
       "                    //console.log(words);\n",
       "\n",
       "                    var words_fre = dict2[name]['words_fre'];\n",
       "                    var max = words_fre[0]\n",
       "\n",
       "                    // add the options to the button\n",
       "                    d3.select(\"#selectButton\")\n",
       "                      .selectAll('myOptions')\n",
       "                      .data(topic)\n",
       "                      .enter()\n",
       "                      .append('option')\n",
       "                      .text(function (d) { return d; }) // text showed in the menu\n",
       "                      .attr(\"value\", function (d) { return d; }) // corresponding value returned by the button\n",
       "\n",
       "                    // set the dimensions and margins of the graph\n",
       "                    var margin = {top: 20, right: 30, bottom: 40, left: 90},\n",
       "                        width = 460 - margin.left - margin.right,\n",
       "                        height = 400 - margin.top - margin.bottom;\n",
       "\n",
       "                    // append the svg object to the body of the page\n",
       "                    var svg = d3.select(\"#my_dataviz\")\n",
       "                                .append(\"svg\")\n",
       "                                .attr(\"id\",\"graph\")\n",
       "                                .attr(\"width\", width + margin.left + margin.right)\n",
       "                                .attr(\"height\", height + margin.top + margin.bottom)\n",
       "                                .append(\"g\")\n",
       "                                .attr(\"transform\",\n",
       "                                \"translate(\" + margin.left + \",\" + margin.top + \")\");\n",
       "\n",
       "                    // Initialize the X axis\n",
       "                    var x = d3.scaleLinear()\n",
       "                      .range([ 0, width]);\n",
       "                    var xAxis = svg.append(\"g\")\n",
       "                      .attr(\"transform\", \"translate(0,\" + height + \")\")\n",
       "                      .attr(\"class\", \"myXaxis\");\n",
       "                      \n",
       "                    // Add X axis label:\n",
       "                    svg.append(\"text\")\n",
       "                      .attr(\"text-anchor\", \"end\")\n",
       "                      .attr(\"x\", width)\n",
       "                      .attr(\"y\", height + 40)\n",
       "                      .text(\"words fre\");\n",
       "\n",
       "                    // Y axis\n",
       "                    var y = d3.scaleBand()\n",
       "                      .range([ 0, height ])\n",
       "                      .padding(.1);\n",
       "                    var yAxis = svg.append(\"g\")\n",
       "                                   .text(\"words\");\n",
       "                    \n",
       "\n",
       "                    function update(data_dict,data_word_and_fre){\n",
       "                      // Update the Y axis\n",
       "                      y.domain(data_word_and_fre['words']);\n",
       "                      yAxis.transition().duration(1000).call(d3.axisLeft(y));\n",
       "\n",
       "                      // Update the X axis\n",
       "                      max = data_word_and_fre['words_fre'][0];\n",
       "                      x.domain([0,max])\n",
       "                      xAxis.call(d3.axisBottom(x));\n",
       "\n",
       "                      //Bars\n",
       "                      var bar = svg.selectAll(\"myRect\")\n",
       "                        .data(data_dict)\n",
       "\n",
       "                      bar\n",
       "                        .enter()\n",
       "                        .append(\"rect\")\n",
       "                        .transition()\n",
       "                        .duration(1000)\n",
       "                          .attr(\"x\", x(0) )\n",
       "                          .attr(\"id\",\"myrect\")\n",
       "                          .attr(\"y\", function(d) { return y(d.word); })\n",
       "                          .attr(\"width\", function(d) { return x(d.fre); })\n",
       "                          .attr(\"height\", y.bandwidth() )\n",
       "                          .attr(\"fill\", \"#69b3a2\");\n",
       "\n",
       "                      bar.exit()\n",
       "                        .remove()\n",
       "\n",
       "                      output()\n",
       "                    }\n",
       "\n",
       "                    // When the button is changed, run the updateChart function\n",
       "                    d3.select(\"#selectButton\").on(\"change\", function(d) {\n",
       "                        // recover the option that has been chosen\n",
       "                        var selectedOption = d3.select(this).property(\"value\")\n",
       "                        // run the updateChart function with this selected option\n",
       "                        d3.select(\"#my_dataviz\").selectAll(\"#myrect\").remove();\n",
       "\n",
       "                        update(dict1[selectedOption],dict2[selectedOption]);\n",
       "                    })\n",
       "\n",
       "                    var first=true;\n",
       "                    if(first==true){\n",
       "                      update(dict1['alt.atheism'],dict2['alt.atheism']);\n",
       "                      fist=false;\n",
       "                    }\n",
       "\n",
       "                    function output(){\n",
       "                        let comm = Jupyter.notebook.kernel.comm_manager.new_comm('my_comm_target')\n",
       "                        // Send data\n",
       "                        comm.send({'document_name': 'alt.atheism'});\n",
       "\n",
       "                        // Register a handler\n",
       "                        comm.on_msg(function(msg) {\n",
       "                            //let data = msg.content.data.array;        \n",
       "                            //console.log(data)\n",
       "                            //d3.select(\"#div_receive_data\").selectAll(\"*\").remove()\n",
       "                            //bar_chart(\"#div_receive_data\", data)\n",
       "                            //document.getElementById(\"div_receive_data\").innerHTML = data;\n",
       "\n",
       "                        });\n",
       "\n",
       "                        // Setting up button\n",
       "                        document.getElementById(\"button\").addEventListener(\"click\", ()=>{\n",
       "                            let n = d3.select(\"#selectButton\").property(\"value\");\n",
       "\n",
       "                            //console.log(n);\n",
       "                            comm.send({'document_name': n});\n",
       "\n",
       "                        }); \n",
       "                    }\n",
       "\n",
       "                  </script>\n",
       "\n",
       "                </body>\n",
       "                </html>\n",
       "                "
      ],
      "text/plain": [
       "<IPython.core.display.HTML object>"
      ]
     },
     "metadata": {},
     "output_type": "display_data"
    }
   ],
   "source": [
    "plot_top_words(documents,6)"
   ]
  },
  {
   "cell_type": "markdown",
   "metadata": {},
   "source": [
    "## Export the document\n",
    "\n",
    "### getDoc\n",
    "We will get the document's name, and we use getDoc to access the document"
   ]
  },
  {
   "cell_type": "code",
   "execution_count": 11,
   "metadata": {},
   "outputs": [],
   "source": [
    "def getDoc():\n",
    "    doc= {}\n",
    "    for i in range(len(topic_names_List)):\n",
    "        doc[topic_names_List[i]] = documents[i]\n",
    "    return doc"
   ]
  },
  {
   "cell_type": "markdown",
   "metadata": {},
   "source": [
    "### get_exported_doc"
   ]
  },
  {
   "cell_type": "code",
   "execution_count": 12,
   "metadata": {},
   "outputs": [],
   "source": [
    "def get_exported_documents():\n",
    "    global name\n",
    "    doc = getDoc()\n",
    "    \n",
    "    return doc[name]"
   ]
  },
  {
   "cell_type": "code",
   "execution_count": 13,
   "metadata": {},
   "outputs": [
    {
     "name": "stdout",
     "output_type": "stream",
     "text": [
      "I just called Texas' legislative bill tracking service and found out\n",
      "that HB 1776 (Concealed Carry) is scheduled for a floor vote TODAY!\n",
      "Let those phone calls roll in.\n",
      "\n",
      "Daryl\n"
     ]
    }
   ],
   "source": [
    "print(get_exported_documents())"
   ]
  }
 ],
 "metadata": {
  "colab": {
   "name": "Homework 1 - CSGY9223.ipynb",
   "provenance": []
  },
  "kernelspec": {
   "display_name": "Python 3",
   "language": "python",
   "name": "python3"
  },
  "language_info": {
   "codemirror_mode": {
    "name": "ipython",
    "version": 3
   },
   "file_extension": ".py",
   "mimetype": "text/x-python",
   "name": "python",
   "nbconvert_exporter": "python",
   "pygments_lexer": "ipython3",
   "version": "3.7.4"
  }
 },
 "nbformat": 4,
 "nbformat_minor": 1
}
