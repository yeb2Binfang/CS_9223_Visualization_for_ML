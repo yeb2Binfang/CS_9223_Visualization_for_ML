{
  "nbformat": 4,
  "nbformat_minor": 0,
  "metadata": {
    "kernelspec": {
      "display_name": "Python 3",
      "language": "python",
      "name": "python3"
    },
    "language_info": {
      "codemirror_mode": {
        "name": "ipython",
        "version": 3
      },
      "file_extension": ".py",
      "mimetype": "text/x-python",
      "name": "python",
      "nbconvert_exporter": "python",
      "pygments_lexer": "ipython3",
      "version": "3.6.9"
    },
    "colab": {
      "name": "Homework 1 - CSGY9223.ipynb",
      "provenance": [],
      "include_colab_link": true
    }
  },
  "cells": [
    {
      "cell_type": "markdown",
      "metadata": {
        "id": "view-in-github",
        "colab_type": "text"
      },
      "source": [
        "<a href=\"https://colab.research.google.com/github/yeb2Binfang/CS_9223_Visualization_for_ML/blob/main/HW/HW1/Homework%201%20-%20CSGY9223.ipynb\" target=\"_parent\"><img src=\"https://colab.research.google.com/assets/colab-badge.svg\" alt=\"Open In Colab\"/></a>"
      ]
    },
    {
      "cell_type": "markdown",
      "metadata": {
        "id": "MuqXzqXITFJe"
      },
      "source": [
        "# Homework 1: CS-GY 9223\n",
        "## Exploring 20 NewsGroups"
      ]
    },
    {
      "cell_type": "markdown",
      "metadata": {
        "id": "mKb5SmMLTFJg"
      },
      "source": [
        "In this homework, you will write a D3 Visualization in Javascript and integrate it in Jupyter Notebook.\n",
        "\n",
        "The goal of this exercise is to explore the **20 News Groups dataset**, a popular machine learning dataset that contains news articles grouped in 20 topics. Your visualization should receive the dataset and display a bar chart with the top most frequent words in the dataset. The user should be able to filter the data based on topic (for example, by clicking in checkboxes, selecting from a drop down menu, etc.). The user should also be able to export the selected documents from the selected topic back to Python (using a button).\n",
        "\n",
        "In summary, your visualization should have the following capabilities:\n",
        "- Display a bar chart with the top K words in the document collection\n",
        "- Enable the user to filter the documents based on topic, and display a bar chart with the frequency of the top K words from that topic.\n",
        "- Export the documents from the selected news topic back to python (as a list of strings).\n",
        "- The visualization has to be integrated with python. The API should have two functions:\n",
        "  - `plot_top_words(documents, K) # plot top K words using D3 and Javascript`\n",
        "  - `get_exported_documents() # get the exported documents back to python`\n",
        "  \n",
        "Example of the resulting visualization:\n",
        "<img src=\"https://github.com/yeb2Binfang/CS_9223_Visualization_for_ML/blob/main/HW/HW1/HW_Vis.png?raw=1\" width = \"500px\" height=\"100px\"/>"
      ]
    },
    {
      "cell_type": "markdown",
      "metadata": {
        "id": "ZTxGnXtUTFJh"
      },
      "source": [
        "### Accessing the data"
      ]
    },
    {
      "cell_type": "markdown",
      "metadata": {
        "id": "wZVe59vcTFJi"
      },
      "source": [
        "The data should be accessed from sklearn. In this section we show an example of code for accessing the documents and the document classes."
      ]
    },
    {
      "cell_type": "code",
      "metadata": {
        "id": "Jc3-Krw1TFJi",
        "colab": {
          "base_uri": "https://localhost:8080/"
        },
        "outputId": "efd2fd0d-b343-46f4-c1a3-414b392b63cd"
      },
      "source": [
        "# Fetching the data\n",
        "from sklearn.datasets import fetch_20newsgroups\n",
        "import numpy as np\n",
        "newsgroups = fetch_20newsgroups(subset='test')\n",
        "\n",
        "# getting the topic ids\n",
        "topic_idx = np.array(newsgroups.target, dtype=int)\n",
        "\n",
        "# getting the unique topic names\n",
        "topic_names = np.array(newsgroups.target_names)\n",
        "\n",
        "# getting the list of documents\n",
        "documents = list(newsgroups.data)\n",
        "\n",
        "# getting the list of topics (in the same order as documents)\n",
        "topics = list(topic_names[topic_idx])"
      ],
      "execution_count": 1,
      "outputs": [
        {
          "output_type": "stream",
          "text": [
            "Downloading 20news dataset. This may take a few minutes.\n",
            "Downloading dataset from https://ndownloader.figshare.com/files/5975967 (14 MB)\n"
          ],
          "name": "stderr"
        }
      ]
    },
    {
      "cell_type": "markdown",
      "metadata": {
        "id": "K7iWtSQATFJj"
      },
      "source": [
        "These are the 20 topics in the dataset:"
      ]
    },
    {
      "cell_type": "code",
      "metadata": {
        "id": "LJW1MRGTTFJj",
        "colab": {
          "base_uri": "https://localhost:8080/"
        },
        "outputId": "9f40c60e-693e-4cac-8934-743550b1d67f"
      },
      "source": [
        "topic_names"
      ],
      "execution_count": 2,
      "outputs": [
        {
          "output_type": "execute_result",
          "data": {
            "text/plain": [
              "array(['alt.atheism', 'comp.graphics', 'comp.os.ms-windows.misc',\n",
              "       'comp.sys.ibm.pc.hardware', 'comp.sys.mac.hardware',\n",
              "       'comp.windows.x', 'misc.forsale', 'rec.autos', 'rec.motorcycles',\n",
              "       'rec.sport.baseball', 'rec.sport.hockey', 'sci.crypt',\n",
              "       'sci.electronics', 'sci.med', 'sci.space',\n",
              "       'soc.religion.christian', 'talk.politics.guns',\n",
              "       'talk.politics.mideast', 'talk.politics.misc',\n",
              "       'talk.religion.misc'], dtype='<U24')"
            ]
          },
          "metadata": {
            "tags": []
          },
          "execution_count": 2
        }
      ]
    },
    {
      "cell_type": "markdown",
      "metadata": {
        "id": "2QuIAu1_TFJk"
      },
      "source": [
        "The documents and document topics are assigned to the variables *documents* and *topics*. We print some document examples below."
      ]
    },
    {
      "cell_type": "code",
      "metadata": {
        "id": "PDMC6gRYTFJk",
        "colab": {
          "base_uri": "https://localhost:8080/"
        },
        "outputId": "bd6a49af-48be-413e-d712-45af3a8a9e95"
      },
      "source": [
        "for i in range(2):\n",
        "    print(\"Topic: {}\".format(topics[i]))\n",
        "    print(\"-\"*60)\n",
        "    print(\"Document:\")\n",
        "    print(documents[i])\n",
        "    print(\"=\"*60)\n",
        "    print(\"\")"
      ],
      "execution_count": 3,
      "outputs": [
        {
          "output_type": "stream",
          "text": [
            "Topic: rec.autos\n",
            "------------------------------------------------------------\n",
            "Document:\n",
            "From: v064mb9k@ubvmsd.cc.buffalo.edu (NEIL B. GANDLER)\n",
            "Subject: Need info on 88-89 Bonneville\n",
            "Organization: University at Buffalo\n",
            "Lines: 10\n",
            "News-Software: VAX/VMS VNEWS 1.41\n",
            "Nntp-Posting-Host: ubvmsd.cc.buffalo.edu\n",
            "\n",
            "\n",
            " I am a little confused on all of the models of the 88-89 bonnevilles.\n",
            "I have heard of the LE SE LSE SSE SSEI. Could someone tell me the\n",
            "differences are far as features or performance. I am also curious to\n",
            "know what the book value is for prefereably the 89 model. And how much\n",
            "less than book value can you usually get them for. In other words how\n",
            "much are they in demand this time of year. I have heard that the mid-spring\n",
            "early summer is the best time to buy.\n",
            "\n",
            "\t\t\tNeil Gandler\n",
            "\n",
            "============================================================\n",
            "\n",
            "Topic: comp.windows.x\n",
            "------------------------------------------------------------\n",
            "Document:\n",
            "From: Rick Miller <rick@ee.uwm.edu>\n",
            "Subject: X-Face?\n",
            "Organization: Just me.\n",
            "Lines: 17\n",
            "Distribution: world\n",
            "NNTP-Posting-Host: 129.89.2.33\n",
            "Summary: Go ahead... swamp me.  <EEP!>\n",
            "\n",
            "I'm not familiar at all with the format of these \"X-Face:\" thingies, but\n",
            "after seeing them in some folks' headers, I've *got* to *see* them (and\n",
            "maybe make one of my own)!\n",
            "\n",
            "I've got \"dpg-view\" on my Linux box (which displays \"uncompressed X-Faces\")\n",
            "and I've managed to compile [un]compface too... but now that I'm *looking*\n",
            "for them, I can't seem to find any X-Face:'s in anyones news headers!  :-(\n",
            "\n",
            "Could you, would you, please send me your \"X-Face:\" header?\n",
            "\n",
            "I *know* I'll probably get a little swamped, but I can handle it.\n",
            "\n",
            "\t...I hope.\n",
            "\n",
            "Rick Miller  <rick@ee.uwm.edu> | <ricxjo@discus.mil.wi.us>   Ricxjo Muelisto\n",
            "Send a postcard, get one back! | Enposxtigu bildkarton kaj vi ricevos alion!\n",
            "          RICK MILLER // 16203 WOODS // MUSKEGO, WIS. 53150 // USA\n",
            "\n",
            "============================================================\n",
            "\n"
          ],
          "name": "stdout"
        }
      ]
    },
    {
      "cell_type": "markdown",
      "metadata": {
        "id": "yDL-0FsxjcjS"
      },
      "source": [
        "##count word frequence\r\n",
        "this function is used to count the word frequences, I will split the word such as  I'll to \"I\" and \"ll\"\r\n",
        "\r\n",
        "For this dunction, it will return the array of top k words and the array of each word's frequences in accending order"
      ]
    },
    {
      "cell_type": "code",
      "metadata": {
        "id": "t-vkgsYZj9Ac"
      },
      "source": [
        "import operator\r\n",
        "\r\n",
        "def count_word_frequence(document,k):\r\n",
        "  doc = document\r\n",
        "  ##create a dist\r\n",
        "  data = {}\r\n",
        "  words = doc.replace(\"(\",' ').replace(\")\",' ').replace(\"'\",' ').replace(\"*\",' ').replace(\".\",' ').replace(\"/\",' ').replace(\"-\",' ').replace(\":\",' ').replace(\"<\",' ').replace(\">\",' ').replace(\"[\",' ').replace(\"]\",' ').replace(\"!\",' ').replace(\"?\",' ').replace(\",\",' ').strip(\"\\n\").lower()\r\n",
        "  ##split the text\r\n",
        "  words1 = words.split()\r\n",
        "  ##count text\r\n",
        "  for word in words1:\r\n",
        "    if word in data:\r\n",
        "      data[word] +=1\r\n",
        "    else:\r\n",
        "      data[word] = 1\r\n",
        "  ###\r\n",
        "  #sorted the dist by value in acending order\r\n",
        "  sorted_fre = np.array(sorted(data.items(), key=operator.itemgetter(1),reverse=True))\r\n",
        "\r\n",
        "  num_of_words = sorted_fre.shape[0]\r\n",
        "  fre = np.zeros(num_of_words)\r\n",
        "  words = []\r\n",
        "\r\n",
        "  for i in range(0,num_of_words):\r\n",
        "    fre[i] = int(sorted_fre[i][1])\r\n",
        "    w = sorted_fre[i][0]\r\n",
        "    words.append(w)\r\n",
        "    \r\n",
        "  words = np.array(words)\r\n",
        "  \r\n",
        "\r\n",
        "  return words[:k],fre[:k]\r\n",
        "\r\n"
      ],
      "execution_count": 39,
      "outputs": []
    },
    {
      "cell_type": "code",
      "metadata": {
        "colab": {
          "base_uri": "https://localhost:8080/"
        },
        "id": "zkzMdTrdmKlQ",
        "outputId": "27ace86e-0720-491d-d314-9751389c5124"
      },
      "source": [
        "words,words_fre = count_word_frequence(document=documents[1],k=5)\r\n",
        "print(words)\r\n",
        "print(words_fre)"
      ],
      "execution_count": 40,
      "outputs": [
        {
          "output_type": "stream",
          "text": [
            "['i' 'face' 'rick' 'miller' 'x']\n",
            "[10.  4.  3.  3.  3.]\n"
          ],
          "name": "stdout"
        }
      ]
    },
    {
      "cell_type": "markdown",
      "metadata": {
        "id": "1o740RekoFFB"
      },
      "source": [
        "##drop down menu"
      ]
    },
    {
      "cell_type": "code",
      "metadata": {
        "id": "t9XQV87xmpqg"
      },
      "source": [
        "from IPython.display import display, HTML\r\n",
        "import json"
      ],
      "execution_count": 31,
      "outputs": []
    },
    {
      "cell_type": "code",
      "metadata": {
        "colab": {
          "base_uri": "https://localhost:8080/",
          "height": 17
        },
        "id": "BnBj0nlhoSfT",
        "outputId": "330ac70a-0b94-48d8-c736-60af324e0305"
      },
      "source": [
        "%%javascript\r\n",
        "require.config({\r\n",
        "    paths: {\r\n",
        "        d3: \"https://d3js.org/d3.v6.min\"\r\n",
        "     }\r\n",
        "});\r\n",
        "\r\n",
        "require([\"d3\"], function(d3) {\r\n",
        "    window.d3 = d3;\r\n",
        "});"
      ],
      "execution_count": null,
      "outputs": [
        {
          "output_type": "display_data",
          "data": {
            "application/javascript": [
              "require.config({\n",
              "    paths: {\n",
              "        d3: \"https://d3js.org/d3.v6.min\"\n",
              "     }\n",
              "});\n",
              "\n",
              "require([\"d3\"], function(d3) {\n",
              "    window.d3 = d3;\n",
              "});"
            ],
            "text/plain": [
              "<IPython.core.display.Javascript object>"
            ]
          },
          "metadata": {
            "tags": []
          }
        }
      ]
    },
    {
      "cell_type": "markdown",
      "metadata": {
        "id": "yFjwnhEYrelt"
      },
      "source": [
        "https://www.d3-graph-gallery.com/graph/line_select.html\r\n",
        "\r\n",
        "http://bl.ocks.org/williaster/10ef968ccfdc71c30ef8\r\n",
        "\r\n",
        "this two websites will teach you how to make it"
      ]
    },
    {
      "cell_type": "code",
      "metadata": {
        "id": "gKRkjD0YoT0A",
        "outputId": "0b5be266-007d-4f7b-cf1d-c567643ed389",
        "colab": {
          "base_uri": "https://localhost:8080/",
          "height": 282
        }
      },
      "source": [
        "html_str = \"\"\"\r\n",
        "<html>\r\n",
        "<head>\r\n",
        "</head>\r\n",
        "<body>\r\n",
        "<script src=\"http://d3js.org/d3.v3.min.js\" charset=\"utf-8\"></script>\r\n",
        "<div id='vis-container'>{words_fre}</div>\r\n",
        "<script>\r\n",
        "    var topic_names = {topic};\r\n",
        "    var words = {word};\r\n",
        "    var fre = {words_fre};\r\n",
        "\r\n",
        "    //var initialData = wordsMap\r\n",
        "      var dropdown = d3.select(\"#vis-container\")\r\n",
        "          .insert(\"select\", \"svg\");\r\n",
        "      //.on(\"change\", dropdownChange);\r\n",
        "\r\n",
        "      \r\n",
        "    dropdown.selectAll(\"option\")\r\n",
        "          .data({topic})\r\n",
        "          .enter()\r\n",
        "          .append(\"option\")\r\n",
        "          .attr(\"value\", function (d, i) {\r\n",
        "              return {topic}[i] + {topic}[i].slice(1, {topic}[i].length);\r\n",
        "          })\r\n",
        "          .text(function (d, i) {\r\n",
        "              return {topic}[i];\r\n",
        "          });\r\n",
        "\r\n",
        "  </script>\r\n",
        "</body>\r\n",
        "\r\n",
        "</html>\r\n",
        "\"\"\".format(topic=topic_names,word=words,words_fre=words_fre)\r\n",
        "display(HTML(html_str))"
      ],
      "execution_count": 25,
      "outputs": [
        {
          "output_type": "stream",
          "text": [
            "ERROR:root:An unexpected error occurred while tokenizing input\n",
            "The following traceback may be corrupted or invalid\n",
            "The error message is: ('EOF in multi-line string', (1, 0))\n",
            "\n"
          ],
          "name": "stderr"
        },
        {
          "output_type": "error",
          "ename": "ValueError",
          "evalue": "ignored",
          "traceback": [
            "\u001b[0;31m---------------------------------------------------------------------------\u001b[0m",
            "\u001b[0;31mValueError\u001b[0m                                Traceback (most recent call last)",
            "\u001b[0;32m<ipython-input-25-2270c5911f55>\u001b[0m in \u001b[0;36m<module>\u001b[0;34m()\u001b[0m\n\u001b[1;32m     30\u001b[0m \u001b[0;34m\u001b[0m\u001b[0m\n\u001b[1;32m     31\u001b[0m \u001b[0;34m<\u001b[0m\u001b[0;34m/\u001b[0m\u001b[0mhtml\u001b[0m\u001b[0;34m>\u001b[0m\u001b[0;34m\u001b[0m\u001b[0;34m\u001b[0m\u001b[0m\n\u001b[0;32m---> 32\u001b[0;31m \"\"\".format(topic=topic_names,word=words,words_fre=words_fre)\n\u001b[0m\u001b[1;32m     33\u001b[0m \u001b[0mdisplay\u001b[0m\u001b[0;34m(\u001b[0m\u001b[0mHTML\u001b[0m\u001b[0;34m(\u001b[0m\u001b[0mhtml_str\u001b[0m\u001b[0;34m)\u001b[0m\u001b[0;34m)\u001b[0m\u001b[0;34m\u001b[0m\u001b[0;34m\u001b[0m\u001b[0m\n",
            "\u001b[0;31mValueError\u001b[0m: unexpected '{' in field name"
          ]
        }
      ]
    },
    {
      "cell_type": "code",
      "metadata": {
        "id": "yTHJKDKZ-t8L",
        "outputId": "5c9eacd1-b70e-49f4-ad92-4986f6299998",
        "colab": {
          "base_uri": "https://localhost:8080/",
          "height": 282
        }
      },
      "source": [
        "html_str = \"\"\"\r\n",
        "<html>\r\n",
        "<head>\r\n",
        "</head>\r\n",
        "<body>\r\n",
        "<script src=\"http://d3js.org/d3.v3.min.js\" charset=\"utf-8\"></script>\r\n",
        "<div id='vis-container'>{words_fre}</div>\r\n",
        "<script>\r\n",
        "    var topic_names = {topic};\r\n",
        "    var words = {word};\r\n",
        "    var fre = {words_fre};\r\n",
        "\r\n",
        "    var readData = function (data) {\r\n",
        "        var wordsMap = {};\r\n",
        "        data.forEach(function (d, i) {\r\n",
        "            var w = words[i];\r\n",
        "\r\n",
        "            wordsMap[w] = fre[i];\r\n",
        "            //console.log(w);\r\n",
        "            //console.log(wordsMap[w]);\r\n",
        "\r\n",
        "        });\r\n",
        "\r\n",
        "\r\n",
        "        //vis(wordsMap);\r\n",
        "    };\r\n",
        "\r\n",
        "    readData(words);\r\n",
        "\r\n",
        "  </script>\r\n",
        "</body>\r\n",
        "\r\n",
        "</html>\r\n",
        "\"\"\".format(topic = topic_names, word = words, words_fre =words_fre)\r\n",
        "display(HTML(html_str))"
      ],
      "execution_count": 45,
      "outputs": [
        {
          "output_type": "stream",
          "text": [
            "ERROR:root:An unexpected error occurred while tokenizing input\n",
            "The following traceback may be corrupted or invalid\n",
            "The error message is: ('EOF in multi-line string', (1, 0))\n",
            "\n"
          ],
          "name": "stderr"
        },
        {
          "output_type": "error",
          "ename": "ValueError",
          "evalue": "ignored",
          "traceback": [
            "\u001b[0;31m---------------------------------------------------------------------------\u001b[0m",
            "\u001b[0;31mValueError\u001b[0m                                Traceback (most recent call last)",
            "\u001b[0;32m<ipython-input-45-ebbf5c2a1d26>\u001b[0m in \u001b[0;36m<module>\u001b[0;34m()\u001b[0m\n\u001b[1;32m     32\u001b[0m \u001b[0;34m\u001b[0m\u001b[0m\n\u001b[1;32m     33\u001b[0m \u001b[0;34m<\u001b[0m\u001b[0;34m/\u001b[0m\u001b[0mhtml\u001b[0m\u001b[0;34m>\u001b[0m\u001b[0;34m\u001b[0m\u001b[0;34m\u001b[0m\u001b[0m\n\u001b[0;32m---> 34\u001b[0;31m \"\"\".format(topic = topic_names, word = words, words_fre =words_fre)\n\u001b[0m\u001b[1;32m     35\u001b[0m \u001b[0mdisplay\u001b[0m\u001b[0;34m(\u001b[0m\u001b[0mHTML\u001b[0m\u001b[0;34m(\u001b[0m\u001b[0mhtml_str\u001b[0m\u001b[0;34m)\u001b[0m\u001b[0;34m)\u001b[0m\u001b[0;34m\u001b[0m\u001b[0;34m\u001b[0m\u001b[0m\n",
            "\u001b[0;31mValueError\u001b[0m: unexpected '{' in field name"
          ]
        }
      ]
    },
    {
      "cell_type": "code",
      "metadata": {
        "id": "uPWs2pSBEI_C",
        "outputId": "6e52d134-2fdb-4cfa-eeaa-53660b64d17a",
        "colab": {
          "base_uri": "https://localhost:8080/"
        }
      },
      "source": [
        "a = [1,2,3,4,5]\r\n",
        "print(a[0:4])"
      ],
      "execution_count": 34,
      "outputs": [
        {
          "output_type": "stream",
          "text": [
            "[1, 2, 3, 4]\n"
          ],
          "name": "stdout"
        }
      ]
    },
    {
      "cell_type": "code",
      "metadata": {
        "id": "DIIsgVhnFj6N"
      },
      "source": [
        ""
      ],
      "execution_count": null,
      "outputs": []
    }
  ]
}