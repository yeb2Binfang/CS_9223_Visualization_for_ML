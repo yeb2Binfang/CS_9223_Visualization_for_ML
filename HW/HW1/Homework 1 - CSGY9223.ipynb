{
  "nbformat": 4,
  "nbformat_minor": 0,
  "metadata": {
    "kernelspec": {
      "display_name": "Python 3",
      "language": "python",
      "name": "python3"
    },
    "language_info": {
      "codemirror_mode": {
        "name": "ipython",
        "version": 3
      },
      "file_extension": ".py",
      "mimetype": "text/x-python",
      "name": "python",
      "nbconvert_exporter": "python",
      "pygments_lexer": "ipython3",
      "version": "3.6.9"
    },
    "colab": {
      "name": "Homework 1 - CSGY9223.ipynb",
      "provenance": [],
      "include_colab_link": true
    }
  },
  "cells": [
    {
      "cell_type": "markdown",
      "metadata": {
        "id": "view-in-github",
        "colab_type": "text"
      },
      "source": [
        "<a href=\"https://colab.research.google.com/github/yeb2Binfang/CS_9223_Visualization_for_ML/blob/main/HW/HW1/Homework%201%20-%20CSGY9223.ipynb\" target=\"_parent\"><img src=\"https://colab.research.google.com/assets/colab-badge.svg\" alt=\"Open In Colab\"/></a>"
      ]
    },
    {
      "cell_type": "markdown",
      "metadata": {
        "id": "MuqXzqXITFJe"
      },
      "source": [
        "# Homework 1: CS-GY 9223\n",
        "## Exploring 20 NewsGroups"
      ]
    },
    {
      "cell_type": "markdown",
      "metadata": {
        "id": "mKb5SmMLTFJg"
      },
      "source": [
        "In this homework, you will write a D3 Visualization in Javascript and integrate it in Jupyter Notebook.\n",
        "\n",
        "The goal of this exercise is to explore the **20 News Groups dataset**, a popular machine learning dataset that contains news articles grouped in 20 topics. Your visualization should receive the dataset and display a bar chart with the top most frequent words in the dataset. The user should be able to filter the data based on topic (for example, by clicking in checkboxes, selecting from a drop down menu, etc.). The user should also be able to export the selected documents from the selected topic back to Python (using a button).\n",
        "\n",
        "In summary, your visualization should have the following capabilities:\n",
        "- Display a bar chart with the top K words in the document collection\n",
        "- Enable the user to filter the documents based on topic, and display a bar chart with the frequency of the top K words from that topic.\n",
        "- Export the documents from the selected news topic back to python (as a list of strings).\n",
        "- The visualization has to be integrated with python. The API should have two functions:\n",
        "  - `plot_top_words(documents, K) # plot top K words using D3 and Javascript`\n",
        "  - `get_exported_documents() # get the exported documents back to python`\n",
        "  \n",
        "Example of the resulting visualization:\n",
        "<img src=\"https://github.com/yeb2Binfang/CS_9223_Visualization_for_ML/blob/main/HW/HW1/HW_Vis.png?raw=1\" width = \"500px\" height=\"100px\"/>"
      ]
    },
    {
      "cell_type": "markdown",
      "metadata": {
        "id": "ZTxGnXtUTFJh"
      },
      "source": [
        "### Accessing the data"
      ]
    },
    {
      "cell_type": "markdown",
      "metadata": {
        "id": "wZVe59vcTFJi"
      },
      "source": [
        "The data should be accessed from sklearn. In this section we show an example of code for accessing the documents and the document classes."
      ]
    },
    {
      "cell_type": "code",
      "metadata": {
        "id": "Jc3-Krw1TFJi"
      },
      "source": [
        "# Fetching the data\n",
        "from sklearn.datasets import fetch_20newsgroups\n",
        "import numpy as np\n",
        "newsgroups = fetch_20newsgroups(subset='test')\n",
        "\n",
        "# getting the topic ids\n",
        "topic_idx = np.array(newsgroups.target, dtype=int)\n",
        "\n",
        "# getting the unique topic names\n",
        "topic_names = np.array(newsgroups.target_names)\n",
        "\n",
        "# getting the list of documents\n",
        "documents = list(newsgroups.data)\n",
        "\n",
        "# getting the list of topics (in the same order as documents)\n",
        "topics = list(topic_names[topic_idx])"
      ],
      "execution_count": 52,
      "outputs": []
    },
    {
      "cell_type": "markdown",
      "metadata": {
        "id": "K7iWtSQATFJj"
      },
      "source": [
        "These are the 20 topics in the dataset:"
      ]
    },
    {
      "cell_type": "code",
      "metadata": {
        "id": "LJW1MRGTTFJj",
        "colab": {
          "base_uri": "https://localhost:8080/"
        },
        "outputId": "4a0dc119-3308-4238-e8c2-d0db3a8a0496"
      },
      "source": [
        "topic_names"
      ],
      "execution_count": 53,
      "outputs": [
        {
          "output_type": "execute_result",
          "data": {
            "text/plain": [
              "array(['alt.atheism', 'comp.graphics', 'comp.os.ms-windows.misc',\n",
              "       'comp.sys.ibm.pc.hardware', 'comp.sys.mac.hardware',\n",
              "       'comp.windows.x', 'misc.forsale', 'rec.autos', 'rec.motorcycles',\n",
              "       'rec.sport.baseball', 'rec.sport.hockey', 'sci.crypt',\n",
              "       'sci.electronics', 'sci.med', 'sci.space',\n",
              "       'soc.religion.christian', 'talk.politics.guns',\n",
              "       'talk.politics.mideast', 'talk.politics.misc',\n",
              "       'talk.religion.misc'], dtype='<U24')"
            ]
          },
          "metadata": {
            "tags": []
          },
          "execution_count": 53
        }
      ]
    },
    {
      "cell_type": "markdown",
      "metadata": {
        "id": "2QuIAu1_TFJk"
      },
      "source": [
        "The documents and document topics are assigned to the variables *documents* and *topics*. We print some document examples below."
      ]
    },
    {
      "cell_type": "code",
      "metadata": {
        "id": "PDMC6gRYTFJk",
        "colab": {
          "base_uri": "https://localhost:8080/"
        },
        "outputId": "6ab9ef6b-2eb3-4894-896f-7636925dde7c"
      },
      "source": [
        "for i in range(2):\n",
        "    print(\"Topic: {}\".format(topics[i]))\n",
        "    print(\"-\"*60)\n",
        "    print(\"Document:\")\n",
        "    print(documents[i])\n",
        "    print(\"=\"*60)\n",
        "    print(\"\")"
      ],
      "execution_count": 54,
      "outputs": [
        {
          "output_type": "stream",
          "text": [
            "Topic: rec.autos\n",
            "------------------------------------------------------------\n",
            "Document:\n",
            "From: v064mb9k@ubvmsd.cc.buffalo.edu (NEIL B. GANDLER)\n",
            "Subject: Need info on 88-89 Bonneville\n",
            "Organization: University at Buffalo\n",
            "Lines: 10\n",
            "News-Software: VAX/VMS VNEWS 1.41\n",
            "Nntp-Posting-Host: ubvmsd.cc.buffalo.edu\n",
            "\n",
            "\n",
            " I am a little confused on all of the models of the 88-89 bonnevilles.\n",
            "I have heard of the LE SE LSE SSE SSEI. Could someone tell me the\n",
            "differences are far as features or performance. I am also curious to\n",
            "know what the book value is for prefereably the 89 model. And how much\n",
            "less than book value can you usually get them for. In other words how\n",
            "much are they in demand this time of year. I have heard that the mid-spring\n",
            "early summer is the best time to buy.\n",
            "\n",
            "\t\t\tNeil Gandler\n",
            "\n",
            "============================================================\n",
            "\n",
            "Topic: comp.windows.x\n",
            "------------------------------------------------------------\n",
            "Document:\n",
            "From: Rick Miller <rick@ee.uwm.edu>\n",
            "Subject: X-Face?\n",
            "Organization: Just me.\n",
            "Lines: 17\n",
            "Distribution: world\n",
            "NNTP-Posting-Host: 129.89.2.33\n",
            "Summary: Go ahead... swamp me.  <EEP!>\n",
            "\n",
            "I'm not familiar at all with the format of these \"X-Face:\" thingies, but\n",
            "after seeing them in some folks' headers, I've *got* to *see* them (and\n",
            "maybe make one of my own)!\n",
            "\n",
            "I've got \"dpg-view\" on my Linux box (which displays \"uncompressed X-Faces\")\n",
            "and I've managed to compile [un]compface too... but now that I'm *looking*\n",
            "for them, I can't seem to find any X-Face:'s in anyones news headers!  :-(\n",
            "\n",
            "Could you, would you, please send me your \"X-Face:\" header?\n",
            "\n",
            "I *know* I'll probably get a little swamped, but I can handle it.\n",
            "\n",
            "\t...I hope.\n",
            "\n",
            "Rick Miller  <rick@ee.uwm.edu> | <ricxjo@discus.mil.wi.us>   Ricxjo Muelisto\n",
            "Send a postcard, get one back! | Enposxtigu bildkarton kaj vi ricevos alion!\n",
            "          RICK MILLER // 16203 WOODS // MUSKEGO, WIS. 53150 // USA\n",
            "\n",
            "============================================================\n",
            "\n"
          ],
          "name": "stdout"
        }
      ]
    },
    {
      "cell_type": "markdown",
      "metadata": {
        "id": "zBiWo1HFVSLA"
      },
      "source": [
        "##try how to count the words"
      ]
    },
    {
      "cell_type": "code",
      "metadata": {
        "id": "ky2Q5XmNVe_E",
        "colab": {
          "base_uri": "https://localhost:8080/"
        },
        "outputId": "34181c5d-1035-4d3b-df49-7350ceb96ea7"
      },
      "source": [
        "doc = documents[1]\r\n",
        "print(doc)"
      ],
      "execution_count": 106,
      "outputs": [
        {
          "output_type": "stream",
          "text": [
            "From: Rick Miller <rick@ee.uwm.edu>\n",
            "Subject: X-Face?\n",
            "Organization: Just me.\n",
            "Lines: 17\n",
            "Distribution: world\n",
            "NNTP-Posting-Host: 129.89.2.33\n",
            "Summary: Go ahead... swamp me.  <EEP!>\n",
            "\n",
            "I'm not familiar at all with the format of these \"X-Face:\" thingies, but\n",
            "after seeing them in some folks' headers, I've *got* to *see* them (and\n",
            "maybe make one of my own)!\n",
            "\n",
            "I've got \"dpg-view\" on my Linux box (which displays \"uncompressed X-Faces\")\n",
            "and I've managed to compile [un]compface too... but now that I'm *looking*\n",
            "for them, I can't seem to find any X-Face:'s in anyones news headers!  :-(\n",
            "\n",
            "Could you, would you, please send me your \"X-Face:\" header?\n",
            "\n",
            "I *know* I'll probably get a little swamped, but I can handle it.\n",
            "\n",
            "\t...I hope.\n",
            "\n",
            "Rick Miller  <rick@ee.uwm.edu> | <ricxjo@discus.mil.wi.us>   Ricxjo Muelisto\n",
            "Send a postcard, get one back! | Enposxtigu bildkarton kaj vi ricevos alion!\n",
            "          RICK MILLER // 16203 WOODS // MUSKEGO, WIS. 53150 // USA\n",
            "\n"
          ],
          "name": "stdout"
        }
      ]
    },
    {
      "cell_type": "code",
      "metadata": {
        "id": "-IAjeuMDXEY7",
        "colab": {
          "base_uri": "https://localhost:8080/"
        },
        "outputId": "6f6c1614-9c93-4bf3-f8a2-7e98d94f295f"
      },
      "source": [
        "wordcount = len(doc.split())\r\n",
        "print(wordcount)"
      ],
      "execution_count": 107,
      "outputs": [
        {
          "output_type": "stream",
          "text": [
            "146\n"
          ],
          "name": "stdout"
        }
      ]
    },
    {
      "cell_type": "code",
      "metadata": {
        "id": "9KTJ0aM6se04",
        "outputId": "9be3e9a6-262f-436b-a8f9-eef3e34769d5",
        "colab": {
          "base_uri": "https://localhost:8080/"
        }
      },
      "source": [
        "print(doc.split())"
      ],
      "execution_count": 108,
      "outputs": [
        {
          "output_type": "stream",
          "text": [
            "['From:', 'Rick', 'Miller', '<rick@ee.uwm.edu>', 'Subject:', 'X-Face?', 'Organization:', 'Just', 'me.', 'Lines:', '17', 'Distribution:', 'world', 'NNTP-Posting-Host:', '129.89.2.33', 'Summary:', 'Go', 'ahead...', 'swamp', 'me.', '<EEP!>', \"I'm\", 'not', 'familiar', 'at', 'all', 'with', 'the', 'format', 'of', 'these', '\"X-Face:\"', 'thingies,', 'but', 'after', 'seeing', 'them', 'in', 'some', \"folks'\", 'headers,', \"I've\", '*got*', 'to', '*see*', 'them', '(and', 'maybe', 'make', 'one', 'of', 'my', 'own)!', \"I've\", 'got', '\"dpg-view\"', 'on', 'my', 'Linux', 'box', '(which', 'displays', '\"uncompressed', 'X-Faces\")', 'and', \"I've\", 'managed', 'to', 'compile', '[un]compface', 'too...', 'but', 'now', 'that', \"I'm\", '*looking*', 'for', 'them,', 'I', \"can't\", 'seem', 'to', 'find', 'any', \"X-Face:'s\", 'in', 'anyones', 'news', 'headers!', ':-(', 'Could', 'you,', 'would', 'you,', 'please', 'send', 'me', 'your', '\"X-Face:\"', 'header?', 'I', '*know*', \"I'll\", 'probably', 'get', 'a', 'little', 'swamped,', 'but', 'I', 'can', 'handle', 'it.', '...I', 'hope.', 'Rick', 'Miller', '<rick@ee.uwm.edu>', '|', '<ricxjo@discus.mil.wi.us>', 'Ricxjo', 'Muelisto', 'Send', 'a', 'postcard,', 'get', 'one', 'back!', '|', 'Enposxtigu', 'bildkarton', 'kaj', 'vi', 'ricevos', 'alion!', 'RICK', 'MILLER', '//', '16203', 'WOODS', '//', 'MUSKEGO,', 'WIS.', '53150', '//', 'USA']\n"
          ],
          "name": "stdout"
        }
      ]
    },
    {
      "cell_type": "code",
      "metadata": {
        "id": "BDXOoufBXk77",
        "colab": {
          "base_uri": "https://localhost:8080/"
        },
        "outputId": "6b9d15cb-cb42-40bb-9beb-cdc1435302d1"
      },
      "source": [
        "words = doc.replace('.',' ').replace('!','').replace('?','').replace(';','').replace('\\\\','').replace('\\t','').replace(\"\\n\",' ').replace(':','').replace('-',' ').replace(\"/\",' ').replace('(',' ').replace(')',' ').strip().lower()\r\n",
        "print(words)"
      ],
      "execution_count": 109,
      "outputs": [
        {
          "output_type": "stream",
          "text": [
            "from rick miller <rick@ee uwm edu> subject x face organization just me  lines 17 distribution world nntp posting host 129 89 2 33 summary go ahead    swamp me   <eep>  i'm not familiar at all with the format of these \"x face\" thingies, but after seeing them in some folks' headers, i've *got* to *see* them  and maybe make one of my own   i've got \"dpg view\" on my linux box  which displays \"uncompressed x faces\"  and i've managed to compile [un]compface too    but now that i'm *looking* for them, i can't seem to find any x face's in anyones news headers      could you, would you, please send me your \"x face\" header  i *know* i'll probably get a little swamped, but i can handle it      i hope   rick miller  <rick@ee uwm edu> | <ricxjo@discus mil wi us>   ricxjo muelisto send a postcard, get one back | enposxtigu bildkarton kaj vi ricevos alion           rick miller    16203 woods    muskego, wis  53150    usa\n"
          ],
          "name": "stdout"
        }
      ]
    },
    {
      "cell_type": "code",
      "metadata": {
        "id": "1KPIvDvVXxuq",
        "colab": {
          "base_uri": "https://localhost:8080/"
        },
        "outputId": "c8a4b282-bc54-4a54-9c80-789b2ee65ef1"
      },
      "source": [
        "words1 = words.split(\" \")\r\n",
        "for i in words1:\r\n",
        "  if i is '':\r\n",
        "    words1.remove(i)\r\n",
        "    \r\n",
        "print(words1.count(''))\r\n",
        "\r\n",
        "\r\n",
        "wordfreq = [words1.count(w) for w in words1]\r\n",
        "print(\"Pairs\\n\" + str(list(zip(words1, wordfreq))))\r\n",
        "\r\n"
      ],
      "execution_count": 110,
      "outputs": [
        {
          "output_type": "stream",
          "text": [
            "18\n",
            "Pairs\n",
            "[('from', 1), ('rick', 3), ('miller', 3), ('<rick@ee', 2), ('uwm', 2), ('edu>', 2), ('subject', 1), ('x', 3), ('face', 1), ('organization', 1), ('just', 1), ('me', 3), ('lines', 1), ('17', 1), ('distribution', 1), ('world', 1), ('nntp', 1), ('posting', 1), ('host', 1), ('129', 1), ('89', 1), ('2', 1), ('33', 1), ('summary', 1), ('go', 1), ('ahead', 1), ('swamp', 1), ('me', 3), ('<eep>', 1), (\"i'm\", 2), ('not', 1), ('familiar', 1), ('at', 1), ('all', 1), ('with', 1), ('the', 1), ('format', 1), ('of', 2), ('these', 1), ('\"x', 2), ('face\"', 2), ('thingies,', 1), ('but', 3), ('after', 1), ('seeing', 1), ('them', 2), ('in', 2), ('some', 1), (\"folks'\", 1), ('headers,', 1), (\"i've\", 3), ('*got*', 1), ('to', 3), ('*see*', 1), ('them', 2), ('and', 2), ('maybe', 1), ('make', 1), ('one', 2), ('of', 2), ('my', 2), ('own', 1), (\"i've\", 3), ('got', 1), ('\"dpg', 1), ('view\"', 1), ('on', 1), ('my', 2), ('linux', 1), ('box', 1), ('which', 1), ('displays', 1), ('\"uncompressed', 1), ('x', 3), ('faces\"', 1), ('and', 2), (\"i've\", 3), ('managed', 1), ('to', 3), ('compile', 1), ('[un]compface', 1), ('too', 1), ('but', 3), ('now', 1), ('that', 1), (\"i'm\", 2), ('*looking*', 1), ('for', 1), ('them,', 1), ('i', 4), (\"can't\", 1), ('seem', 1), ('to', 3), ('find', 1), ('any', 1), ('x', 3), (\"face's\", 1), ('in', 2), ('anyones', 1), ('news', 1), ('headers', 1), ('could', 1), ('you,', 2), ('would', 1), ('you,', 2), ('please', 1), ('send', 2), ('me', 3), ('your', 1), ('\"x', 2), ('face\"', 2), ('header', 1), ('i', 4), ('*know*', 1), (\"i'll\", 1), ('probably', 1), ('get', 2), ('a', 2), ('little', 1), ('swamped,', 1), ('but', 3), ('i', 4), ('can', 1), ('handle', 1), ('it', 1), ('i', 4), ('hope', 1), ('rick', 3), ('miller', 3), ('<rick@ee', 2), ('uwm', 2), ('edu>', 2), ('|', 2), ('<ricxjo@discus', 1), ('mil', 1), ('wi', 1), ('us>', 1), ('ricxjo', 1), ('muelisto', 1), ('send', 2), ('a', 2), ('postcard,', 1), ('get', 2), ('one', 2), ('back', 1), ('|', 2), ('enposxtigu', 1), ('bildkarton', 1), ('kaj', 1), ('vi', 1), ('ricevos', 1), ('alion', 1), ('', 18), ('', 18), ('', 18), ('', 18), ('', 18), ('', 18), ('', 18), ('', 18), ('rick', 3), ('miller', 3), ('', 18), ('', 18), ('', 18), ('16203', 1), ('woods', 1), ('', 18), ('', 18), ('', 18), ('muskego,', 1), ('wis', 1), ('', 18), ('53150', 1), ('', 18), ('', 18), ('', 18), ('usa', 1)]\n"
          ],
          "name": "stdout"
        }
      ]
    },
    {
      "cell_type": "code",
      "metadata": {
        "id": "9Yh3ZkQAYQZO"
      },
      "source": [
        ""
      ],
      "execution_count": null,
      "outputs": []
    }
  ]
}