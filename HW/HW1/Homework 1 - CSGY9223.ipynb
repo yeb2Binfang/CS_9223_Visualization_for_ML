{
  "nbformat": 4,
  "nbformat_minor": 0,
  "metadata": {
    "kernelspec": {
      "display_name": "Python 3",
      "language": "python",
      "name": "python3"
    },
    "language_info": {
      "codemirror_mode": {
        "name": "ipython",
        "version": 3
      },
      "file_extension": ".py",
      "mimetype": "text/x-python",
      "name": "python",
      "nbconvert_exporter": "python",
      "pygments_lexer": "ipython3",
      "version": "3.6.9"
    },
    "colab": {
      "name": "Homework 1 - CSGY9223.ipynb",
      "provenance": [],
      "include_colab_link": true
    }
  },
  "cells": [
    {
      "cell_type": "markdown",
      "metadata": {
        "id": "view-in-github",
        "colab_type": "text"
      },
      "source": [
        "<a href=\"https://colab.research.google.com/github/yeb2Binfang/CS_9223_Visualization_for_ML/blob/main/HW/HW1/Homework%201%20-%20CSGY9223.ipynb\" target=\"_parent\"><img src=\"https://colab.research.google.com/assets/colab-badge.svg\" alt=\"Open In Colab\"/></a>"
      ]
    },
    {
      "cell_type": "markdown",
      "metadata": {
        "id": "MuqXzqXITFJe"
      },
      "source": [
        "# Homework 1: CS-GY 9223\n",
        "## Exploring 20 NewsGroups"
      ]
    },
    {
      "cell_type": "markdown",
      "metadata": {
        "id": "mKb5SmMLTFJg"
      },
      "source": [
        "In this homework, you will write a D3 Visualization in Javascript and integrate it in Jupyter Notebook.\n",
        "\n",
        "The goal of this exercise is to explore the **20 News Groups dataset**, a popular machine learning dataset that contains news articles grouped in 20 topics. Your visualization should receive the dataset and display a bar chart with the top most frequent words in the dataset. The user should be able to filter the data based on topic (for example, by clicking in checkboxes, selecting from a drop down menu, etc.). The user should also be able to export the selected documents from the selected topic back to Python (using a button).\n",
        "\n",
        "In summary, your visualization should have the following capabilities:\n",
        "- Display a bar chart with the top K words in the document collection\n",
        "- Enable the user to filter the documents based on topic, and display a bar chart with the frequency of the top K words from that topic.\n",
        "- Export the documents from the selected news topic back to python (as a list of strings).\n",
        "- The visualization has to be integrated with python. The API should have two functions:\n",
        "  - `plot_top_words(documents, K) # plot top K words using D3 and Javascript`\n",
        "  - `get_exported_documents() # get the exported documents back to python`\n",
        "  \n",
        "Example of the resulting visualization:\n",
        "<img src=\"https://github.com/yeb2Binfang/CS_9223_Visualization_for_ML/blob/main/HW/HW1/HW_Vis.png?raw=1\" width = \"500px\" height=\"100px\"/>"
      ]
    },
    {
      "cell_type": "markdown",
      "metadata": {
        "id": "ZTxGnXtUTFJh"
      },
      "source": [
        "### Accessing the data"
      ]
    },
    {
      "cell_type": "markdown",
      "metadata": {
        "id": "wZVe59vcTFJi"
      },
      "source": [
        "The data should be accessed from sklearn. In this section we show an example of code for accessing the documents and the document classes."
      ]
    },
    {
      "cell_type": "code",
      "metadata": {
        "id": "Jc3-Krw1TFJi",
        "colab": {
          "base_uri": "https://localhost:8080/"
        },
        "outputId": "abc204ee-c8a0-4cf3-d195-f20ec306227f"
      },
      "source": [
        "# Fetching the data\n",
        "from sklearn.datasets import fetch_20newsgroups\n",
        "import numpy as np\n",
        "newsgroups = fetch_20newsgroups(subset='test')\n",
        "\n",
        "# getting the topic ids\n",
        "topic_idx = np.array(newsgroups.target, dtype=int)\n",
        "\n",
        "# getting the unique topic names\n",
        "topic_names = np.array(newsgroups.target_names)\n",
        "\n",
        "# getting the list of documents\n",
        "documents = list(newsgroups.data)\n",
        "\n",
        "# getting the list of topics (in the same order as documents)\n",
        "topics = list(topic_names[topic_idx])"
      ],
      "execution_count": 1,
      "outputs": [
        {
          "output_type": "stream",
          "text": [
            "Downloading 20news dataset. This may take a few minutes.\n",
            "Downloading dataset from https://ndownloader.figshare.com/files/5975967 (14 MB)\n"
          ],
          "name": "stderr"
        }
      ]
    },
    {
      "cell_type": "markdown",
      "metadata": {
        "id": "K7iWtSQATFJj"
      },
      "source": [
        "These are the 20 topics in the dataset:"
      ]
    },
    {
      "cell_type": "code",
      "metadata": {
        "id": "LJW1MRGTTFJj",
        "colab": {
          "base_uri": "https://localhost:8080/"
        },
        "outputId": "2e4e7ba4-4448-4fe5-9b63-088b2dab39a5"
      },
      "source": [
        "topic_names"
      ],
      "execution_count": 2,
      "outputs": [
        {
          "output_type": "execute_result",
          "data": {
            "text/plain": [
              "array(['alt.atheism', 'comp.graphics', 'comp.os.ms-windows.misc',\n",
              "       'comp.sys.ibm.pc.hardware', 'comp.sys.mac.hardware',\n",
              "       'comp.windows.x', 'misc.forsale', 'rec.autos', 'rec.motorcycles',\n",
              "       'rec.sport.baseball', 'rec.sport.hockey', 'sci.crypt',\n",
              "       'sci.electronics', 'sci.med', 'sci.space',\n",
              "       'soc.religion.christian', 'talk.politics.guns',\n",
              "       'talk.politics.mideast', 'talk.politics.misc',\n",
              "       'talk.religion.misc'], dtype='<U24')"
            ]
          },
          "metadata": {
            "tags": []
          },
          "execution_count": 2
        }
      ]
    },
    {
      "cell_type": "markdown",
      "metadata": {
        "id": "2QuIAu1_TFJk"
      },
      "source": [
        "The documents and document topics are assigned to the variables *documents* and *topics*. We print some document examples below."
      ]
    },
    {
      "cell_type": "code",
      "metadata": {
        "id": "PDMC6gRYTFJk",
        "colab": {
          "base_uri": "https://localhost:8080/"
        },
        "outputId": "6ab9ef6b-2eb3-4894-896f-7636925dde7c"
      },
      "source": [
        "for i in range(2):\n",
        "    print(\"Topic: {}\".format(topics[i]))\n",
        "    print(\"-\"*60)\n",
        "    print(\"Document:\")\n",
        "    print(documents[i])\n",
        "    print(\"=\"*60)\n",
        "    print(\"\")"
      ],
      "execution_count": null,
      "outputs": [
        {
          "output_type": "stream",
          "text": [
            "Topic: rec.autos\n",
            "------------------------------------------------------------\n",
            "Document:\n",
            "From: v064mb9k@ubvmsd.cc.buffalo.edu (NEIL B. GANDLER)\n",
            "Subject: Need info on 88-89 Bonneville\n",
            "Organization: University at Buffalo\n",
            "Lines: 10\n",
            "News-Software: VAX/VMS VNEWS 1.41\n",
            "Nntp-Posting-Host: ubvmsd.cc.buffalo.edu\n",
            "\n",
            "\n",
            " I am a little confused on all of the models of the 88-89 bonnevilles.\n",
            "I have heard of the LE SE LSE SSE SSEI. Could someone tell me the\n",
            "differences are far as features or performance. I am also curious to\n",
            "know what the book value is for prefereably the 89 model. And how much\n",
            "less than book value can you usually get them for. In other words how\n",
            "much are they in demand this time of year. I have heard that the mid-spring\n",
            "early summer is the best time to buy.\n",
            "\n",
            "\t\t\tNeil Gandler\n",
            "\n",
            "============================================================\n",
            "\n",
            "Topic: comp.windows.x\n",
            "------------------------------------------------------------\n",
            "Document:\n",
            "From: Rick Miller <rick@ee.uwm.edu>\n",
            "Subject: X-Face?\n",
            "Organization: Just me.\n",
            "Lines: 17\n",
            "Distribution: world\n",
            "NNTP-Posting-Host: 129.89.2.33\n",
            "Summary: Go ahead... swamp me.  <EEP!>\n",
            "\n",
            "I'm not familiar at all with the format of these \"X-Face:\" thingies, but\n",
            "after seeing them in some folks' headers, I've *got* to *see* them (and\n",
            "maybe make one of my own)!\n",
            "\n",
            "I've got \"dpg-view\" on my Linux box (which displays \"uncompressed X-Faces\")\n",
            "and I've managed to compile [un]compface too... but now that I'm *looking*\n",
            "for them, I can't seem to find any X-Face:'s in anyones news headers!  :-(\n",
            "\n",
            "Could you, would you, please send me your \"X-Face:\" header?\n",
            "\n",
            "I *know* I'll probably get a little swamped, but I can handle it.\n",
            "\n",
            "\t...I hope.\n",
            "\n",
            "Rick Miller  <rick@ee.uwm.edu> | <ricxjo@discus.mil.wi.us>   Ricxjo Muelisto\n",
            "Send a postcard, get one back! | Enposxtigu bildkarton kaj vi ricevos alion!\n",
            "          RICK MILLER // 16203 WOODS // MUSKEGO, WIS. 53150 // USA\n",
            "\n",
            "============================================================\n",
            "\n"
          ],
          "name": "stdout"
        }
      ]
    },
    {
      "cell_type": "markdown",
      "metadata": {
        "id": "yDL-0FsxjcjS"
      },
      "source": [
        "##count word frequence\r\n",
        "this function is used to count the word frequences, I will split the word such as  I'll to \"I\" and \"ll\"\r\n",
        "\r\n",
        "For this dunction, it will return the array of top k words and the array of each word's frequences in accending order"
      ]
    },
    {
      "cell_type": "code",
      "metadata": {
        "id": "t-vkgsYZj9Ac"
      },
      "source": [
        "import operator\r\n",
        "\r\n",
        "def count_word_frequence(document,k):\r\n",
        "  doc = document\r\n",
        "  ##create a dist\r\n",
        "  data = {}\r\n",
        "  words = doc.replace(\"(\",' ').replace(\")\",' ').replace(\"'\",' ').replace(\"*\",' ').replace(\".\",' ').replace(\"/\",' ').replace(\"-\",' ').replace(\":\",' ').replace(\"<\",' ').replace(\">\",' ').replace(\"[\",' ').replace(\"]\",' ').replace(\"!\",' ').replace(\"?\",' ').replace(\",\",' ').strip(\"\\n\").lower()\r\n",
        "  ##split the text\r\n",
        "  words1 = words.split()\r\n",
        "  ##count text\r\n",
        "  for word in words1:\r\n",
        "    if word in data:\r\n",
        "      data[word] +=1\r\n",
        "    else:\r\n",
        "      data[word] = 1\r\n",
        "  ###\r\n",
        "  #sorted the dist by value in acending order\r\n",
        "  sorted_fre = np.array(sorted(data.items(), key=operator.itemgetter(1),reverse=True))\r\n",
        "\r\n",
        "  num_of_words = sorted_fre.shape[0]\r\n",
        "  fre = np.zeros(num_of_words)\r\n",
        "  words = []\r\n",
        "\r\n",
        "  for i in range(0,num_of_words):\r\n",
        "    fre[i] = int(sorted_fre[i][1])\r\n",
        "    w = sorted_fre[i][0]\r\n",
        "    words.append(w)\r\n",
        "  words = np.array(words)\r\n",
        "\r\n",
        "  return words[:k],fre[:k]\r\n",
        "\r\n"
      ],
      "execution_count": 84,
      "outputs": []
    },
    {
      "cell_type": "code",
      "metadata": {
        "colab": {
          "base_uri": "https://localhost:8080/"
        },
        "id": "zkzMdTrdmKlQ",
        "outputId": "2fe7fb0d-208d-4ff4-dc06-c31e1ef2cdb9"
      },
      "source": [
        "a,b = count_word_frequence(document=documents[1],k=5)\r\n",
        "print(a)"
      ],
      "execution_count": 89,
      "outputs": [
        {
          "output_type": "stream",
          "text": [
            "['i' 'face' 'rick' 'miller' 'x']\n"
          ],
          "name": "stdout"
        }
      ]
    },
    {
      "cell_type": "markdown",
      "metadata": {
        "id": "1o740RekoFFB"
      },
      "source": [
        "##drop down menu"
      ]
    },
    {
      "cell_type": "code",
      "metadata": {
        "id": "t9XQV87xmpqg"
      },
      "source": [
        "from IPython.display import display, HTML"
      ],
      "execution_count": 90,
      "outputs": []
    },
    {
      "cell_type": "code",
      "metadata": {
        "colab": {
          "base_uri": "https://localhost:8080/",
          "height": 17
        },
        "id": "BnBj0nlhoSfT",
        "outputId": "330ac70a-0b94-48d8-c736-60af324e0305"
      },
      "source": [
        "%%javascript\r\n",
        "require.config({\r\n",
        "    paths: {\r\n",
        "        d3: \"https://d3js.org/d3.v6.min\"\r\n",
        "     }\r\n",
        "});\r\n",
        "\r\n",
        "require([\"d3\"], function(d3) {\r\n",
        "    window.d3 = d3;\r\n",
        "});"
      ],
      "execution_count": 91,
      "outputs": [
        {
          "output_type": "display_data",
          "data": {
            "application/javascript": [
              "require.config({\n",
              "    paths: {\n",
              "        d3: \"https://d3js.org/d3.v6.min\"\n",
              "     }\n",
              "});\n",
              "\n",
              "require([\"d3\"], function(d3) {\n",
              "    window.d3 = d3;\n",
              "});"
            ],
            "text/plain": [
              "<IPython.core.display.Javascript object>"
            ]
          },
          "metadata": {
            "tags": []
          }
        }
      ]
    },
    {
      "cell_type": "markdown",
      "metadata": {
        "id": "yFjwnhEYrelt"
      },
      "source": [
        "https://www.d3-graph-gallery.com/graph/line_select.html\r\n",
        "\r\n",
        "http://bl.ocks.org/williaster/10ef968ccfdc71c30ef8\r\n",
        "\r\n",
        "this two websites will teach you how to make it"
      ]
    },
    {
      "cell_type": "code",
      "metadata": {
        "id": "gKRkjD0YoT0A"
      },
      "source": [
        ""
      ],
      "execution_count": null,
      "outputs": []
    }
  ]
}