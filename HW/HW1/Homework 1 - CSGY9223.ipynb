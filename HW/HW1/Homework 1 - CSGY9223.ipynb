{
  "nbformat": 4,
  "nbformat_minor": 0,
  "metadata": {
    "kernelspec": {
      "display_name": "Python 3",
      "language": "python",
      "name": "python3"
    },
    "language_info": {
      "codemirror_mode": {
        "name": "ipython",
        "version": 3
      },
      "file_extension": ".py",
      "mimetype": "text/x-python",
      "name": "python",
      "nbconvert_exporter": "python",
      "pygments_lexer": "ipython3",
      "version": "3.6.9"
    },
    "colab": {
      "name": "Homework 1 - CSGY9223.ipynb",
      "provenance": []
    }
  },
  "cells": [
    {
      "cell_type": "markdown",
      "metadata": {
        "id": "MuqXzqXITFJe"
      },
      "source": [
        "# Homework 1: CS-GY 9223\n",
        "## Exploring 20 NewsGroups"
      ]
    },
    {
      "cell_type": "markdown",
      "metadata": {
        "id": "mKb5SmMLTFJg"
      },
      "source": [
        "In this homework, you will write a D3 Visualization in Javascript and integrate it in Jupyter Notebook.\n",
        "\n",
        "The goal of this exercise is to explore the **20 News Groups dataset**, a popular machine learning dataset that contains news articles grouped in 20 topics. Your visualization should receive the dataset and display a bar chart with the top most frequent words in the dataset. The user should be able to filter the data based on topic (for example, by clicking in checkboxes, selecting from a drop down menu, etc.). The user should also be able to export the selected documents from the selected topic back to Python (using a button).\n",
        "\n",
        "In summary, your visualization should have the following capabilities:\n",
        "- Display a bar chart with the top K words in the document collection\n",
        "- Enable the user to filter the documents based on topic, and display a bar chart with the frequency of the top K words from that topic.\n",
        "- Export the documents from the selected news topic back to python (as a list of strings).\n",
        "- The visualization has to be integrated with python. The API should have two functions:\n",
        "  - `plot_top_words(documents, K) # plot top K words using D3 and Javascript`\n",
        "  - `get_exported_documents() # get the exported documents back to python`\n",
        "  \n",
        "Example of the resulting visualization:\n",
        "<img src=\"https://github.com/yeb2Binfang/CS_9223_Visualization_for_ML/blob/main/HW/HW1/HW_Vis.png?raw=1\" width = \"500px\" height=\"100px\"/>"
      ]
    },
    {
      "cell_type": "markdown",
      "metadata": {
        "id": "ZTxGnXtUTFJh"
      },
      "source": [
        "### Accessing the data"
      ]
    },
    {
      "cell_type": "markdown",
      "metadata": {
        "id": "wZVe59vcTFJi"
      },
      "source": [
        "The data should be accessed from sklearn. In this section we show an example of code for accessing the documents and the document classes."
      ]
    },
    {
      "cell_type": "code",
      "metadata": {
        "id": "Jc3-Krw1TFJi",
        "outputId": "84dc9a0d-8910-448e-cd56-23de4ae176ec",
        "colab": {
          "base_uri": "https://localhost:8080/"
        }
      },
      "source": [
        "# Fetching the data\n",
        "from sklearn.datasets import fetch_20newsgroups\n",
        "import numpy as np\n",
        "newsgroups = fetch_20newsgroups(subset='test')\n",
        "\n",
        "# getting the topic ids\n",
        "topic_idx = np.array(newsgroups.target, dtype=int)\n",
        "\n",
        "# getting the unique topic names\n",
        "topic_names = np.array(newsgroups.target_names)\n",
        "\n",
        "# getting the list of documents\n",
        "documents = list(newsgroups.data)\n",
        "\n",
        "# getting the list of topics (in the same order as documents)\n",
        "topics = list(topic_names[topic_idx])"
      ],
      "execution_count": 1,
      "outputs": [
        {
          "output_type": "stream",
          "text": [
            "Downloading 20news dataset. This may take a few minutes.\n",
            "Downloading dataset from https://ndownloader.figshare.com/files/5975967 (14 MB)\n"
          ],
          "name": "stderr"
        }
      ]
    },
    {
      "cell_type": "markdown",
      "metadata": {
        "id": "K7iWtSQATFJj"
      },
      "source": [
        "These are the 20 topics in the dataset:"
      ]
    },
    {
      "cell_type": "code",
      "metadata": {
        "id": "LJW1MRGTTFJj",
        "outputId": "e78a5b56-550a-4a08-e1d6-f8c76573e20b",
        "colab": {
          "base_uri": "https://localhost:8080/"
        }
      },
      "source": [
        "topic_names"
      ],
      "execution_count": 2,
      "outputs": [
        {
          "output_type": "execute_result",
          "data": {
            "text/plain": [
              "array(['alt.atheism', 'comp.graphics', 'comp.os.ms-windows.misc',\n",
              "       'comp.sys.ibm.pc.hardware', 'comp.sys.mac.hardware',\n",
              "       'comp.windows.x', 'misc.forsale', 'rec.autos', 'rec.motorcycles',\n",
              "       'rec.sport.baseball', 'rec.sport.hockey', 'sci.crypt',\n",
              "       'sci.electronics', 'sci.med', 'sci.space',\n",
              "       'soc.religion.christian', 'talk.politics.guns',\n",
              "       'talk.politics.mideast', 'talk.politics.misc',\n",
              "       'talk.religion.misc'], dtype='<U24')"
            ]
          },
          "metadata": {
            "tags": []
          },
          "execution_count": 2
        }
      ]
    },
    {
      "cell_type": "markdown",
      "metadata": {
        "id": "2QuIAu1_TFJk"
      },
      "source": [
        "The documents and document topics are assigned to the variables *documents* and *topics*. We print some document examples below."
      ]
    },
    {
      "cell_type": "code",
      "metadata": {
        "id": "PDMC6gRYTFJk",
        "outputId": "25cc905e-2763-41e7-ced3-9944d5cc04ce",
        "colab": {
          "base_uri": "https://localhost:8080/"
        }
      },
      "source": [
        "for i in range(2):\n",
        "    print(\"Topic: {}\".format(topics[i]))\n",
        "    print(\"-\"*60)\n",
        "    print(\"Document:\")\n",
        "    print(documents[i])\n",
        "    print(\"=\"*60)\n",
        "    print(\"\")"
      ],
      "execution_count": 3,
      "outputs": [
        {
          "output_type": "stream",
          "text": [
            "Topic: rec.autos\n",
            "------------------------------------------------------------\n",
            "Document:\n",
            "From: v064mb9k@ubvmsd.cc.buffalo.edu (NEIL B. GANDLER)\n",
            "Subject: Need info on 88-89 Bonneville\n",
            "Organization: University at Buffalo\n",
            "Lines: 10\n",
            "News-Software: VAX/VMS VNEWS 1.41\n",
            "Nntp-Posting-Host: ubvmsd.cc.buffalo.edu\n",
            "\n",
            "\n",
            " I am a little confused on all of the models of the 88-89 bonnevilles.\n",
            "I have heard of the LE SE LSE SSE SSEI. Could someone tell me the\n",
            "differences are far as features or performance. I am also curious to\n",
            "know what the book value is for prefereably the 89 model. And how much\n",
            "less than book value can you usually get them for. In other words how\n",
            "much are they in demand this time of year. I have heard that the mid-spring\n",
            "early summer is the best time to buy.\n",
            "\n",
            "\t\t\tNeil Gandler\n",
            "\n",
            "============================================================\n",
            "\n",
            "Topic: comp.windows.x\n",
            "------------------------------------------------------------\n",
            "Document:\n",
            "From: Rick Miller <rick@ee.uwm.edu>\n",
            "Subject: X-Face?\n",
            "Organization: Just me.\n",
            "Lines: 17\n",
            "Distribution: world\n",
            "NNTP-Posting-Host: 129.89.2.33\n",
            "Summary: Go ahead... swamp me.  <EEP!>\n",
            "\n",
            "I'm not familiar at all with the format of these \"X-Face:\" thingies, but\n",
            "after seeing them in some folks' headers, I've *got* to *see* them (and\n",
            "maybe make one of my own)!\n",
            "\n",
            "I've got \"dpg-view\" on my Linux box (which displays \"uncompressed X-Faces\")\n",
            "and I've managed to compile [un]compface too... but now that I'm *looking*\n",
            "for them, I can't seem to find any X-Face:'s in anyones news headers!  :-(\n",
            "\n",
            "Could you, would you, please send me your \"X-Face:\" header?\n",
            "\n",
            "I *know* I'll probably get a little swamped, but I can handle it.\n",
            "\n",
            "\t...I hope.\n",
            "\n",
            "Rick Miller  <rick@ee.uwm.edu> | <ricxjo@discus.mil.wi.us>   Ricxjo Muelisto\n",
            "Send a postcard, get one back! | Enposxtigu bildkarton kaj vi ricevos alion!\n",
            "          RICK MILLER // 16203 WOODS // MUSKEGO, WIS. 53150 // USA\n",
            "\n",
            "============================================================\n",
            "\n"
          ],
          "name": "stdout"
        }
      ]
    },
    {
      "cell_type": "markdown",
      "metadata": {
        "id": "zBiWo1HFVSLA"
      },
      "source": [
        "##try how to count the words"
      ]
    },
    {
      "cell_type": "code",
      "metadata": {
        "id": "JBP5UEiTTcmr"
      },
      "source": [
        "from collections import Counter"
      ],
      "execution_count": 4,
      "outputs": []
    },
    {
      "cell_type": "code",
      "metadata": {
        "id": "ky2Q5XmNVe_E",
        "outputId": "d0c7e507-47ab-4a4f-ae99-86b7751a877b",
        "colab": {
          "base_uri": "https://localhost:8080/"
        }
      },
      "source": [
        "doc = documents[0]\r\n",
        "print(doc)"
      ],
      "execution_count": 8,
      "outputs": [
        {
          "output_type": "stream",
          "text": [
            "From: v064mb9k@ubvmsd.cc.buffalo.edu (NEIL B. GANDLER)\n",
            "Subject: Need info on 88-89 Bonneville\n",
            "Organization: University at Buffalo\n",
            "Lines: 10\n",
            "News-Software: VAX/VMS VNEWS 1.41\n",
            "Nntp-Posting-Host: ubvmsd.cc.buffalo.edu\n",
            "\n",
            "\n",
            " I am a little confused on all of the models of the 88-89 bonnevilles.\n",
            "I have heard of the LE SE LSE SSE SSEI. Could someone tell me the\n",
            "differences are far as features or performance. I am also curious to\n",
            "know what the book value is for prefereably the 89 model. And how much\n",
            "less than book value can you usually get them for. In other words how\n",
            "much are they in demand this time of year. I have heard that the mid-spring\n",
            "early summer is the best time to buy.\n",
            "\n",
            "\t\t\tNeil Gandler\n",
            "\n"
          ],
          "name": "stdout"
        }
      ]
    },
    {
      "cell_type": "code",
      "metadata": {
        "id": "-IAjeuMDXEY7",
        "outputId": "3cd6e906-c583-4745-c60d-f5a649175884",
        "colab": {
          "base_uri": "https://localhost:8080/"
        }
      },
      "source": [
        "wordcount = len(doc.split())\r\n",
        "print(wordcount)"
      ],
      "execution_count": 24,
      "outputs": [
        {
          "output_type": "stream",
          "text": [
            "117\n"
          ],
          "name": "stdout"
        }
      ]
    },
    {
      "cell_type": "code",
      "metadata": {
        "id": "BDXOoufBXk77",
        "outputId": "6530d543-b2e8-4009-ff7c-1b74aad2bac6",
        "colab": {
          "base_uri": "https://localhost:8080/"
        }
      },
      "source": [
        "words = doc.replace('.',' ').replace('!',' ').replace('?',' ').replace(';',' ').replace('\\\\',' ').replace('\\t',' ').replace(':',' ').replace('\\n',' ').replace('-',' ').lower()\r\n",
        "print(type(words))"
      ],
      "execution_count": 44,
      "outputs": [
        {
          "output_type": "stream",
          "text": [
            "<class 'str'>\n"
          ],
          "name": "stdout"
        }
      ]
    },
    {
      "cell_type": "code",
      "metadata": {
        "id": "1KPIvDvVXxuq",
        "outputId": "68abc094-7622-4bed-accf-038db815f38a",
        "colab": {
          "base_uri": "https://localhost:8080/"
        }
      },
      "source": [
        "words1 = words.split(\" \")\r\n",
        "for i in words1:\r\n",
        "  if i=='':\r\n",
        "    words1.remove(i)\r\n",
        "    \r\n",
        "print(words1)\r\n",
        "\r\n",
        "\r\n",
        "wordfreq = [words1.count(w) for w in words1]\r\n",
        "print(\"Pairs\\n\" + str(list(zip(words1, wordfreq))))\r\n",
        "\r\n"
      ],
      "execution_count": 51,
      "outputs": [
        {
          "output_type": "stream",
          "text": [
            "['from', 'v064mb9k@ubvmsd', 'cc', 'buffalo', 'edu', '(neil', 'b', 'gandler)', 'subject', 'need', 'info', 'on', '88', '89', 'bonneville', 'organization', 'university', 'at', 'buffalo', 'lines', '10', 'news', 'software', 'vax/vms', 'vnews', '1', '41', 'nntp', 'posting', 'host', 'ubvmsd', 'cc', 'buffalo', 'edu', 'i', 'am', 'a', 'little', 'confused', 'on', 'all', 'of', 'the', 'models', 'of', 'the', '88', '89', 'bonnevilles', 'i', 'have', 'heard', 'of', 'the', 'le', 'se', 'lse', 'sse', 'ssei', 'could', 'someone', 'tell', 'me', 'the', 'differences', 'are', 'far', 'as', 'features', 'or', 'performance', 'i', 'am', 'also', 'curious', 'to', 'know', 'what', 'the', 'book', 'value', 'is', 'for', 'prefereably', 'the', '89', 'model', 'and', 'how', 'much', 'less', 'than', 'book', 'value', 'can', 'you', 'usually', 'get', 'them', 'for', 'in', 'other', 'words', 'how', 'much', 'are', 'they', 'in', 'demand', 'this', 'time', 'of', 'year', 'i', 'have', 'heard', 'that', 'the', 'mid', 'spring', 'early', 'summer', 'is', 'the', 'best', 'time', 'to', 'buy', '', '', 'neil', 'gandler', '']\n",
            "Pairs\n",
            "[('from', 1), ('v064mb9k@ubvmsd', 1), ('cc', 2), ('buffalo', 3), ('edu', 2), ('(neil', 1), ('b', 1), ('gandler)', 1), ('subject', 1), ('need', 1), ('info', 1), ('on', 2), ('88', 2), ('89', 3), ('bonneville', 1), ('organization', 1), ('university', 1), ('at', 1), ('buffalo', 3), ('lines', 1), ('10', 1), ('news', 1), ('software', 1), ('vax/vms', 1), ('vnews', 1), ('1', 1), ('41', 1), ('nntp', 1), ('posting', 1), ('host', 1), ('ubvmsd', 1), ('cc', 2), ('buffalo', 3), ('edu', 2), ('i', 4), ('am', 2), ('a', 1), ('little', 1), ('confused', 1), ('on', 2), ('all', 1), ('of', 4), ('the', 8), ('models', 1), ('of', 4), ('the', 8), ('88', 2), ('89', 3), ('bonnevilles', 1), ('i', 4), ('have', 2), ('heard', 2), ('of', 4), ('the', 8), ('le', 1), ('se', 1), ('lse', 1), ('sse', 1), ('ssei', 1), ('could', 1), ('someone', 1), ('tell', 1), ('me', 1), ('the', 8), ('differences', 1), ('are', 2), ('far', 1), ('as', 1), ('features', 1), ('or', 1), ('performance', 1), ('i', 4), ('am', 2), ('also', 1), ('curious', 1), ('to', 2), ('know', 1), ('what', 1), ('the', 8), ('book', 2), ('value', 2), ('is', 2), ('for', 2), ('prefereably', 1), ('the', 8), ('89', 3), ('model', 1), ('and', 1), ('how', 2), ('much', 2), ('less', 1), ('than', 1), ('book', 2), ('value', 2), ('can', 1), ('you', 1), ('usually', 1), ('get', 1), ('them', 1), ('for', 2), ('in', 2), ('other', 1), ('words', 1), ('how', 2), ('much', 2), ('are', 2), ('they', 1), ('in', 2), ('demand', 1), ('this', 1), ('time', 2), ('of', 4), ('year', 1), ('i', 4), ('have', 2), ('heard', 2), ('that', 1), ('the', 8), ('mid', 1), ('spring', 1), ('early', 1), ('summer', 1), ('is', 2), ('the', 8), ('best', 1), ('time', 2), ('to', 2), ('buy', 1), ('', 3), ('', 3), ('neil', 1), ('gandler', 1), ('', 3)]\n"
          ],
          "name": "stdout"
        }
      ]
    },
    {
      "cell_type": "code",
      "metadata": {
        "id": "9Yh3ZkQAYQZO"
      },
      "source": [
        ""
      ],
      "execution_count": null,
      "outputs": []
    }
  ]
}