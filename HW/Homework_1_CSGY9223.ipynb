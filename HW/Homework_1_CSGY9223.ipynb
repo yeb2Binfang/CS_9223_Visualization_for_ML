{
  "nbformat": 4,
  "nbformat_minor": 0,
  "metadata": {
    "colab": {
      "name": "Homework 1 - CSGY9223.ipynb",
      "provenance": [],
      "include_colab_link": true
    },
    "kernelspec": {
      "display_name": "Python 3",
      "language": "python",
      "name": "python3"
    },
    "language_info": {
      "codemirror_mode": {
        "name": "ipython",
        "version": 3
      },
      "file_extension": ".py",
      "mimetype": "text/x-python",
      "name": "python",
      "nbconvert_exporter": "python",
      "pygments_lexer": "ipython3",
      "version": "3.7.4"
    }
  },
  "cells": [
    {
      "cell_type": "markdown",
      "metadata": {
        "id": "view-in-github",
        "colab_type": "text"
      },
      "source": [
        "<a href=\"https://colab.research.google.com/github/yeb2Binfang/CS_9223_Visualization_for_ML/blob/main/HW/Homework_1_CSGY9223.ipynb\" target=\"_parent\"><img src=\"https://colab.research.google.com/assets/colab-badge.svg\" alt=\"Open In Colab\"/></a>"
      ]
    },
    {
      "cell_type": "markdown",
      "metadata": {
        "id": "MuqXzqXITFJe"
      },
      "source": [
        "# Homework 1: CS-GY 9223\n",
        "## Exploring 20 NewsGroups"
      ]
    },
    {
      "cell_type": "markdown",
      "metadata": {
        "id": "mKb5SmMLTFJg"
      },
      "source": [
        "In this homework, you will write a D3 Visualization in Javascript and integrate it in Jupyter Notebook.\n",
        "\n",
        "The goal of this exercise is to explore the **20 News Groups dataset**, a popular machine learning dataset that contains news articles grouped in 20 topics. Your visualization should receive the dataset and display a bar chart with the top most frequent words in the dataset. The user should be able to filter the data based on topic (for example, by clicking in checkboxes, selecting from a drop down menu, etc.). The user should also be able to export the selected documents from the selected topic back to Python (using a button).\n",
        "\n",
        "In summary, your visualization should have the following capabilities:\n",
        "- Display a bar chart with the top K words in the document collection\n",
        "- Enable the user to filter the documents based on topic, and display a bar chart with the frequency of the top K words from that topic.\n",
        "- Export the documents from the selected news topic back to python (as a list of strings).\n",
        "- The visualization has to be integrated with python. The API should have two functions:\n",
        "  - `plot_top_words(documents, K) # plot top K words using D3 and Javascript`\n",
        "  - `get_exported_documents() # get the exported documents back to python`\n",
        "  \n",
        "Example of the resulting visualization:\n",
        "<img src=\"https://github.com/yeb2Binfang/CS_9223_Visualization_for_ML/blob/main/HW/HW1/HW_Vis.png?raw=1\" width = \"500px\" height=\"100px\"/>"
      ]
    },
    {
      "cell_type": "markdown",
      "metadata": {
        "id": "ZTxGnXtUTFJh"
      },
      "source": [
        "### Accessing the data"
      ]
    },
    {
      "cell_type": "markdown",
      "metadata": {
        "id": "wZVe59vcTFJi"
      },
      "source": [
        "The data should be accessed from sklearn. In this section we show an example of code for accessing the documents and the document classes."
      ]
    },
    {
      "cell_type": "code",
      "metadata": {
        "colab": {
          "base_uri": "https://localhost:8080/"
        },
        "id": "Jc3-Krw1TFJi",
        "outputId": "3824fcee-4084-46c3-e185-ee7018db9299"
      },
      "source": [
        "# Fetching the data\n",
        "from sklearn.datasets import fetch_20newsgroups\n",
        "import numpy as np\n",
        "newsgroups = fetch_20newsgroups(subset='test')\n",
        "\n",
        "# getting the topic ids\n",
        "topic_idx = np.array(newsgroups.target, dtype=int)\n",
        "\n",
        "# getting the unique topic names\n",
        "topic_names = np.array(newsgroups.target_names)\n",
        "\n",
        "# getting the list of documents\n",
        "documents = list(newsgroups.data)\n",
        "\n",
        "# getting the list of topics (in the same order as documents)\n",
        "topics = list(topic_names[topic_idx])"
      ],
      "execution_count": 1,
      "outputs": [
        {
          "output_type": "stream",
          "text": [
            "Downloading 20news dataset. This may take a few minutes.\n",
            "Downloading dataset from https://ndownloader.figshare.com/files/5975967 (14 MB)\n"
          ],
          "name": "stderr"
        }
      ]
    },
    {
      "cell_type": "markdown",
      "metadata": {
        "id": "K7iWtSQATFJj"
      },
      "source": [
        "These are the 20 topics in the dataset:"
      ]
    },
    {
      "cell_type": "code",
      "metadata": {
        "colab": {
          "base_uri": "https://localhost:8080/"
        },
        "id": "LJW1MRGTTFJj",
        "outputId": "ebb26161-77e7-4aad-f5b3-39ac3001effb"
      },
      "source": [
        "topic_names"
      ],
      "execution_count": 2,
      "outputs": [
        {
          "output_type": "execute_result",
          "data": {
            "text/plain": [
              "array(['alt.atheism', 'comp.graphics', 'comp.os.ms-windows.misc',\n",
              "       'comp.sys.ibm.pc.hardware', 'comp.sys.mac.hardware',\n",
              "       'comp.windows.x', 'misc.forsale', 'rec.autos', 'rec.motorcycles',\n",
              "       'rec.sport.baseball', 'rec.sport.hockey', 'sci.crypt',\n",
              "       'sci.electronics', 'sci.med', 'sci.space',\n",
              "       'soc.religion.christian', 'talk.politics.guns',\n",
              "       'talk.politics.mideast', 'talk.politics.misc',\n",
              "       'talk.religion.misc'], dtype='<U24')"
            ]
          },
          "metadata": {
            "tags": []
          },
          "execution_count": 2
        }
      ]
    },
    {
      "cell_type": "markdown",
      "metadata": {
        "id": "2QuIAu1_TFJk"
      },
      "source": [
        "The documents and document topics are assigned to the variables *documents* and *topics*. We print some document examples below."
      ]
    },
    {
      "cell_type": "markdown",
      "metadata": {
        "id": "yDL-0FsxjcjS"
      },
      "source": [
        "## count word frequence\n",
        "this function is used to count the word frequences, I will split the word such as  I'll to \"I\" and \"ll\"\n",
        "\n",
        "For this dunction, it will return the array of top k words and the array of each word's frequences in accending order"
      ]
    },
    {
      "cell_type": "code",
      "metadata": {
        "id": "t-vkgsYZj9Ac"
      },
      "source": [
        "import operator\n",
        "\n",
        "def count_word_frequence(document,k):\n",
        "  doc = document\n",
        "  ##create a dist\n",
        "  data = {}\n",
        "  words = doc.replace(\"(\",' ').replace(\")\",' ').replace(\"'\",' ').replace(\"*\",' ').replace(\".\",' ').replace(\"/\",' ').replace(\"-\",' ').replace(\":\",' ').replace(\"<\",' ').replace(\">\",' ').replace(\"[\",' ').replace(\"]\",' ').replace(\"!\",' ').replace(\"?\",' ').replace(\",\",' ').strip(\"\\n\").lower()\n",
        "  ##split the text\n",
        "  words1 = words.split()\n",
        "  ##count text\n",
        "  for word in words1:\n",
        "    if word in data:\n",
        "      data[word] +=1\n",
        "    else:\n",
        "      data[word] = 1\n",
        "  ###\n",
        "  #sorted the dist by value in acending order\n",
        "  sorted_fre = np.array(sorted(data.items(), key=operator.itemgetter(1),reverse=True))\n",
        "\n",
        "  num_of_words = sorted_fre.shape[0]\n",
        "  fre = np.zeros(num_of_words)\n",
        "  words = []\n",
        "\n",
        "  for i in range(0,num_of_words):\n",
        "    fre[i] = int(sorted_fre[i][1])\n",
        "    w = sorted_fre[i][0]\n",
        "    words.append(w)\n",
        "    \n",
        "  words = np.array(words)\n",
        "  \n",
        "\n",
        "  return words[:k].tolist(),fre[:k].tolist()\n",
        "\n"
      ],
      "execution_count": 3,
      "outputs": []
    },
    {
      "cell_type": "code",
      "metadata": {
        "colab": {
          "base_uri": "https://localhost:8080/"
        },
        "id": "zkzMdTrdmKlQ",
        "outputId": "c2c2830a-64c0-4cf9-dce3-a72c305a0434"
      },
      "source": [
        "words,words_fre = count_word_frequence(document=documents[1],k=5)\n",
        "print(words)\n",
        "print(words_fre)"
      ],
      "execution_count": null,
      "outputs": [
        {
          "output_type": "stream",
          "text": [
            "['i', 'face', 'rick', 'miller', 'x']\n",
            "[10.0, 4.0, 3.0, 3.0, 3.0]\n"
          ],
          "name": "stdout"
        }
      ]
    },
    {
      "cell_type": "markdown",
      "metadata": {
        "id": "1o740RekoFFB"
      },
      "source": [
        "## drop down menu"
      ]
    },
    {
      "cell_type": "code",
      "metadata": {
        "id": "t9XQV87xmpqg"
      },
      "source": [
        "from IPython.display import display, HTML\n",
        "import json"
      ],
      "execution_count": 4,
      "outputs": []
    },
    {
      "cell_type": "code",
      "metadata": {
        "colab": {
          "base_uri": "https://localhost:8080/",
          "height": 17
        },
        "id": "BnBj0nlhoSfT",
        "outputId": "a0080594-5bea-4de6-daed-45bf3ffd4c44"
      },
      "source": [
        "%%javascript\n",
        "require.config({\n",
        "    paths: {\n",
        "        d3: \"https://d3js.org/d3.v6.min\"\n",
        "     }\n",
        "});\n",
        "\n",
        "require([\"d3\"], function(d3) {\n",
        "    window.d3 = d3;\n",
        "});"
      ],
      "execution_count": 5,
      "outputs": [
        {
          "output_type": "display_data",
          "data": {
            "application/javascript": [
              "require.config({\n",
              "    paths: {\n",
              "        d3: \"https://d3js.org/d3.v6.min\"\n",
              "     }\n",
              "});\n",
              "\n",
              "require([\"d3\"], function(d3) {\n",
              "    window.d3 = d3;\n",
              "});"
            ],
            "text/plain": [
              "<IPython.core.display.Javascript object>"
            ]
          },
          "metadata": {
            "tags": []
          }
        }
      ]
    },
    {
      "cell_type": "markdown",
      "metadata": {
        "id": "yFjwnhEYrelt"
      },
      "source": [
        "https://www.d3-graph-gallery.com/graph/line_select.html\n",
        "\n",
        "http://bl.ocks.org/williaster/10ef968ccfdc71c30ef8\n",
        "\n",
        "this two websites will teach you how to make it"
      ]
    },
    {
      "cell_type": "code",
      "metadata": {
        "id": "DIIsgVhnFj6N"
      },
      "source": [
        "from string import Template"
      ],
      "execution_count": 6,
      "outputs": []
    },
    {
      "cell_type": "code",
      "metadata": {
        "id": "rkexbRWK86x5"
      },
      "source": [
        "topic_names_JS = topic_names.tolist()\n"
      ],
      "execution_count": null,
      "outputs": []
    },
    {
      "cell_type": "markdown",
      "metadata": {
        "id": "2tar7Ukb86x9"
      },
      "source": [
        "## visulaize the data"
      ]
    },
    {
      "cell_type": "code",
      "metadata": {
        "id": "IsxoftnREoOa"
      },
      "source": [
        ""
      ],
      "execution_count": null,
      "outputs": []
    },
    {
      "cell_type": "markdown",
      "metadata": {
        "id": "wfngkjVKQ6mH"
      },
      "source": [
        "## dropdown menu"
      ]
    },
    {
      "cell_type": "code",
      "metadata": {
        "id": "Vw1CJpy-TuVV"
      },
      "source": [
        "topic_names_List = topic_names.tolist()"
      ],
      "execution_count": 7,
      "outputs": []
    },
    {
      "cell_type": "code",
      "metadata": {
        "id": "3PcFdF8KRd6i"
      },
      "source": [
        "dict1 = []\r\n",
        "for i in range(len(words_fre_list)):\r\n",
        "  dic = {'words':words_list[i],'fre':words_fre_list[i]}\r\n",
        "  dict1.append(dic)\r\n",
        "  \r\n"
      ],
      "execution_count": null,
      "outputs": []
    },
    {
      "cell_type": "code",
      "metadata": {
        "colab": {
          "base_uri": "https://localhost:8080/"
        },
        "id": "eu942jK3xtAQ",
        "outputId": "a5e442f7-42dc-4658-eea6-4656f46d400e"
      },
      "source": [
        "print(dict1)"
      ],
      "execution_count": null,
      "outputs": [
        {
          "output_type": "stream",
          "text": [
            "[{'words': 'I', 'fre': 6}, {'words': 'face', 'fre': 3}, {'words': 'milk', 'fre': 2}, {'words': 'education', 'fre': 1}]\n"
          ],
          "name": "stdout"
        }
      ]
    },
    {
      "cell_type": "code",
      "metadata": {
        "id": "JgalDELAxvG3"
      },
      "source": [
        ""
      ],
      "execution_count": null,
      "outputs": []
    },
    {
      "cell_type": "markdown",
      "metadata": {
        "id": "pF9ma0pLxrUE"
      },
      "source": [
        "##data dict\r\n",
        "the data format\r\n",
        "\r\n",
        "{\r\n",
        "\r\n",
        "  'topic1':[{word:'I',fre:'3'},{word:'love',fre:3]}],\r\n",
        "\r\n",
        "  'topic2'...\r\n",
        "  \r\n",
        "}"
      ]
    },
    {
      "cell_type": "code",
      "metadata": {
        "id": "2wqE2eTYxpuc"
      },
      "source": [
        "data_dict = {}\r\n",
        "\r\n",
        "for i in range(len(topic_names_List)):\r\n",
        "  data_dict[topic_names_List[i]] = []\r\n",
        "  for j in range(5):\r\n",
        "    dic = {'word':data_dict_words_and_wordFre[topic_names_List[i]]['words'][j],'fre':data_dict_words_and_wordFre[topic_names_List[i]]['words_fre'][j]}\r\n",
        "    data_dict[topic_names_List[i]].append(dic)\r\n"
      ],
      "execution_count": 12,
      "outputs": []
    },
    {
      "cell_type": "code",
      "metadata": {
        "colab": {
          "base_uri": "https://localhost:8080/"
        },
        "id": "q4vd6-I_zcAL",
        "outputId": "2aa4e553-26ac-46b4-fe75-6a36565ff794"
      },
      "source": [
        "print(data_dict['comp.sys.ibm.pc.hardware'])"
      ],
      "execution_count": 13,
      "outputs": [
        {
          "output_type": "stream",
          "text": [
            "[{'word': 'the', 'fre': 51.0}, {'word': 'of', 'fre': 24.0}, {'word': 'to', 'fre': 22.0}, {'word': 'and', 'fre': 20.0}, {'word': 'in', 'fre': 18.0}]\n"
          ],
          "name": "stdout"
        }
      ]
    },
    {
      "cell_type": "code",
      "metadata": {
        "id": "WbIHJqUFzpF1"
      },
      "source": [
        "data_dict_words_and_wordFre = {}\r\n",
        "for i in range(len(topic_names_List)):\r\n",
        "  words,words_fre = count_word_frequence(document=documents[i],k=5)\r\n",
        "  data_dict_words_and_wordFre[topic_names_List[i]] = {'words':words,'words_fre':words_fre}"
      ],
      "execution_count": 11,
      "outputs": []
    },
    {
      "cell_type": "code",
      "metadata": {
        "colab": {
          "base_uri": "https://localhost:8080/"
        },
        "id": "jxwUXrdH9sg9",
        "outputId": "87a40f85-1a73-4cfb-db72-6b31ecae4772"
      },
      "source": [
        "print(data_dict_words_and_wordFre['alt.atheism']['words'][0])\r\n",
        "print(data_dict_words_and_wordFre['alt.atheism']['words_fre'])"
      ],
      "execution_count": 14,
      "outputs": [
        {
          "output_type": "stream",
          "text": [
            "the\n",
            "[8.0, 4.0, 4.0, 3.0, 3.0]\n"
          ],
          "name": "stdout"
        }
      ]
    },
    {
      "cell_type": "markdown",
      "metadata": {
        "id": "j9sUgMVYf12K"
      },
      "source": [
        "##select and update. This part  is done"
      ]
    },
    {
      "cell_type": "code",
      "metadata": {
        "colab": {
          "base_uri": "https://localhost:8080/",
          "height": 446
        },
        "id": "SlwNi6Tlf34A",
        "outputId": "59390012-8235-4f8c-c3fd-7d500c4e0641"
      },
      "source": [
        "template = Template(\"\"\"\r\n",
        "<html>\r\n",
        "\r\n",
        "<head>\r\n",
        "</head>\r\n",
        "\r\n",
        "<body>\r\n",
        "  <!-- Load d3.js -->\r\n",
        "  <script src=\"https://d3js.org/d3.v4.js\"></script>\r\n",
        "\r\n",
        "  <!-- Initialize a select button -->\r\n",
        "  <select id=\"selectButton\"></select>\r\n",
        "\r\n",
        "  <!-- Create a div where the graph will take place -->\r\n",
        "  <div id=\"my_dataviz\"></div>\r\n",
        "\r\n",
        "  <p id=\"demo\"></p>\r\n",
        "\r\n",
        "  <!-- Color Scale -->\r\n",
        "  <script src=\"https://d3js.org/d3-scale-chromatic.v1.min.js\"></script>\r\n",
        "  <script>\r\n",
        "    //dataset\r\n",
        "    //console.log(name);\r\n",
        "    var name = 'alt.atheism'\r\n",
        "    // List of groups (here I have one group per column)\r\n",
        "    var topic = $topic;\r\n",
        "    //console.log(topic);\r\n",
        "\r\n",
        "    var dict1 = $dict1;\r\n",
        "    var dict2 = $dict2;\r\n",
        "    var data1 = dict1[name];\r\n",
        "    //console.log(dict1);\r\n",
        "\r\n",
        "    var words = dict2[name]['words'];\r\n",
        "    //console.log(words);\r\n",
        "    \r\n",
        "    var words_fre = dict2[name]['words_fre'];\r\n",
        "    var max = words_fre[0]\r\n",
        "\r\n",
        "    // add the options to the button\r\n",
        "    d3.select(\"#selectButton\")\r\n",
        "      .selectAll('myOptions')\r\n",
        "      .data(topic)\r\n",
        "      .enter()\r\n",
        "      .append('option')\r\n",
        "      .text(function (d) { return d; }) // text showed in the menu\r\n",
        "      .attr(\"value\", function (d) { return d; }) // corresponding value returned by the button\r\n",
        "    \r\n",
        "    // set the dimensions and margins of the graph\r\n",
        "    var margin = {top: 20, right: 30, bottom: 40, left: 90},\r\n",
        "        width = 460 - margin.left - margin.right,\r\n",
        "        height = 400 - margin.top - margin.bottom;\r\n",
        "\r\n",
        "    // append the svg object to the body of the page\r\n",
        "    var svg = d3.select(\"#my_dataviz\")\r\n",
        "                .append(\"svg\")\r\n",
        "                .attr(\"id\",\"graph\")\r\n",
        "                .attr(\"width\", width + margin.left + margin.right)\r\n",
        "                .attr(\"height\", height + margin.top + margin.bottom)\r\n",
        "                .append(\"g\")\r\n",
        "                .attr(\"transform\",\r\n",
        "                \"translate(\" + margin.left + \",\" + margin.top + \")\");\r\n",
        "\r\n",
        "    // Initialize the X axis\r\n",
        "    var x = d3.scaleLinear()\r\n",
        "      .range([ 0, width]);\r\n",
        "    var xAxis = svg.append(\"g\")\r\n",
        "      .attr(\"transform\", \"translate(0,\" + height + \")\")\r\n",
        "      .attr(\"class\", \"myXaxis\");\r\n",
        "\r\n",
        "    // Y axis\r\n",
        "    var y = d3.scaleBand()\r\n",
        "      .range([ 0, height ])\r\n",
        "      .padding(.1);\r\n",
        "    var yAxis = svg.append(\"g\")\r\n",
        "\r\n",
        "    function update(data_dict,data_word_and_fre){\r\n",
        "      // Update the Y axis\r\n",
        "      y.domain(data_word_and_fre['words']);\r\n",
        "      yAxis.transition().duration(1000).call(d3.axisLeft(y));\r\n",
        "\r\n",
        "      // Update the X axis\r\n",
        "      max = data_word_and_fre['words_fre'][0];\r\n",
        "      x.domain([0,max])\r\n",
        "      xAxis.call(d3.axisBottom(x));\r\n",
        "\r\n",
        "      //Bars\r\n",
        "      var bar = svg.selectAll(\"myRect\")\r\n",
        "        .data(data_dict)\r\n",
        "      \r\n",
        "      bar\r\n",
        "        .enter()\r\n",
        "        .append(\"rect\")\r\n",
        "        .transition()\r\n",
        "        .duration(1000)\r\n",
        "          .attr(\"x\", x(0) )\r\n",
        "          .attr(\"id\",\"myrect\")\r\n",
        "          .attr(\"y\", function(d) { return y(d.word); })\r\n",
        "          .attr(\"width\", function(d) { return x(d.fre); })\r\n",
        "          .attr(\"height\", y.bandwidth() )\r\n",
        "          .attr(\"fill\", \"#69b3a2\");\r\n",
        "\r\n",
        "      bar.exit()\r\n",
        "        .remove()\r\n",
        "\r\n",
        "    }\r\n",
        "    \r\n",
        "    // When the button is changed, run the updateChart function\r\n",
        "    d3.select(\"#selectButton\").on(\"change\", function(d) {\r\n",
        "        // recover the option that has been chosen\r\n",
        "        var selectedOption = d3.select(this).property(\"value\")\r\n",
        "        // run the updateChart function with this selected option\r\n",
        "        d3.select(\"#my_dataviz\").selectAll(\"#myrect\").remove();\r\n",
        "\r\n",
        "        update(dict1[selectedOption],dict2[selectedOption]);\r\n",
        "    })\r\n",
        "\r\n",
        "    var first=true;\r\n",
        "    if(first==true){\r\n",
        "      update(dict1['alt.atheism'],dict2['alt.atheism']);\r\n",
        "      fist=false;\r\n",
        "    }\r\n",
        "\r\n",
        "  </script>\r\n",
        "\r\n",
        "</body>\r\n",
        "</html>\r\n",
        "\"\"\")\r\n",
        "my_html = template.safe_substitute(topic=topic_names_List,dict1=data_dict,dict2=data_dict_words_and_wordFre)\r\n",
        "display(HTML(my_html))"
      ],
      "execution_count": 207,
      "outputs": [
        {
          "output_type": "display_data",
          "data": {
            "text/html": [
              "\n",
              "<html>\n",
              "\n",
              "<head>\n",
              "</head>\n",
              "\n",
              "<body>\n",
              "  <!-- Load d3.js -->\n",
              "  <script src=\"https://d3js.org/d3.v4.js\"></script>\n",
              "\n",
              "  <!-- Initialize a select button -->\n",
              "  <select id=\"selectButton\"></select>\n",
              "\n",
              "  <!-- Create a div where the graph will take place -->\n",
              "  <div id=\"my_dataviz\"></div>\n",
              "\n",
              "  <p id=\"demo\"></p>\n",
              "\n",
              "  <!-- Color Scale -->\n",
              "  <script src=\"https://d3js.org/d3-scale-chromatic.v1.min.js\"></script>\n",
              "  <script>\n",
              "    //dataset\n",
              "    //console.log(name);\n",
              "    var name = 'alt.atheism'\n",
              "    // List of groups (here I have one group per column)\n",
              "    var topic = ['alt.atheism', 'comp.graphics', 'comp.os.ms-windows.misc', 'comp.sys.ibm.pc.hardware', 'comp.sys.mac.hardware', 'comp.windows.x', 'misc.forsale', 'rec.autos', 'rec.motorcycles', 'rec.sport.baseball', 'rec.sport.hockey', 'sci.crypt', 'sci.electronics', 'sci.med', 'sci.space', 'soc.religion.christian', 'talk.politics.guns', 'talk.politics.mideast', 'talk.politics.misc', 'talk.religion.misc'];\n",
              "    //console.log(topic);\n",
              "\n",
              "    var dict1 = {'alt.atheism': [{'word': 'the', 'fre': 8.0}, {'word': 'i', 'fre': 4.0}, {'word': 'of', 'fre': 4.0}, {'word': 'buffalo', 'fre': 3.0}, {'word': '89', 'fre': 3.0}], 'comp.graphics': [{'word': 'i', 'fre': 10.0}, {'word': 'face', 'fre': 4.0}, {'word': 'rick', 'fre': 3.0}, {'word': 'miller', 'fre': 3.0}, {'word': 'x', 'fre': 3.0}], 'comp.os.ms-windows.misc': [{'word': 'of', 'fre': 3.0}, {'word': 'mathew', 'fre': 2.0}, {'word': 'uk', 'fre': 2.0}, {'word': 're', 'fre': 2.0}, {'word': 'strong', 'fre': 2.0}], 'comp.sys.ibm.pc.hardware': [{'word': 'the', 'fre': 51.0}, {'word': 'of', 'fre': 24.0}, {'word': 'to', 'fre': 22.0}, {'word': 'and', 'fre': 20.0}, {'word': 'in', 'fre': 18.0}], 'comp.sys.mac.hardware': [{'word': 'sgi', 'fre': 5.0}, {'word': 'jon', 'fre': 5.0}, {'word': 'com', 'fre': 4.0}, {'word': 'that', 'fre': 4.0}, {'word': 'andrews', 'fre': 4.0}], 'comp.windows.x': [{'word': 'a', 'fre': 35.0}, {'word': 'i', 'fre': 26.0}, {'word': 'the', 'fre': 24.0}, {'word': 'of', 'fre': 22.0}, {'word': 'and', 'fre': 19.0}], 'misc.forsale': [{'word': 'money', 'fre': 2.0}, {'word': 'little', 'fre': 2.0}, {'word': 'from', 'fre': 1.0}, {'word': 'petch@gvg47', 'fre': 1.0}, {'word': 'gvg', 'fre': 1.0}], 'rec.autos': [{'word': 'of', 'fre': 4.0}, {'word': 'the', 'fre': 4.0}, {'word': 'und', 'fre': 3.0}, {'word': 'ac', 'fre': 3.0}, {'word': 'za', 'fre': 3.0}], 'rec.motorcycles': [{'word': 'the', 'fre': 3.0}, {'word': 'a', 'fre': 3.0}, {'word': 'kartik@hls', 'fre': 2.0}, {'word': 'com', 'fre': 2.0}, {'word': 'kartik', 'fre': 2.0}], 'rec.sport.baseball': [{'word': 'and', 'fre': 6.0}, {'word': 'a', 'fre': 6.0}, {'word': 'i', 'fre': 5.0}, {'word': 'it', 'fre': 5.0}, {'word': 'into', 'fre': 4.0}], 'rec.sport.hockey': [{'word': 'ncr', 'fre': 5.0}, {'word': 'greg', 'fre': 4.0}, {'word': 'on', 'fre': 4.0}, {'word': 'line', 'fre': 4.0}, {'word': 'com', 'fre': 3.0}], 'sci.crypt': [{'word': 'color', 'fre': 7.0}, {'word': 'x', 'fre': 5.0}, {'word': 'have', 'fre': 3.0}, {'word': 'with', 'fre': 3.0}, {'word': 'the', 'fre': 3.0}], 'sci.electronics': [{'word': 'the', 'fre': 18.0}, {'word': 'to', 'fre': 14.0}, {'word': 'of', 'fre': 8.0}, {'word': 'that', 'fre': 6.0}, {'word': 'it', 'fre': 5.0}], 'sci.med': [{'word': 'i', 'fre': 6.0}, {'word': 'in', 'fre': 4.0}, {'word': 'and', 'fre': 4.0}, {'word': 'uucp', 'fre': 3.0}, {'word': 'ray', 'fre': 3.0}], 'sci.space': [{'word': '|', 'fre': 38.0}, {'word': 'to', 'fre': 34.0}, {'word': 'you', 'fre': 30.0}, {'word': 'the', 'fre': 27.0}, {'word': 'is', 'fre': 26.0}], 'soc.religion.christian': [{'word': 'the', 'fre': 16.0}, {'word': 'eisa', 'fre': 14.0}, {'word': 'a', 'fre': 13.0}, {'word': 'bus', 'fre': 11.0}, {'word': 'i', 'fre': 9.0}], 'talk.politics.guns': [{'word': 'a', 'fre': 8.0}, {'word': 'i', 'fre': 5.0}, {'word': 'the', 'fre': 4.0}, {'word': 'printing', 'fre': 3.0}, {'word': 'that', 'fre': 3.0}], 'talk.politics.mideast': [{'word': '_', 'fre': 8.0}, {'word': 'cena', 'fre': 3.0}, {'word': 'vicente@cenaath', 'fre': 2.0}, {'word': 'dgac', 'fre': 2.0}, {'word': 'fr', 'fre': 2.0}], 'talk.politics.misc': [{'word': 'a', 'fre': 4.0}, {'word': 'the', 'fre': 4.0}, {'word': 'they', 'fre': 4.0}, {'word': 'mike', 'fre': 3.0}, {'word': 'umn', 'fre': 3.0}], 'talk.religion.misc': [{'word': 'edu', 'fre': 3.0}, {'word': 'daryl', 'fre': 3.0}, {'word': 'texas', 'fre': 3.0}, {'word': '+', 'fre': 3.0}, {'word': 'sola', 'fre': 3.0}]};\n",
              "    var dict2 = {'alt.atheism': {'words': ['the', 'i', 'of', 'buffalo', '89'], 'words_fre': [8.0, 4.0, 4.0, 3.0, 3.0]}, 'comp.graphics': {'words': ['i', 'face', 'rick', 'miller', 'x'], 'words_fre': [10.0, 4.0, 3.0, 3.0, 3.0]}, 'comp.os.ms-windows.misc': {'words': ['of', 'mathew', 'uk', 're', 'strong'], 'words_fre': [3.0, 2.0, 2.0, 2.0, 2.0]}, 'comp.sys.ibm.pc.hardware': {'words': ['the', 'of', 'to', 'and', 'in'], 'words_fre': [51.0, 24.0, 22.0, 20.0, 18.0]}, 'comp.sys.mac.hardware': {'words': ['sgi', 'jon', 'com', 'that', 'andrews'], 'words_fre': [5.0, 5.0, 4.0, 4.0, 4.0]}, 'comp.windows.x': {'words': ['a', 'i', 'the', 'of', 'and'], 'words_fre': [35.0, 26.0, 24.0, 22.0, 19.0]}, 'misc.forsale': {'words': ['money', 'little', 'from', 'petch@gvg47', 'gvg'], 'words_fre': [2.0, 2.0, 1.0, 1.0, 1.0]}, 'rec.autos': {'words': ['of', 'the', 'und', 'ac', 'za'], 'words_fre': [4.0, 4.0, 3.0, 3.0, 3.0]}, 'rec.motorcycles': {'words': ['the', 'a', 'kartik@hls', 'com', 'kartik'], 'words_fre': [3.0, 3.0, 2.0, 2.0, 2.0]}, 'rec.sport.baseball': {'words': ['and', 'a', 'i', 'it', 'into'], 'words_fre': [6.0, 6.0, 5.0, 5.0, 4.0]}, 'rec.sport.hockey': {'words': ['ncr', 'greg', 'on', 'line', 'com'], 'words_fre': [5.0, 4.0, 4.0, 4.0, 3.0]}, 'sci.crypt': {'words': ['color', 'x', 'have', 'with', 'the'], 'words_fre': [7.0, 5.0, 3.0, 3.0, 3.0]}, 'sci.electronics': {'words': ['the', 'to', 'of', 'that', 'it'], 'words_fre': [18.0, 14.0, 8.0, 6.0, 5.0]}, 'sci.med': {'words': ['i', 'in', 'and', 'uucp', 'ray'], 'words_fre': [6.0, 4.0, 4.0, 3.0, 3.0]}, 'sci.space': {'words': ['|', 'to', 'you', 'the', 'is'], 'words_fre': [38.0, 34.0, 30.0, 27.0, 26.0]}, 'soc.religion.christian': {'words': ['the', 'eisa', 'a', 'bus', 'i'], 'words_fre': [16.0, 14.0, 13.0, 11.0, 9.0]}, 'talk.politics.guns': {'words': ['a', 'i', 'the', 'printing', 'that'], 'words_fre': [8.0, 5.0, 4.0, 3.0, 3.0]}, 'talk.politics.mideast': {'words': ['_', 'cena', 'vicente@cenaath', 'dgac', 'fr'], 'words_fre': [8.0, 3.0, 2.0, 2.0, 2.0]}, 'talk.politics.misc': {'words': ['a', 'the', 'they', 'mike', 'umn'], 'words_fre': [4.0, 4.0, 4.0, 3.0, 3.0]}, 'talk.religion.misc': {'words': ['edu', 'daryl', 'texas', '+', 'sola'], 'words_fre': [3.0, 3.0, 3.0, 3.0, 3.0]}};\n",
              "    var data1 = dict1[name];\n",
              "    //console.log(dict1);\n",
              "\n",
              "    var words = dict2[name]['words'];\n",
              "    //console.log(words);\n",
              "    \n",
              "    var words_fre = dict2[name]['words_fre'];\n",
              "    var max = words_fre[0]\n",
              "\n",
              "    // add the options to the button\n",
              "    d3.select(\"#selectButton\")\n",
              "      .selectAll('myOptions')\n",
              "      .data(topic)\n",
              "      .enter()\n",
              "      .append('option')\n",
              "      .text(function (d) { return d; }) // text showed in the menu\n",
              "      .attr(\"value\", function (d) { return d; }) // corresponding value returned by the button\n",
              "    \n",
              "    // set the dimensions and margins of the graph\n",
              "    var margin = {top: 20, right: 30, bottom: 40, left: 90},\n",
              "        width = 460 - margin.left - margin.right,\n",
              "        height = 400 - margin.top - margin.bottom;\n",
              "\n",
              "    // append the svg object to the body of the page\n",
              "    var svg = d3.select(\"#my_dataviz\")\n",
              "                .append(\"svg\")\n",
              "                .attr(\"id\",\"graph\")\n",
              "                .attr(\"width\", width + margin.left + margin.right)\n",
              "                .attr(\"height\", height + margin.top + margin.bottom)\n",
              "                .append(\"g\")\n",
              "                .attr(\"transform\",\n",
              "                \"translate(\" + margin.left + \",\" + margin.top + \")\");\n",
              "\n",
              "    // Initialize the X axis\n",
              "    var x = d3.scaleLinear()\n",
              "      .range([ 0, width]);\n",
              "    var xAxis = svg.append(\"g\")\n",
              "      .attr(\"transform\", \"translate(0,\" + height + \")\")\n",
              "      .attr(\"class\", \"myXaxis\");\n",
              "\n",
              "    // Y axis\n",
              "    var y = d3.scaleBand()\n",
              "      .range([ 0, height ])\n",
              "      .padding(.1);\n",
              "    var yAxis = svg.append(\"g\")\n",
              "\n",
              "    function update(data_dict,data_word_and_fre){\n",
              "      // Update the Y axis\n",
              "      y.domain(data_word_and_fre['words']);\n",
              "      yAxis.transition().duration(1000).call(d3.axisLeft(y));\n",
              "\n",
              "      // Update the X axis\n",
              "      max = data_word_and_fre['words_fre'][0];\n",
              "      x.domain([0,max])\n",
              "      xAxis.call(d3.axisBottom(x));\n",
              "\n",
              "      //Bars\n",
              "      var bar = svg.selectAll(\"myRect\")\n",
              "        .data(data_dict)\n",
              "      \n",
              "      bar\n",
              "        .enter()\n",
              "        .append(\"rect\")\n",
              "        .transition()\n",
              "        .duration(1000)\n",
              "          .attr(\"x\", x(0) )\n",
              "          .attr(\"id\",\"myrect\")\n",
              "          .attr(\"y\", function(d) { return y(d.word); })\n",
              "          .attr(\"width\", function(d) { return x(d.fre); })\n",
              "          .attr(\"height\", y.bandwidth() )\n",
              "          .attr(\"fill\", \"#69b3a2\");\n",
              "\n",
              "      bar.exit()\n",
              "        .remove()\n",
              "\n",
              "    }\n",
              "    \n",
              "    // When the button is changed, run the updateChart function\n",
              "    d3.select(\"#selectButton\").on(\"change\", function(d) {\n",
              "        // recover the option that has been chosen\n",
              "        var selectedOption = d3.select(this).property(\"value\")\n",
              "        // run the updateChart function with this selected option\n",
              "        d3.select(\"#my_dataviz\").selectAll(\"#myrect\").remove();\n",
              "\n",
              "        update(dict1[selectedOption],dict2[selectedOption]);\n",
              "    })\n",
              "\n",
              "    var first=true;\n",
              "    if(first==true){\n",
              "      update(dict1['alt.atheism'],dict2['alt.atheism']);\n",
              "      fist=false;\n",
              "    }\n",
              "\n",
              "  </script>\n",
              "\n",
              "</body>\n",
              "</html>\n"
            ],
            "text/plain": [
              "<IPython.core.display.HTML object>"
            ]
          },
          "metadata": {
            "tags": []
          }
        }
      ]
    },
    {
      "cell_type": "code",
      "metadata": {
        "id": "lEddo2hRf5X1"
      },
      "source": [
        ""
      ],
      "execution_count": null,
      "outputs": []
    }
  ]
}