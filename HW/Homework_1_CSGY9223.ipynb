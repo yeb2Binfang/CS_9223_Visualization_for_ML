{
 "cells": [
  {
   "cell_type": "markdown",
   "metadata": {
    "id": "MuqXzqXITFJe"
   },
   "source": [
    "# Homework 1: CS-GY 9223\n",
    "## Exploring 20 NewsGroups"
   ]
  },
  {
   "cell_type": "markdown",
   "metadata": {
    "id": "mKb5SmMLTFJg"
   },
   "source": [
    "In this homework, you will write a D3 Visualization in Javascript and integrate it in Jupyter Notebook.\n",
    "\n",
    "The goal of this exercise is to explore the **20 News Groups dataset**, a popular machine learning dataset that contains news articles grouped in 20 topics. Your visualization should receive the dataset and display a bar chart with the top most frequent words in the dataset. The user should be able to filter the data based on topic (for example, by clicking in checkboxes, selecting from a drop down menu, etc.). The user should also be able to export the selected documents from the selected topic back to Python (using a button).\n",
    "\n",
    "In summary, your visualization should have the following capabilities:\n",
    "- Display a bar chart with the top K words in the document collection\n",
    "- Enable the user to filter the documents based on topic, and display a bar chart with the frequency of the top K words from that topic.\n",
    "- Export the documents from the selected news topic back to python (as a list of strings).\n",
    "- The visualization has to be integrated with python. The API should have two functions:\n",
    "  - `plot_top_words(documents, K) # plot top K words using D3 and Javascript`\n",
    "  - `get_exported_documents() # get the exported documents back to python`\n",
    "  \n",
    "Example of the resulting visualization:\n",
    "<img src=\"https://github.com/yeb2Binfang/CS_9223_Visualization_for_ML/blob/main/HW/HW1/HW_Vis.png?raw=1\" width = \"500px\" height=\"100px\"/>"
   ]
  },
  {
   "cell_type": "markdown",
   "metadata": {
    "id": "ZTxGnXtUTFJh"
   },
   "source": [
    "### Accessing the data"
   ]
  },
  {
   "cell_type": "markdown",
   "metadata": {
    "id": "wZVe59vcTFJi"
   },
   "source": [
    "The data should be accessed from sklearn. In this section we show an example of code for accessing the documents and the document classes."
   ]
  },
  {
   "cell_type": "code",
   "execution_count": 1,
   "metadata": {
    "colab": {
     "base_uri": "https://localhost:8080/"
    },
    "id": "Jc3-Krw1TFJi",
    "outputId": "a9c0e7e5-61dc-441b-aed7-15077d171a2f"
   },
   "outputs": [],
   "source": [
    "# Fetching the data\n",
    "from sklearn.datasets import fetch_20newsgroups\n",
    "import numpy as np\n",
    "newsgroups = fetch_20newsgroups(subset='test')\n",
    "\n",
    "# getting the topic ids\n",
    "topic_idx = np.array(newsgroups.target, dtype=int)\n",
    "\n",
    "# getting the unique topic names\n",
    "topic_names = np.array(newsgroups.target_names)\n",
    "\n",
    "# getting the list of documents\n",
    "documents = list(newsgroups.data)\n",
    "\n",
    "# getting the list of topics (in the same order as documents)\n",
    "topics = list(topic_names[topic_idx])"
   ]
  },
  {
   "cell_type": "markdown",
   "metadata": {
    "id": "K7iWtSQATFJj"
   },
   "source": [
    "These are the 20 topics in the dataset:"
   ]
  },
  {
   "cell_type": "code",
   "execution_count": 2,
   "metadata": {
    "colab": {
     "base_uri": "https://localhost:8080/"
    },
    "id": "LJW1MRGTTFJj",
    "outputId": "d27808b3-1e1c-4016-af93-952ee7d1e71d"
   },
   "outputs": [
    {
     "data": {
      "text/plain": [
       "array(['alt.atheism', 'comp.graphics', 'comp.os.ms-windows.misc',\n",
       "       'comp.sys.ibm.pc.hardware', 'comp.sys.mac.hardware',\n",
       "       'comp.windows.x', 'misc.forsale', 'rec.autos', 'rec.motorcycles',\n",
       "       'rec.sport.baseball', 'rec.sport.hockey', 'sci.crypt',\n",
       "       'sci.electronics', 'sci.med', 'sci.space',\n",
       "       'soc.religion.christian', 'talk.politics.guns',\n",
       "       'talk.politics.mideast', 'talk.politics.misc',\n",
       "       'talk.religion.misc'], dtype='<U24')"
      ]
     },
     "execution_count": 2,
     "metadata": {},
     "output_type": "execute_result"
    }
   ],
   "source": [
    "topic_names"
   ]
  },
  {
   "cell_type": "markdown",
   "metadata": {
    "id": "2QuIAu1_TFJk"
   },
   "source": [
    "The documents and document topics are assigned to the variables *documents* and *topics*. We print some document examples below."
   ]
  },
  {
   "cell_type": "markdown",
   "metadata": {
    "id": "yDL-0FsxjcjS"
   },
   "source": [
    "## count word frequence\n",
    "this function is used to count the word frequences, I will split the word such as  I'll to \"I\" and \"ll\"\n",
    "\n",
    "For this dunction, it will return the array of top k words and the array of each word's frequences in accending order"
   ]
  },
  {
   "cell_type": "code",
   "execution_count": 4,
   "metadata": {
    "id": "t-vkgsYZj9Ac"
   },
   "outputs": [],
   "source": [
    "import operator\n",
    "\n",
    "def count_word_frequence(document,k):\n",
    "  doc = document\n",
    "  ##create a dist\n",
    "  data = {}\n",
    "  words = doc.replace(\"(\",' ').replace(\")\",' ').replace(\"'\",' ').replace(\"*\",' ').replace(\".\",' ').replace(\"/\",' ').replace(\"-\",' ').replace(\":\",' ').replace(\"<\",' ').replace(\">\",' ').replace(\"[\",' ').replace(\"]\",' ').replace(\"!\",' ').replace(\"?\",' ').replace(\",\",' ').strip(\"\\n\").lower()\n",
    "  ##split the text\n",
    "  words1 = words.split()\n",
    "  ##count text\n",
    "  for word in words1:\n",
    "    if word in data:\n",
    "      data[word] +=1\n",
    "    else:\n",
    "      data[word] = 1\n",
    "  ###\n",
    "  #sorted the dist by value in acending order\n",
    "  sorted_fre = np.array(sorted(data.items(), key=operator.itemgetter(1),reverse=True))\n",
    "\n",
    "  num_of_words = sorted_fre.shape[0]\n",
    "  fre = np.zeros(num_of_words)\n",
    "  words = []\n",
    "\n",
    "  for i in range(0,num_of_words):\n",
    "    fre[i] = int(sorted_fre[i][1])\n",
    "    w = sorted_fre[i][0]\n",
    "    words.append(w)\n",
    "    \n",
    "  words = np.array(words)\n",
    "  \n",
    "\n",
    "  return words[:k],fre[:k]\n",
    "\n"
   ]
  },
  {
   "cell_type": "code",
   "execution_count": 15,
   "metadata": {
    "colab": {
     "base_uri": "https://localhost:8080/"
    },
    "id": "zkzMdTrdmKlQ",
    "outputId": "f70d0806-60ed-473c-b0f8-e9d6db0cb09f"
   },
   "outputs": [
    {
     "name": "stdout",
     "output_type": "stream",
     "text": [
      "['i' 'face' 'rick' 'miller' 'x']\n",
      "[10.  4.  3.  3.  3.]\n"
     ]
    }
   ],
   "source": [
    "words,words_fre = count_word_frequence(document=documents[1],k=5)\n",
    "print(words)\n",
    "print(words_fre)"
   ]
  },
  {
   "cell_type": "markdown",
   "metadata": {
    "id": "1o740RekoFFB"
   },
   "source": [
    "## drop down menu"
   ]
  },
  {
   "cell_type": "code",
   "execution_count": 6,
   "metadata": {
    "id": "t9XQV87xmpqg"
   },
   "outputs": [],
   "source": [
    "from IPython.display import display, HTML\n",
    "import json"
   ]
  },
  {
   "cell_type": "code",
   "execution_count": 7,
   "metadata": {
    "colab": {
     "base_uri": "https://localhost:8080/",
     "height": 17
    },
    "id": "BnBj0nlhoSfT",
    "outputId": "330ac70a-0b94-48d8-c736-60af324e0305"
   },
   "outputs": [
    {
     "data": {
      "application/javascript": [
       "require.config({\n",
       "    paths: {\n",
       "        d3: \"https://d3js.org/d3.v6.min\"\n",
       "     }\n",
       "});\n",
       "\n",
       "require([\"d3\"], function(d3) {\n",
       "    window.d3 = d3;\n",
       "});\n"
      ],
      "text/plain": [
       "<IPython.core.display.Javascript object>"
      ]
     },
     "metadata": {},
     "output_type": "display_data"
    }
   ],
   "source": [
    "%%javascript\n",
    "require.config({\n",
    "    paths: {\n",
    "        d3: \"https://d3js.org/d3.v6.min\"\n",
    "     }\n",
    "});\n",
    "\n",
    "require([\"d3\"], function(d3) {\n",
    "    window.d3 = d3;\n",
    "});"
   ]
  },
  {
   "cell_type": "markdown",
   "metadata": {
    "id": "yFjwnhEYrelt"
   },
   "source": [
    "https://www.d3-graph-gallery.com/graph/line_select.html\n",
    "\n",
    "http://bl.ocks.org/williaster/10ef968ccfdc71c30ef8\n",
    "\n",
    "this two websites will teach you how to make it"
   ]
  },
  {
   "cell_type": "code",
   "execution_count": 8,
   "metadata": {
    "id": "DIIsgVhnFj6N"
   },
   "outputs": [],
   "source": [
    "from string import Template"
   ]
  },
  {
   "cell_type": "code",
   "execution_count": 21,
   "metadata": {},
   "outputs": [
    {
     "name": "stdout",
     "output_type": "stream",
     "text": [
      "['alt.atheism', 'comp.graphics', 'comp.os.ms-windows.misc', 'comp.sys.ibm.pc.hardware', 'comp.sys.mac.hardware', 'comp.windows.x', 'misc.forsale', 'rec.autos', 'rec.motorcycles', 'rec.sport.baseball', 'rec.sport.hockey', 'sci.crypt', 'sci.electronics', 'sci.med', 'sci.space', 'soc.religion.christian', 'talk.politics.guns', 'talk.politics.mideast', 'talk.politics.misc', 'talk.religion.misc']\n"
     ]
    }
   ],
   "source": [
    "topic_names_JS = topic_names.tolist()\n",
    "words_JS = topic_names_JS\n",
    "words_fre = {}\n",
    "print(topic_names_JS)"
   ]
  },
  {
   "cell_type": "code",
   "execution_count": 22,
   "metadata": {
    "colab": {
     "base_uri": "https://localhost:8080/",
     "height": 34
    },
    "id": "vqUp1OvIeCto",
    "outputId": "e35223fd-7382-4170-9859-be88e563f520"
   },
   "outputs": [
    {
     "data": {
      "text/html": [
       "\n",
       "<html>\n",
       "<head>\n",
       "</head>\n",
       "<body>\n",
       "<div id='vis-container'>{}</div>\n",
       "<script>\n",
       "    var topic_names = ['alt.atheism', 'comp.graphics', 'comp.os.ms-windows.misc', 'comp.sys.ibm.pc.hardware', 'comp.sys.mac.hardware', 'comp.windows.x', 'misc.forsale', 'rec.autos', 'rec.motorcycles', 'rec.sport.baseball', 'rec.sport.hockey', 'sci.crypt', 'sci.electronics', 'sci.med', 'sci.space', 'soc.religion.christian', 'talk.politics.guns', 'talk.politics.mideast', 'talk.politics.misc', 'talk.religion.misc'];\n",
       "    var words = ['alt.atheism', 'comp.graphics', 'comp.os.ms-windows.misc', 'comp.sys.ibm.pc.hardware', 'comp.sys.mac.hardware', 'comp.windows.x', 'misc.forsale', 'rec.autos', 'rec.motorcycles', 'rec.sport.baseball', 'rec.sport.hockey', 'sci.crypt', 'sci.electronics', 'sci.med', 'sci.space', 'soc.religion.christian', 'talk.politics.guns', 'talk.politics.mideast', 'talk.politics.misc', 'talk.religion.misc'];\n",
       "    var fre = {};\n",
       "    console.log(words);\n",
       "    console.log(fre);\n",
       "\n",
       "    var vis = function (wordsMap) {\n",
       "        //var initialData = wordsMap\n",
       "        var dropdown = d3.select(\"#vis-container\")\n",
       "            .insert(\"select\", \"svg\");\n",
       "        //.on(\"change\", dropdownChange);\n",
       "\n",
       "        dropdown.selectAll(\"option\")\n",
       "            .data(topic_names)\n",
       "            .enter()\n",
       "            .append(\"option\")\n",
       "            .attr(\"value\", function (d, i) {\n",
       "                return ['alt.atheism', 'comp.graphics', 'comp.os.ms-windows.misc', 'comp.sys.ibm.pc.hardware', 'comp.sys.mac.hardware', 'comp.windows.x', 'misc.forsale', 'rec.autos', 'rec.motorcycles', 'rec.sport.baseball', 'rec.sport.hockey', 'sci.crypt', 'sci.electronics', 'sci.med', 'sci.space', 'soc.religion.christian', 'talk.politics.guns', 'talk.politics.mideast', 'talk.politics.misc', 'talk.religion.misc'][i] + ['alt.atheism', 'comp.graphics', 'comp.os.ms-windows.misc', 'comp.sys.ibm.pc.hardware', 'comp.sys.mac.hardware', 'comp.windows.x', 'misc.forsale', 'rec.autos', 'rec.motorcycles', 'rec.sport.baseball', 'rec.sport.hockey', 'sci.crypt', 'sci.electronics', 'sci.med', 'sci.space', 'soc.religion.christian', 'talk.politics.guns', 'talk.politics.mideast', 'talk.politics.misc', 'talk.religion.misc'][i].slice(1, ['alt.atheism', 'comp.graphics', 'comp.os.ms-windows.misc', 'comp.sys.ibm.pc.hardware', 'comp.sys.mac.hardware', 'comp.windows.x', 'misc.forsale', 'rec.autos', 'rec.motorcycles', 'rec.sport.baseball', 'rec.sport.hockey', 'sci.crypt', 'sci.electronics', 'sci.med', 'sci.space', 'soc.religion.christian', 'talk.politics.guns', 'talk.politics.mideast', 'talk.politics.misc', 'talk.religion.misc'][i].length);\n",
       "                \n",
       "            })\n",
       "            .text(function (d, i) {\n",
       "                return ['alt.atheism', 'comp.graphics', 'comp.os.ms-windows.misc', 'comp.sys.ibm.pc.hardware', 'comp.sys.mac.hardware', 'comp.windows.x', 'misc.forsale', 'rec.autos', 'rec.motorcycles', 'rec.sport.baseball', 'rec.sport.hockey', 'sci.crypt', 'sci.electronics', 'sci.med', 'sci.space', 'soc.religion.christian', 'talk.politics.guns', 'talk.politics.mideast', 'talk.politics.misc', 'talk.religion.misc'][i];\n",
       "            });\n",
       "\n",
       "        //var initialData = fre;\n",
       "        //updateBars(initialData);\n",
       "    };\n",
       "\n",
       "    var readData = function (data) {\n",
       "        var wordsMap = {};\n",
       "        data.forEach(function (d, i) {\n",
       "            var w = words[i];\n",
       "\n",
       "            wordsMap[w] = fre[i];\n",
       "            console.log(w);\n",
       "            console.log(wordsMap[w]);\n",
       "\n",
       "\n",
       "        });\n",
       "\n",
       "\n",
       "        vis(wordsMap);\n",
       "    };\n",
       "\n",
       "    readData(words);   \n",
       "  \n",
       "</script>\n",
       "</body>\n",
       "\n",
       "</html>\n"
      ],
      "text/plain": [
       "<IPython.core.display.HTML object>"
      ]
     },
     "metadata": {},
     "output_type": "display_data"
    }
   ],
   "source": [
    "template = Template(\"\"\"\n",
    "<html>\n",
    "<head>\n",
    "</head>\n",
    "<body>\n",
    "<div id='vis-container'>$words_fre</div>\n",
    "<script>\n",
    "    var topic_names = $topic;\n",
    "    var words = $words;\n",
    "    var fre = $words_fre;\n",
    "    console.log(words);\n",
    "    console.log(fre);\n",
    "\n",
    "    var vis = function (wordsMap) {\n",
    "        //var initialData = wordsMap\n",
    "        var dropdown = d3.select(\"#vis-container\")\n",
    "            .insert(\"select\", \"svg\");\n",
    "        //.on(\"change\", dropdownChange);\n",
    "\n",
    "        dropdown.selectAll(\"option\")\n",
    "            .data(topic_names)\n",
    "            .enter()\n",
    "            .append(\"option\")\n",
    "            .attr(\"value\", function (d, i) {\n",
    "                return $topic[i] + $topic[i].slice(1, $topic[i].length);\n",
    "                \n",
    "            })\n",
    "            .text(function (d, i) {\n",
    "                return $topic[i];\n",
    "            });\n",
    "\n",
    "        //var initialData = fre;\n",
    "        //updateBars(initialData);\n",
    "    };\n",
    "\n",
    "    var readData = function (data) {\n",
    "        var wordsMap = {};\n",
    "        data.forEach(function (d, i) {\n",
    "            var w = words[i];\n",
    "\n",
    "            wordsMap[w] = fre[i];\n",
    "            console.log(w);\n",
    "            console.log(wordsMap[w]);\n",
    "\n",
    "\n",
    "        });\n",
    "\n",
    "\n",
    "        vis(wordsMap);\n",
    "    };\n",
    "\n",
    "    readData(words);   \n",
    "  \n",
    "</script>\n",
    "</body>\n",
    "\n",
    "</html>\n",
    "\"\"\")\n",
    "my_html = template.safe_substitute(topic = topic_names_JS, words=words_JS,words_fre=words_fre)\n",
    "display(HTML(my_html))"
   ]
  },
  {
   "cell_type": "code",
   "execution_count": null,
   "metadata": {
    "id": "IHsYnuqleh-Y"
   },
   "outputs": [],
   "source": []
  }
 ],
 "metadata": {
  "colab": {
   "name": "Homework 1 - CSGY9223.ipynb",
   "provenance": []
  },
  "kernelspec": {
   "display_name": "Python 3",
   "language": "python",
   "name": "python3"
  },
  "language_info": {
   "codemirror_mode": {
    "name": "ipython",
    "version": 3
   },
   "file_extension": ".py",
   "mimetype": "text/x-python",
   "name": "python",
   "nbconvert_exporter": "python",
   "pygments_lexer": "ipython3",
   "version": "3.7.4"
  }
 },
 "nbformat": 4,
 "nbformat_minor": 1
}
