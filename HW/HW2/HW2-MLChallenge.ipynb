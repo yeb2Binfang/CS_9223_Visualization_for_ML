{
  "nbformat": 4,
  "nbformat_minor": 0,
  "metadata": {
    "kernelspec": {
      "display_name": "Python 3",
      "language": "python",
      "name": "python3"
    },
    "language_info": {
      "codemirror_mode": {
        "name": "ipython",
        "version": 3
      },
      "file_extension": ".py",
      "mimetype": "text/x-python",
      "name": "python",
      "nbconvert_exporter": "python",
      "pygments_lexer": "ipython3",
      "version": "3.6.9"
    },
    "colab": {
      "name": "HW2-MLChallenge.ipynb",
      "provenance": [],
      "include_colab_link": true
    }
  },
  "cells": [
    {
      "cell_type": "markdown",
      "metadata": {
        "id": "view-in-github",
        "colab_type": "text"
      },
      "source": [
        "<a href=\"https://colab.research.google.com/github/yeb2Binfang/CS_9223_Visualization_for_ML/blob/main/HW/HW2/HW2-MLChallenge.ipynb\" target=\"_parent\"><img src=\"https://colab.research.google.com/assets/colab-badge.svg\" alt=\"Open In Colab\"/></a>"
      ]
    },
    {
      "cell_type": "markdown",
      "metadata": {
        "id": "cYYpqJPWPCct"
      },
      "source": [
        "\n",
        "# HW2 - Model Building and Visualization\n",
        "\n",
        "### Due: 03/11/2020 - 11pm\n",
        "\n",
        "In this homework, you will use AutoML and model analysis to solve a classification problem on a tabular dataset.\n",
        "\n",
        "The dataset `data.csv` contains 30 numerical features (X0 - 29), 1 categorical feature (XC) and 1 target (last column, y). Your goal is to create the best model to predict y based on the data features.\n"
      ]
    },
    {
      "cell_type": "code",
      "metadata": {
        "id": "bSH0yLR9PCc1",
        "outputId": "d884e472-5333-414b-c994-621e4c4fe529",
        "colab": {
          "base_uri": "https://localhost:8080/",
          "height": 215
        }
      },
      "source": [
        "import pandas as pd\n",
        "df = pd.read_csv(\"https://raw.githubusercontent.com/yeb2Binfang/CS_9223_Visualization_for_ML/main/HW/HW2/data.csv\")\n",
        "df.head()"
      ],
      "execution_count": 1,
      "outputs": [
        {
          "output_type": "execute_result",
          "data": {
            "text/html": [
              "<div>\n",
              "<style scoped>\n",
              "    .dataframe tbody tr th:only-of-type {\n",
              "        vertical-align: middle;\n",
              "    }\n",
              "\n",
              "    .dataframe tbody tr th {\n",
              "        vertical-align: top;\n",
              "    }\n",
              "\n",
              "    .dataframe thead th {\n",
              "        text-align: right;\n",
              "    }\n",
              "</style>\n",
              "<table border=\"1\" class=\"dataframe\">\n",
              "  <thead>\n",
              "    <tr style=\"text-align: right;\">\n",
              "      <th></th>\n",
              "      <th>X0</th>\n",
              "      <th>X1</th>\n",
              "      <th>X2</th>\n",
              "      <th>X3</th>\n",
              "      <th>X4</th>\n",
              "      <th>X5</th>\n",
              "      <th>X6</th>\n",
              "      <th>X7</th>\n",
              "      <th>X8</th>\n",
              "      <th>X9</th>\n",
              "      <th>X10</th>\n",
              "      <th>X11</th>\n",
              "      <th>X12</th>\n",
              "      <th>X13</th>\n",
              "      <th>X14</th>\n",
              "      <th>X15</th>\n",
              "      <th>X16</th>\n",
              "      <th>X17</th>\n",
              "      <th>X18</th>\n",
              "      <th>X19</th>\n",
              "      <th>X20</th>\n",
              "      <th>X21</th>\n",
              "      <th>X22</th>\n",
              "      <th>X23</th>\n",
              "      <th>X24</th>\n",
              "      <th>X25</th>\n",
              "      <th>X26</th>\n",
              "      <th>X27</th>\n",
              "      <th>X28</th>\n",
              "      <th>X29</th>\n",
              "      <th>XC</th>\n",
              "      <th>y</th>\n",
              "    </tr>\n",
              "  </thead>\n",
              "  <tbody>\n",
              "    <tr>\n",
              "      <th>0</th>\n",
              "      <td>0.985703</td>\n",
              "      <td>0.899527</td>\n",
              "      <td>2.332283</td>\n",
              "      <td>1.044273</td>\n",
              "      <td>1.141718</td>\n",
              "      <td>-1.656647</td>\n",
              "      <td>-1.409265</td>\n",
              "      <td>1.043518</td>\n",
              "      <td>-0.931461</td>\n",
              "      <td>-1.726754</td>\n",
              "      <td>0.149757</td>\n",
              "      <td>0.723953</td>\n",
              "      <td>0.654222</td>\n",
              "      <td>-0.128981</td>\n",
              "      <td>-0.448738</td>\n",
              "      <td>0.001453</td>\n",
              "      <td>1.068472</td>\n",
              "      <td>0.547043</td>\n",
              "      <td>-1.446777</td>\n",
              "      <td>0.846647</td>\n",
              "      <td>1.385378</td>\n",
              "      <td>0.217853</td>\n",
              "      <td>0.628801</td>\n",
              "      <td>0.511403</td>\n",
              "      <td>0.562767</td>\n",
              "      <td>-0.356514</td>\n",
              "      <td>0.867604</td>\n",
              "      <td>-0.218642</td>\n",
              "      <td>-0.336591</td>\n",
              "      <td>0.096781</td>\n",
              "      <td>C</td>\n",
              "      <td>0</td>\n",
              "    </tr>\n",
              "    <tr>\n",
              "      <th>1</th>\n",
              "      <td>0.539816</td>\n",
              "      <td>0.243602</td>\n",
              "      <td>1.636048</td>\n",
              "      <td>-0.562150</td>\n",
              "      <td>-0.235560</td>\n",
              "      <td>-1.316039</td>\n",
              "      <td>1.529069</td>\n",
              "      <td>-1.415871</td>\n",
              "      <td>-1.167266</td>\n",
              "      <td>-0.103195</td>\n",
              "      <td>1.264812</td>\n",
              "      <td>-0.046112</td>\n",
              "      <td>-0.052789</td>\n",
              "      <td>0.713823</td>\n",
              "      <td>0.489074</td>\n",
              "      <td>1.449449</td>\n",
              "      <td>-0.241008</td>\n",
              "      <td>-1.530879</td>\n",
              "      <td>-0.140254</td>\n",
              "      <td>-2.218684</td>\n",
              "      <td>0.129662</td>\n",
              "      <td>2.020398</td>\n",
              "      <td>0.734907</td>\n",
              "      <td>0.929244</td>\n",
              "      <td>-0.805046</td>\n",
              "      <td>0.268788</td>\n",
              "      <td>1.025799</td>\n",
              "      <td>1.112271</td>\n",
              "      <td>1.492585</td>\n",
              "      <td>-0.497020</td>\n",
              "      <td>E</td>\n",
              "      <td>0</td>\n",
              "    </tr>\n",
              "    <tr>\n",
              "      <th>2</th>\n",
              "      <td>-1.424483</td>\n",
              "      <td>-0.470533</td>\n",
              "      <td>0.095100</td>\n",
              "      <td>0.131981</td>\n",
              "      <td>1.168902</td>\n",
              "      <td>-0.827530</td>\n",
              "      <td>-1.233111</td>\n",
              "      <td>0.556679</td>\n",
              "      <td>-1.384065</td>\n",
              "      <td>-1.197944</td>\n",
              "      <td>-0.401762</td>\n",
              "      <td>0.242434</td>\n",
              "      <td>-1.063001</td>\n",
              "      <td>-0.000186</td>\n",
              "      <td>-1.625695</td>\n",
              "      <td>0.549367</td>\n",
              "      <td>1.792426</td>\n",
              "      <td>-0.684977</td>\n",
              "      <td>0.380994</td>\n",
              "      <td>-0.007497</td>\n",
              "      <td>0.640268</td>\n",
              "      <td>1.470933</td>\n",
              "      <td>-1.398526</td>\n",
              "      <td>-2.139636</td>\n",
              "      <td>-1.238090</td>\n",
              "      <td>-0.139802</td>\n",
              "      <td>-2.317249</td>\n",
              "      <td>0.113483</td>\n",
              "      <td>0.521594</td>\n",
              "      <td>1.269208</td>\n",
              "      <td>E</td>\n",
              "      <td>0</td>\n",
              "    </tr>\n",
              "    <tr>\n",
              "      <th>3</th>\n",
              "      <td>-1.034157</td>\n",
              "      <td>-1.054496</td>\n",
              "      <td>0.339467</td>\n",
              "      <td>-0.829151</td>\n",
              "      <td>0.012123</td>\n",
              "      <td>0.048887</td>\n",
              "      <td>0.573195</td>\n",
              "      <td>-0.189184</td>\n",
              "      <td>-0.674289</td>\n",
              "      <td>0.975835</td>\n",
              "      <td>-0.040081</td>\n",
              "      <td>-0.119562</td>\n",
              "      <td>0.765592</td>\n",
              "      <td>-0.589195</td>\n",
              "      <td>0.054909</td>\n",
              "      <td>0.670680</td>\n",
              "      <td>0.034362</td>\n",
              "      <td>-1.151614</td>\n",
              "      <td>-0.598841</td>\n",
              "      <td>0.278923</td>\n",
              "      <td>2.565787</td>\n",
              "      <td>0.881025</td>\n",
              "      <td>0.305298</td>\n",
              "      <td>-0.368107</td>\n",
              "      <td>-0.664859</td>\n",
              "      <td>0.225715</td>\n",
              "      <td>-0.865773</td>\n",
              "      <td>-0.026332</td>\n",
              "      <td>-0.209023</td>\n",
              "      <td>0.074814</td>\n",
              "      <td>E</td>\n",
              "      <td>0</td>\n",
              "    </tr>\n",
              "    <tr>\n",
              "      <th>4</th>\n",
              "      <td>0.177091</td>\n",
              "      <td>1.154216</td>\n",
              "      <td>1.004133</td>\n",
              "      <td>-0.724015</td>\n",
              "      <td>-0.508090</td>\n",
              "      <td>-0.478284</td>\n",
              "      <td>-0.524431</td>\n",
              "      <td>1.841560</td>\n",
              "      <td>-1.147140</td>\n",
              "      <td>0.435025</td>\n",
              "      <td>-0.385504</td>\n",
              "      <td>-1.895292</td>\n",
              "      <td>0.336079</td>\n",
              "      <td>-0.706587</td>\n",
              "      <td>0.058675</td>\n",
              "      <td>-0.318922</td>\n",
              "      <td>0.252725</td>\n",
              "      <td>-0.756372</td>\n",
              "      <td>-1.619190</td>\n",
              "      <td>-0.413788</td>\n",
              "      <td>0.909173</td>\n",
              "      <td>0.515647</td>\n",
              "      <td>1.095991</td>\n",
              "      <td>-0.993104</td>\n",
              "      <td>-0.775456</td>\n",
              "      <td>0.938553</td>\n",
              "      <td>0.662388</td>\n",
              "      <td>0.483111</td>\n",
              "      <td>-0.910481</td>\n",
              "      <td>1.544431</td>\n",
              "      <td>E</td>\n",
              "      <td>0</td>\n",
              "    </tr>\n",
              "  </tbody>\n",
              "</table>\n",
              "</div>"
            ],
            "text/plain": [
              "         X0        X1        X2        X3  ...       X28       X29  XC  y\n",
              "0  0.985703  0.899527  2.332283  1.044273  ... -0.336591  0.096781   C  0\n",
              "1  0.539816  0.243602  1.636048 -0.562150  ...  1.492585 -0.497020   E  0\n",
              "2 -1.424483 -0.470533  0.095100  0.131981  ...  0.521594  1.269208   E  0\n",
              "3 -1.034157 -1.054496  0.339467 -0.829151  ... -0.209023  0.074814   E  0\n",
              "4  0.177091  1.154216  1.004133 -0.724015  ... -0.910481  1.544431   E  0\n",
              "\n",
              "[5 rows x 32 columns]"
            ]
          },
          "metadata": {
            "tags": []
          },
          "execution_count": 1
        }
      ]
    },
    {
      "cell_type": "markdown",
      "metadata": {
        "id": "mOKNY-kdPCc6"
      },
      "source": [
        "In order to create this model, you will have to:\n",
        "1. Explore the data using visualizations and statistics\n",
        "    * What are the feature distributions (compute histograms for them)?\n",
        "    * Is the data correlated?\n",
        "        * Check Pearson correlation between columns. \n",
        "        * Try looking at the scatterplot of the dimensions.\n",
        "    * Can you remove unnecessary features?\n",
        "        * Alternatively, can you reduce the dimensionality of the data with PCA?\n",
        "2. Preprocess the data\n",
        "    * One-Hot-Encode categorical variable\n",
        "    * Check if you need to normalize the data\n",
        "3. Solve the classification problem using Auto-Sklearn. Try different dataset inputs.\n",
        "    * With / Without categorical feature\n",
        "    * With / Without normalization\n",
        "    * With / Without feature selection / PCA\n",
        "4. Explore the models using PipelineProfiler. What primitives perform well for this task?\n",
        "4. Select the best model out of your experiments (split the data in a 70/30 Training/Validation set)\n",
        "    \n",
        "    \n",
        "    "
      ]
    },
    {
      "cell_type": "markdown",
      "metadata": {
        "id": "KDK-TEgOPSc8"
      },
      "source": [
        "## Explore the data using visualizations and statistics\r\n",
        "* What are the feature distributions (compute histograms for them)?\r\n",
        "* Is the data correlated?\r\n",
        " * Check Pearson correlation between columns.\r\n",
        " * Try looking at the scatterplot of the dimensions.\r\n",
        "* Can you remove unnecessary features?\r\n",
        " * Alternatively, can you reduce the dimensionality of the data with PCA?"
      ]
    },
    {
      "cell_type": "markdown",
      "metadata": {
        "id": "Y7IvHdIZP3PD"
      },
      "source": [
        "### feature distributions"
      ]
    },
    {
      "cell_type": "code",
      "metadata": {
        "id": "RuHqC4c6RpO-"
      },
      "source": [
        "import matplotlib.pyplot as plt\r\n",
        "import numpy as np"
      ],
      "execution_count": 9,
      "outputs": []
    },
    {
      "cell_type": "code",
      "metadata": {
        "id": "5So-ZXR5Sala",
        "outputId": "b07705ce-8253-4265-f98f-36b951c5b117",
        "colab": {
          "base_uri": "https://localhost:8080/",
          "height": 265
        }
      },
      "source": [
        "\r\n",
        "num_list = [1.5,0.6,7.8,6]\r\n",
        "plt.bar(range(len(num_list)), num_list)\r\n",
        "plt.show()"
      ],
      "execution_count": 11,
      "outputs": [
        {
          "output_type": "display_data",
          "data": {
            "image/png": "[encoded data removed]",
            "text/plain": [
              "<Figure size 432x288 with 1 Axes>"
            ]
          },
          "metadata": {
            "tags": [],
            "needs_background": "light"
          }
        }
      ]
    },
    {
      "cell_type": "code",
      "metadata": {
        "id": "9JYWah65P1dO",
        "outputId": "0a0bed3f-1937-4c63-c660-e0a9c676d5ea",
        "colab": {
          "base_uri": "https://localhost:8080/"
        }
      },
      "source": [
        "x= df['X0'].iloc[np.where(df['y']==0)]\r\n",
        "print(x)"
      ],
      "execution_count": 28,
      "outputs": [
        {
          "output_type": "stream",
          "text": [
            "0       0.985703\n",
            "1       0.539816\n",
            "2      -1.424483\n",
            "3      -1.034157\n",
            "4       0.177091\n",
            "          ...   \n",
            "2992    0.936716\n",
            "2993    0.079692\n",
            "2994    0.637013\n",
            "2996    0.427700\n",
            "2998    0.151291\n",
            "Name: X0, Length: 2069, dtype: float64\n"
          ],
          "name": "stdout"
        }
      ]
    },
    {
      "cell_type": "code",
      "metadata": {
        "id": "SiZYjGRSXHGk",
        "outputId": "d0336e58-fc87-43a5-c284-861be048df7c",
        "colab": {
          "base_uri": "https://localhost:8080/",
          "height": 265
        }
      },
      "source": [
        "plt.bar(range(len(x)), x)\r\n",
        "plt.show()"
      ],
      "execution_count": 29,
      "outputs": [
        {
          "output_type": "display_data",
          "data": {
            "image/png": "[encoded data removed]",
            "text/plain": [
              "<Figure size 432x288 with 1 Axes>"
            ]
          },
          "metadata": {
            "tags": [],
            "needs_background": "light"
          }
        }
      ]
    },
    {
      "cell_type": "code",
      "metadata": {
        "id": "T9RQy6ZzY_Mb",
        "outputId": "c9b99675-6f8b-4360-9aa1-64c3ad77d297",
        "colab": {
          "base_uri": "https://localhost:8080/",
          "height": 382
        }
      },
      "source": [
        "import seaborn as sns\r\n",
        "sns.distplot(df['X29'], bins=3000, hist=True, kde=True, norm_hist=False, rug=True,\r\n",
        "             vertical=False, axlabel=None, label=None, ax=None,\r\n",
        "             fit=None)\r\n",
        "plt.title('df[X0]')\r\n",
        "plt.show()"
      ],
      "execution_count": 39,
      "outputs": [
        {
          "output_type": "stream",
          "text": [
            "/usr/local/lib/python3.7/dist-packages/seaborn/distributions.py:2557: FutureWarning: `distplot` is a deprecated function and will be removed in a future version. Please adapt your code to use either `displot` (a figure-level function with similar flexibility) or `histplot` (an axes-level function for histograms).\n",
            "  warnings.warn(msg, FutureWarning)\n",
            "/usr/local/lib/python3.7/dist-packages/seaborn/distributions.py:2056: FutureWarning: The `axis` variable is no longer used and will be removed. Instead, assign variables directly to `x` or `y`.\n",
            "  warnings.warn(msg, FutureWarning)\n"
          ],
          "name": "stderr"
        },
        {
          "output_type": "display_data",
          "data": {
            "image/png": "[encoded data removed]",
            "text/plain": [
              "<Figure size 432x288 with 1 Axes>"
            ]
          },
          "metadata": {
            "tags": [],
            "needs_background": "light"
          }
        }
      ]
    },
    {
      "cell_type": "markdown",
      "metadata": {
        "id": "YOKzCjHlPCc9"
      },
      "source": [
        "### Homework submission\n",
        "\n",
        "You should submit your homework on github classroom. The submission should contain:\n",
        "- Jupyter Notebook with the code and output of your experiments\n",
        "- Report (PDF) describing your experiments and results (steps 1-5)\n",
        "    - Data insights (visualizations)\n",
        "    - AutoML experiments\n",
        "    - PipelineProfiler insights (best pipeline in the ensemble, primitives most correlated with high scores, ...)\n",
        "    - What is the best model accuracy on held out data?"
      ]
    },
    {
      "cell_type": "code",
      "metadata": {
        "id": "L4N0VIQWPCc_"
      },
      "source": [
        ""
      ],
      "execution_count": null,
      "outputs": []
    }
  ]
}